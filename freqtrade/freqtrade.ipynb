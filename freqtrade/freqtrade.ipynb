{
 "cells": [
  {
   "cell_type": "code",
   "execution_count": 1,
   "id": "5e84f7c3",
   "metadata": {},
   "outputs": [
    {
     "name": "stdout",
     "output_type": "stream",
     "text": [
      "hello\n"
     ]
    }
   ],
   "source": [
    "print(\"hello\")"
   ]
  },
  {
   "cell_type": "code",
   "execution_count": 10,
   "id": "5312060d",
   "metadata": {},
   "outputs": [
    {
     "name": "stdout",
     "output_type": "stream",
     "text": [
      "Requirement already satisfied: freqtrade in c:\\users\\thrynillan\\appdata\\roaming\\python\\python310\\site-packages (2022.5)\n",
      "Requirement already satisfied: pandas in c:\\python310\\lib\\site-packages (from freqtrade) (1.4.0)\n",
      "Requirement already satisfied: sdnotify in c:\\python310\\lib\\site-packages (from freqtrade) (0.3.2)\n",
      "Requirement already satisfied: python-telegram-bot>=13.4 in c:\\users\\thrynillan\\appdata\\roaming\\python\\python310\\site-packages (from freqtrade) (13.12)\n",
      "Requirement already satisfied: psutil in c:\\python310\\lib\\site-packages (from freqtrade) (5.9.1)\n",
      "Requirement already satisfied: jsonschema in c:\\python310\\lib\\site-packages (from freqtrade) (4.5.1)\n",
      "Requirement already satisfied: pycoingecko in c:\\users\\thrynillan\\appdata\\roaming\\python\\python310\\site-packages (from freqtrade) (2.2.0)\n",
      "Requirement already satisfied: arrow>=0.17.0 in c:\\python310\\lib\\site-packages (from freqtrade) (1.2.1)\n",
      "Requirement already satisfied: requests in c:\\python310\\lib\\site-packages (from freqtrade) (2.26.0)\n",
      "Requirement already satisfied: numpy in c:\\python310\\lib\\site-packages (from freqtrade) (1.22.2)\n",
      "Requirement already satisfied: colorama in c:\\python310\\lib\\site-packages (from freqtrade) (0.4.4)\n",
      "Requirement already satisfied: prompt-toolkit in c:\\python310\\lib\\site-packages (from freqtrade) (3.0.29)\n",
      "Requirement already satisfied: technical in c:\\users\\thrynillan\\appdata\\roaming\\python\\python310\\site-packages (from freqtrade) (1.3.0)\n",
      "Requirement already satisfied: aiofiles in c:\\python310\\lib\\site-packages (from freqtrade) (0.7.0)\n",
      "Requirement already satisfied: questionary in c:\\users\\thrynillan\\appdata\\roaming\\python\\python310\\site-packages (from freqtrade) (1.10.0)\n",
      "Requirement already satisfied: pyjwt in c:\\users\\thrynillan\\appdata\\roaming\\python\\python310\\site-packages (from freqtrade) (2.4.0)\n",
      "Requirement already satisfied: orjson in c:\\users\\thrynillan\\appdata\\roaming\\python\\python310\\site-packages (from freqtrade) (3.7.3)\n",
      "Requirement already satisfied: uvicorn in c:\\python310\\lib\\site-packages (from freqtrade) (0.14.0)\n",
      "Requirement already satisfied: urllib3 in c:\\python310\\lib\\site-packages (from freqtrade) (1.26.9)\n",
      "Requirement already satisfied: TA-Lib in c:\\python310\\lib\\site-packages (from freqtrade) (0.4.24)\n",
      "Requirement already satisfied: ccxt>=1.83.12 in c:\\users\\thrynillan\\appdata\\roaming\\python\\python310\\site-packages (from freqtrade) (1.89.5)\n",
      "Requirement already satisfied: tabulate in c:\\python310\\lib\\site-packages (from freqtrade) (0.8.9)\n",
      "Requirement already satisfied: SQLAlchemy in c:\\users\\thrynillan\\appdata\\roaming\\python\\python310\\site-packages (from freqtrade) (1.4.39)\n",
      "Requirement already satisfied: pandas-ta in c:\\users\\thrynillan\\appdata\\roaming\\python\\python310\\site-packages (from freqtrade) (0.3.14b0)\n",
      "Requirement already satisfied: tables in c:\\users\\thrynillan\\appdata\\roaming\\python\\python310\\site-packages (from freqtrade) (3.7.0)\n",
      "Requirement already satisfied: blosc in c:\\python310\\lib\\site-packages (from freqtrade) (1.10.6)\n",
      "Requirement already satisfied: python-rapidjson in c:\\users\\thrynillan\\appdata\\roaming\\python\\python310\\site-packages (from freqtrade) (1.6)\n",
      "Requirement already satisfied: jinja2 in c:\\python310\\lib\\site-packages (from freqtrade) (3.1.2)\n",
      "Requirement already satisfied: cachetools in c:\\users\\thrynillan\\appdata\\roaming\\python\\python310\\site-packages (from freqtrade) (4.2.2)\n",
      "Requirement already satisfied: fastapi in c:\\python310\\lib\\site-packages (from freqtrade) (0.74.0)\n",
      "Requirement already satisfied: schedule in c:\\users\\thrynillan\\appdata\\roaming\\python\\python310\\site-packages (from freqtrade) (1.1.0)\n",
      "Requirement already satisfied: py-find-1st in c:\\users\\thrynillan\\appdata\\roaming\\python\\python310\\site-packages (from freqtrade) (1.1.5)\n",
      "Requirement already satisfied: python-dateutil>=2.7.0 in c:\\python310\\lib\\site-packages (from arrow>=0.17.0->freqtrade) (2.8.2)\n",
      "Requirement already satisfied: cryptography>=2.6.1 in c:\\users\\thrynillan\\appdata\\roaming\\python\\python310\\site-packages (from ccxt>=1.83.12->freqtrade) (37.0.2)\n",
      "Requirement already satisfied: aiohttp>=3.8 in c:\\users\\thrynillan\\appdata\\roaming\\python\\python310\\site-packages (from ccxt>=1.83.12->freqtrade) (3.8.1)\n",
      "Requirement already satisfied: yarl==1.7.2 in c:\\users\\thrynillan\\appdata\\roaming\\python\\python310\\site-packages (from ccxt>=1.83.12->freqtrade) (1.7.2)\n",
      "Requirement already satisfied: aiodns>=1.1.1 in c:\\users\\thrynillan\\appdata\\roaming\\python\\python310\\site-packages (from ccxt>=1.83.12->freqtrade) (3.0.0)\n",
      "Requirement already satisfied: certifi>=2018.1.18 in c:\\python310\\lib\\site-packages (from ccxt>=1.83.12->freqtrade) (2022.5.18.1)\n",
      "Requirement already satisfied: setuptools>=60.9.0 in c:\\users\\thrynillan\\appdata\\roaming\\python\\python310\\site-packages (from ccxt>=1.83.12->freqtrade) (62.6.0)\n",
      "Requirement already satisfied: idna>=2.0 in c:\\python310\\lib\\site-packages (from yarl==1.7.2->ccxt>=1.83.12->freqtrade) (3.3)\n",
      "Requirement already satisfied: multidict>=4.0 in c:\\users\\thrynillan\\appdata\\roaming\\python\\python310\\site-packages (from yarl==1.7.2->ccxt>=1.83.12->freqtrade) (6.0.2)\n",
      "Requirement already satisfied: pytz>=2018.6 in c:\\python310\\lib\\site-packages (from python-telegram-bot>=13.4->freqtrade) (2022.1)\n",
      "Requirement already satisfied: APScheduler==3.6.3 in c:\\users\\thrynillan\\appdata\\roaming\\python\\python310\\site-packages (from python-telegram-bot>=13.4->freqtrade) (3.6.3)\n",
      "Requirement already satisfied: tornado>=6.1 in c:\\python310\\lib\\site-packages (from python-telegram-bot>=13.4->freqtrade) (6.1)\n",
      "Requirement already satisfied: tzlocal>=1.2 in c:\\users\\thrynillan\\appdata\\roaming\\python\\python310\\site-packages (from APScheduler==3.6.3->python-telegram-bot>=13.4->freqtrade) (4.2)\n",
      "Requirement already satisfied: six>=1.4.0 in c:\\python310\\lib\\site-packages (from APScheduler==3.6.3->python-telegram-bot>=13.4->freqtrade) (1.16.0)\n",
      "Requirement already satisfied: charset-normalizer~=2.0.0 in c:\\python310\\lib\\site-packages (from requests->freqtrade) (2.0.12)\n",
      "Requirement already satisfied: starlette==0.17.1 in c:\\python310\\lib\\site-packages (from fastapi->freqtrade) (0.17.1)\n",
      "Requirement already satisfied: pydantic!=1.7,!=1.7.1,!=1.7.2,!=1.7.3,!=1.8,!=1.8.1,<2.0.0,>=1.6.2 in c:\\python310\\lib\\site-packages (from fastapi->freqtrade) (1.9.1)\n",
      "Requirement already satisfied: anyio<4,>=3.0.0 in c:\\python310\\lib\\site-packages (from starlette==0.17.1->fastapi->freqtrade) (3.6.1)\n",
      "Requirement already satisfied: MarkupSafe>=2.0 in c:\\python310\\lib\\site-packages (from jinja2->freqtrade) (2.1.1)\n",
      "Requirement already satisfied: attrs>=17.4.0 in c:\\python310\\lib\\site-packages (from jsonschema->freqtrade) (21.4.0)\n",
      "Requirement already satisfied: pyrsistent!=0.17.0,!=0.17.1,!=0.17.2,>=0.14.0 in c:\\python310\\lib\\site-packages (from jsonschema->freqtrade) (0.18.1)\n",
      "Requirement already satisfied: wcwidth in c:\\python310\\lib\\site-packages (from prompt-toolkit->freqtrade) (0.2.5)\n",
      "Requirement already satisfied: greenlet!=0.4.17 in c:\\users\\thrynillan\\appdata\\roaming\\python\\python310\\site-packages (from SQLAlchemy->freqtrade) (1.1.2)\n",
      "Requirement already satisfied: numexpr>=2.6.2 in c:\\users\\thrynillan\\appdata\\roaming\\python\\python310\\site-packages (from tables->freqtrade) (2.8.3)\n",
      "Requirement already satisfied: packaging in c:\\python310\\lib\\site-packages (from tables->freqtrade) (21.3)\n",
      "Requirement already satisfied: click>=7.* in c:\\python310\\lib\\site-packages (from uvicorn->freqtrade) (8.0.3)\n",
      "Requirement already satisfied: h11>=0.8 in c:\\python310\\lib\\site-packages (from uvicorn->freqtrade) (0.13.0)\n",
      "Requirement already satisfied: asgiref>=3.3.4 in c:\\python310\\lib\\site-packages (from uvicorn->freqtrade) (3.5.2)\n",
      "Requirement already satisfied: pycares>=4.0.0 in c:\\users\\thrynillan\\appdata\\roaming\\python\\python310\\site-packages (from aiodns>=1.1.1->ccxt>=1.83.12->freqtrade) (4.2.0)\n",
      "Requirement already satisfied: aiosignal>=1.1.2 in c:\\users\\thrynillan\\appdata\\roaming\\python\\python310\\site-packages (from aiohttp>=3.8->ccxt>=1.83.12->freqtrade) (1.2.0)\n",
      "Requirement already satisfied: async-timeout<5.0,>=4.0.0a3 in c:\\python310\\lib\\site-packages (from aiohttp>=3.8->ccxt>=1.83.12->freqtrade) (4.0.2)\n",
      "Requirement already satisfied: frozenlist>=1.1.1 in c:\\users\\thrynillan\\appdata\\roaming\\python\\python310\\site-packages (from aiohttp>=3.8->ccxt>=1.83.12->freqtrade) (1.3.0)\n",
      "Requirement already satisfied: cffi>=1.12 in c:\\python310\\lib\\site-packages (from cryptography>=2.6.1->ccxt>=1.83.12->freqtrade) (1.15.0)\n",
      "Requirement already satisfied: typing-extensions>=3.7.4.3 in c:\\python310\\lib\\site-packages (from pydantic!=1.7,!=1.7.1,!=1.7.2,!=1.7.3,!=1.8,!=1.8.1,<2.0.0,>=1.6.2->fastapi->freqtrade) (4.2.0)\n",
      "Requirement already satisfied: pyparsing!=3.0.5,>=2.0.2 in c:\\python310\\lib\\site-packages (from packaging->tables->freqtrade) (3.0.9)\n",
      "Requirement already satisfied: sniffio>=1.1 in c:\\python310\\lib\\site-packages (from anyio<4,>=3.0.0->starlette==0.17.1->fastapi->freqtrade) (1.2.0)\n",
      "Requirement already satisfied: pycparser in c:\\python310\\lib\\site-packages (from cffi>=1.12->cryptography>=2.6.1->ccxt>=1.83.12->freqtrade) (2.21)\n",
      "Requirement already satisfied: tzdata in c:\\users\\thrynillan\\appdata\\roaming\\python\\python310\\site-packages (from tzlocal>=1.2->APScheduler==3.6.3->python-telegram-bot>=13.4->freqtrade) (2022.1)\n",
      "Requirement already satisfied: pytz-deprecation-shim in c:\\users\\thrynillan\\appdata\\roaming\\python\\python310\\site-packages (from tzlocal>=1.2->APScheduler==3.6.3->python-telegram-bot>=13.4->freqtrade) (0.1.0.post0)\n",
      "Note: you may need to restart the kernel to use updated packages.\n",
      "installed\n"
     ]
    },
    {
     "name": "stderr",
     "output_type": "stream",
     "text": [
      "WARNING: There was an error checking the latest version of pip.\n"
     ]
    }
   ],
   "source": [
    "%pip install freqtrade --user\n",
    "print(\"installed\")"
   ]
  },
  {
   "cell_type": "code",
   "execution_count": 7,
   "id": "0f978066",
   "metadata": {},
   "outputs": [],
   "source": [
    "import sys\n",
    "if \"C:\\\\Users\\\\thrynillan\\\\AppData\\\\Roaming\\\\Python\\\\Python310\\\\Scripts\" not in sys.path:\n",
    "    sys.path.append(\"C:\\\\Users\\\\thrynillan\\\\AppData\\\\Roaming\\\\Python\\\\Python310\\\\Scripts\")\n",
    "\n",
    "\n",
    "from pathlib import Path\n",
    "from freqtrade.configuration import Configuration\n",
    "\n",
    "# Customize these according to your needs.\n",
    "\n",
    "# Initialize empty configuration object\n",
    "config = Configuration.from_files([])\n",
    "# Optionally, use existing configuration file\n",
    "# config = Configuration.from_files([\"config.json\"])\n",
    "\n",
    "# Define some constants\n",
    "config[\"timeframe\"] = \"5m\"\n",
    "# Name of the strategy class\n",
    "config[\"strategy\"] = \"SampleStrategy\"\n",
    "# Location of the data\n",
    "data_location = Path(config['user_data_dir'], 'data', 'binance')\n",
    "# Pair to analyze - Only use one pair here\n",
    "pair = \"BTC/USDT\""
   ]
  },
  {
   "cell_type": "code",
   "execution_count": 20,
   "id": "ed534977",
   "metadata": {},
   "outputs": [
    {
     "name": "stdout",
     "output_type": "stream",
     "text": [
      "Loaded 8638 rows of data for BTC_USDT from user_data\\data\\binance\n"
     ]
    },
    {
     "data": {
      "text/html": [
       "<div>\n",
       "<style scoped>\n",
       "    .dataframe tbody tr th:only-of-type {\n",
       "        vertical-align: middle;\n",
       "    }\n",
       "\n",
       "    .dataframe tbody tr th {\n",
       "        vertical-align: top;\n",
       "    }\n",
       "\n",
       "    .dataframe thead th {\n",
       "        text-align: right;\n",
       "    }\n",
       "</style>\n",
       "<table border=\"1\" class=\"dataframe\">\n",
       "  <thead>\n",
       "    <tr style=\"text-align: right;\">\n",
       "      <th></th>\n",
       "      <th>date</th>\n",
       "      <th>open</th>\n",
       "      <th>high</th>\n",
       "      <th>low</th>\n",
       "      <th>close</th>\n",
       "      <th>volume</th>\n",
       "    </tr>\n",
       "  </thead>\n",
       "  <tbody>\n",
       "    <tr>\n",
       "      <th>0</th>\n",
       "      <td>2022-05-27 08:40:00+00:00</td>\n",
       "      <td>29083.07</td>\n",
       "      <td>29086.55</td>\n",
       "      <td>29029.39</td>\n",
       "      <td>29067.70</td>\n",
       "      <td>104.58581</td>\n",
       "    </tr>\n",
       "    <tr>\n",
       "      <th>1</th>\n",
       "      <td>2022-05-27 08:45:00+00:00</td>\n",
       "      <td>29067.71</td>\n",
       "      <td>29085.99</td>\n",
       "      <td>29045.35</td>\n",
       "      <td>29045.35</td>\n",
       "      <td>104.87373</td>\n",
       "    </tr>\n",
       "    <tr>\n",
       "      <th>2</th>\n",
       "      <td>2022-05-27 08:50:00+00:00</td>\n",
       "      <td>29045.35</td>\n",
       "      <td>29073.77</td>\n",
       "      <td>28949.24</td>\n",
       "      <td>28960.25</td>\n",
       "      <td>238.74515</td>\n",
       "    </tr>\n",
       "    <tr>\n",
       "      <th>3</th>\n",
       "      <td>2022-05-27 08:55:00+00:00</td>\n",
       "      <td>28960.25</td>\n",
       "      <td>29020.00</td>\n",
       "      <td>28922.44</td>\n",
       "      <td>28940.95</td>\n",
       "      <td>339.94499</td>\n",
       "    </tr>\n",
       "    <tr>\n",
       "      <th>4</th>\n",
       "      <td>2022-05-27 09:00:00+00:00</td>\n",
       "      <td>28940.95</td>\n",
       "      <td>28962.03</td>\n",
       "      <td>28900.85</td>\n",
       "      <td>28917.94</td>\n",
       "      <td>297.83196</td>\n",
       "    </tr>\n",
       "  </tbody>\n",
       "</table>\n",
       "</div>"
      ],
      "text/plain": [
       "                       date      open      high       low     close     volume\n",
       "0 2022-05-27 08:40:00+00:00  29083.07  29086.55  29029.39  29067.70  104.58581\n",
       "1 2022-05-27 08:45:00+00:00  29067.71  29085.99  29045.35  29045.35  104.87373\n",
       "2 2022-05-27 08:50:00+00:00  29045.35  29073.77  28949.24  28960.25  238.74515\n",
       "3 2022-05-27 08:55:00+00:00  28960.25  29020.00  28922.44  28940.95  339.94499\n",
       "4 2022-05-27 09:00:00+00:00  28940.95  28962.03  28900.85  28917.94  297.83196"
      ]
     },
     "execution_count": 20,
     "metadata": {},
     "output_type": "execute_result"
    }
   ],
   "source": [
    "from pathlib import Path\n",
    "from freqtrade.data.history import load_pair_history\n",
    "\n",
    "# Customize these according to your needs.\n",
    "\n",
    "# Define some constants\n",
    "ticker_interval = \"5m\"\n",
    "# Name of the strategy class\n",
    "strategy_name = 'SampleStrategy'\n",
    "# Path to user data\n",
    "user_data_dir = 'user_data'\n",
    "# Location of the strategy\n",
    "strategy_location = Path(user_data_dir, 'strategies')\n",
    "# Location of the data\n",
    "data_location = Path(user_data_dir, 'data', 'binance')\n",
    "# Pair to analyze - Only use one pair here\n",
    "pair = \"BTC_USDT\"\n",
    "\n",
    "# Load data using values set above\n",
    "# Load data using values set above\n",
    "candles = load_pair_history(datadir=data_location,\n",
    "                            timeframe=ticker_interval,\n",
    "                            pair=pair)\n",
    "\n",
    "# Confirm success\n",
    "print(f\"Loaded {len(candles)} rows of data for {pair} from {data_location}\")\n",
    "candles.head()\n"
   ]
  },
  {
   "cell_type": "code",
   "execution_count": 47,
   "id": "4dab070a",
   "metadata": {},
   "outputs": [
    {
     "data": {
      "application/vnd.plotly.v1+json": {
       "config": {
        "plotlyServerURL": "https://plot.ly"
       },
       "data": [
        {
         "close": [
          28996.78,
          28941.22,
          28963.81,
          28957.23,
          28942.78,
          28942.4,
          28949.07,
          28943.31,
          28978.88,
          28993.25,
          29069.78,
          29037.98,
          29013.69,
          28995.32,
          29020,
          28988.21,
          28999.99,
          28995.79,
          28976.2,
          28977.36,
          29023,
          29031,
          29038.68,
          29012.69,
          28985.96,
          28990.95,
          28953.54,
          28907.5,
          28875.39,
          28834.68,
          28836.16,
          28940.28,
          28890,
          28895.2,
          28893.12,
          28858.81,
          28891.39,
          28883.64,
          28870.95,
          28886.61,
          28901.93,
          28910.93,
          28918.67,
          28934.46,
          28938.98,
          28940.89,
          28960.39,
          28975.08,
          28951.29,
          28970,
          28986.16,
          29001.74,
          28998.55,
          28989.15,
          28966.31,
          28964.59,
          28964.59,
          28948.52,
          28943.04,
          28974.07,
          28986.36,
          29026.4,
          29049.27,
          29019.82,
          29007.09,
          29018.7,
          29002.58,
          29034.81,
          29003.77,
          29014.48,
          28997.95,
          29009.38,
          29001.23,
          28998.56,
          29021.49,
          29026.27,
          29036.15,
          29016.41,
          29012.77,
          29026.6,
          28991.91,
          29012.28,
          29012.29,
          29015.44,
          29026.84,
          29020.61,
          29024.18,
          29017.47,
          28979.3,
          28997.34
         ],
         "high": [
          28999.85,
          28996.78,
          28972.96,
          28972.48,
          28962,
          28968.19,
          28949.07,
          28973.66,
          28978.91,
          28996.65,
          29079.29,
          29089.32,
          29037.99,
          29023.14,
          29042.74,
          29020.01,
          29000,
          29002.91,
          29008.08,
          28977.37,
          29023,
          29050,
          29043.05,
          29038.69,
          29012.7,
          29010,
          28993.19,
          28956.07,
          28911.82,
          28875.39,
          28836.36,
          29030,
          28982.25,
          28900.45,
          28911.83,
          28909.82,
          28892.86,
          28900,
          28887.2,
          28895.35,
          28913.55,
          28916.75,
          28918.69,
          28943.73,
          28947.68,
          28953.49,
          28970,
          28985.2,
          28976.19,
          28970.85,
          28995.78,
          29019.16,
          29019.3,
          29006.7,
          28989.15,
          28973.44,
          28964.59,
          28964.59,
          28955.52,
          28975.13,
          28989.98,
          29026.41,
          29067.01,
          29049.28,
          29042.22,
          29024.36,
          29020.16,
          29034.82,
          29037.02,
          29026.19,
          29014.48,
          29009.39,
          29013.71,
          29001.23,
          29021.49,
          29027.74,
          29044.92,
          29060,
          29022.22,
          29026.91,
          29030,
          29038.56,
          29012.29,
          29016.6,
          29032.95,
          29026.84,
          29027.12,
          29041.42,
          29017.47,
          28997.96
         ],
         "low": [
          28979.96,
          28930,
          28941.22,
          28956.03,
          28890,
          28935.75,
          28928.11,
          28942.2,
          28943.31,
          28964.36,
          28993.22,
          29037.07,
          29004.26,
          28990.33,
          28995.31,
          28982.04,
          28957.89,
          28981.66,
          28975.95,
          28938.2,
          28977.36,
          29015.45,
          29029.54,
          29000.1,
          28973.24,
          28985.96,
          28949.57,
          28902.84,
          28869.91,
          28829.19,
          28833.75,
          28784.48,
          28856.26,
          28845.89,
          28870.92,
          28857.12,
          28858.79,
          28862.81,
          28867.16,
          28870.94,
          28886.6,
          28891.84,
          28901.76,
          28910.56,
          28934.46,
          28938.98,
          28940.89,
          28960.39,
          28945.48,
          28951.28,
          28966.18,
          28978.59,
          28990.2,
          28979.35,
          28965.55,
          28950,
          28964.58,
          28944.87,
          28943.04,
          28943.03,
          28974.06,
          28986.35,
          29026.4,
          29015.96,
          29001.95,
          29002.4,
          29000,
          29002.58,
          28999.12,
          28994.66,
          28996.52,
          28985.43,
          29001.22,
          28991.89,
          28998.55,
          28998.03,
          29024.81,
          29016.41,
          29010.72,
          29012.77,
          28991.9,
          28991.9,
          29008.07,
          29011.07,
          29015.44,
          29018.5,
          29008.07,
          29011.59,
          28960,
          28979.17
         ],
         "name": "Price",
         "open": [
          28987.26,
          28996.78,
          28941.23,
          28963.8,
          28957.23,
          28942.78,
          28942.41,
          28949.07,
          28943.31,
          28978.88,
          28993.25,
          29069.78,
          29037.98,
          29013.69,
          28995.32,
          29020,
          28988.2,
          29000,
          28995.79,
          28976.21,
          28977.37,
          29023,
          29031,
          29038.68,
          29012.69,
          28985.96,
          28990.96,
          28953.55,
          28907.5,
          28875.39,
          28834.68,
          28836.16,
          28940.29,
          28890,
          28895.19,
          28893.12,
          28858.81,
          28891.39,
          28883.64,
          28870.94,
          28886.61,
          28901.94,
          28910.94,
          28918.67,
          28934.46,
          28938.99,
          28940.89,
          28960.39,
          28975.08,
          28951.29,
          28970.01,
          28986.16,
          29001.74,
          28998.55,
          28989.15,
          28966.32,
          28964.59,
          28964.59,
          28948.51,
          28943.04,
          28974.06,
          28986.35,
          29026.4,
          29049.27,
          29019.81,
          29007.09,
          29018.71,
          29002.58,
          29034.82,
          29003.78,
          29014.47,
          28997.96,
          29009.38,
          29001.23,
          28998.55,
          29021.49,
          29026.27,
          29036.14,
          29016.41,
          29012.77,
          29026.6,
          28991.91,
          29012.28,
          29012.29,
          29015.44,
          29026.83,
          29020.61,
          29024.17,
          29017.46,
          28979.3
         ],
         "type": "candlestick",
         "x": [
          "2022-05-28T14:40:00+00:00",
          "2022-05-28T14:45:00+00:00",
          "2022-05-28T14:50:00+00:00",
          "2022-05-28T14:55:00+00:00",
          "2022-05-28T15:00:00+00:00",
          "2022-05-28T15:05:00+00:00",
          "2022-05-28T15:10:00+00:00",
          "2022-05-28T15:15:00+00:00",
          "2022-05-28T15:20:00+00:00",
          "2022-05-28T15:25:00+00:00",
          "2022-05-28T15:30:00+00:00",
          "2022-05-28T15:35:00+00:00",
          "2022-05-28T15:40:00+00:00",
          "2022-05-28T15:45:00+00:00",
          "2022-05-28T15:50:00+00:00",
          "2022-05-28T15:55:00+00:00",
          "2022-05-28T16:00:00+00:00",
          "2022-05-28T16:05:00+00:00",
          "2022-05-28T16:10:00+00:00",
          "2022-05-28T16:15:00+00:00",
          "2022-05-28T16:20:00+00:00",
          "2022-05-28T16:25:00+00:00",
          "2022-05-28T16:30:00+00:00",
          "2022-05-28T16:35:00+00:00",
          "2022-05-28T16:40:00+00:00",
          "2022-05-28T16:45:00+00:00",
          "2022-05-28T16:50:00+00:00",
          "2022-05-28T16:55:00+00:00",
          "2022-05-28T17:00:00+00:00",
          "2022-05-28T17:05:00+00:00",
          "2022-05-28T17:10:00+00:00",
          "2022-05-28T17:15:00+00:00",
          "2022-05-28T17:20:00+00:00",
          "2022-05-28T17:25:00+00:00",
          "2022-05-28T17:30:00+00:00",
          "2022-05-28T17:35:00+00:00",
          "2022-05-28T17:40:00+00:00",
          "2022-05-28T17:45:00+00:00",
          "2022-05-28T17:50:00+00:00",
          "2022-05-28T17:55:00+00:00",
          "2022-05-28T18:00:00+00:00",
          "2022-05-28T18:05:00+00:00",
          "2022-05-28T18:10:00+00:00",
          "2022-05-28T18:15:00+00:00",
          "2022-05-28T18:20:00+00:00",
          "2022-05-28T18:25:00+00:00",
          "2022-05-28T18:30:00+00:00",
          "2022-05-28T18:35:00+00:00",
          "2022-05-28T18:40:00+00:00",
          "2022-05-28T18:45:00+00:00",
          "2022-05-28T18:50:00+00:00",
          "2022-05-28T18:55:00+00:00",
          "2022-05-28T19:00:00+00:00",
          "2022-05-28T19:05:00+00:00",
          "2022-05-28T19:10:00+00:00",
          "2022-05-28T19:15:00+00:00",
          "2022-05-28T19:20:00+00:00",
          "2022-05-28T19:25:00+00:00",
          "2022-05-28T19:30:00+00:00",
          "2022-05-28T19:35:00+00:00",
          "2022-05-28T19:40:00+00:00",
          "2022-05-28T19:45:00+00:00",
          "2022-05-28T19:50:00+00:00",
          "2022-05-28T19:55:00+00:00",
          "2022-05-28T20:00:00+00:00",
          "2022-05-28T20:05:00+00:00",
          "2022-05-28T20:10:00+00:00",
          "2022-05-28T20:15:00+00:00",
          "2022-05-28T20:20:00+00:00",
          "2022-05-28T20:25:00+00:00",
          "2022-05-28T20:30:00+00:00",
          "2022-05-28T20:35:00+00:00",
          "2022-05-28T20:40:00+00:00",
          "2022-05-28T20:45:00+00:00",
          "2022-05-28T20:50:00+00:00",
          "2022-05-28T20:55:00+00:00",
          "2022-05-28T21:00:00+00:00",
          "2022-05-28T21:05:00+00:00",
          "2022-05-28T21:10:00+00:00",
          "2022-05-28T21:15:00+00:00",
          "2022-05-28T21:20:00+00:00",
          "2022-05-28T21:25:00+00:00",
          "2022-05-28T21:30:00+00:00",
          "2022-05-28T21:35:00+00:00",
          "2022-05-28T21:40:00+00:00",
          "2022-05-28T21:45:00+00:00",
          "2022-05-28T21:50:00+00:00",
          "2022-05-28T21:55:00+00:00",
          "2022-05-28T22:00:00+00:00",
          "2022-05-28T22:05:00+00:00"
         ],
         "xaxis": "x",
         "yaxis": "y"
        },
        {
         "marker": {
          "color": "green",
          "line": {
           "width": 1
          },
          "size": 9,
          "symbol": "triangle-up-dot"
         },
         "mode": "markers",
         "name": "enter_long",
         "type": "scatter",
         "x": [
          "2022-05-28T17:15:00+00:00"
         ],
         "xaxis": "x",
         "y": [
          28940.28
         ],
         "yaxis": "y"
        },
        {
         "marker": {
          "color": "violet",
          "line": {
           "width": 1
          },
          "size": 9,
          "symbol": "triangle-up-dot"
         },
         "mode": "markers",
         "name": "exit_short",
         "type": "scatter",
         "x": [
          "2022-05-28T17:15:00+00:00"
         ],
         "xaxis": "x",
         "y": [
          28940.28
         ],
         "yaxis": "y"
        },
        {
         "line": {
          "color": "rgba(255,255,255,0)"
         },
         "showlegend": false,
         "type": "scatter",
         "x": [
          "2022-05-28T14:40:00+00:00",
          "2022-05-28T14:45:00+00:00",
          "2022-05-28T14:50:00+00:00",
          "2022-05-28T14:55:00+00:00",
          "2022-05-28T15:00:00+00:00",
          "2022-05-28T15:05:00+00:00",
          "2022-05-28T15:10:00+00:00",
          "2022-05-28T15:15:00+00:00",
          "2022-05-28T15:20:00+00:00",
          "2022-05-28T15:25:00+00:00",
          "2022-05-28T15:30:00+00:00",
          "2022-05-28T15:35:00+00:00",
          "2022-05-28T15:40:00+00:00",
          "2022-05-28T15:45:00+00:00",
          "2022-05-28T15:50:00+00:00",
          "2022-05-28T15:55:00+00:00",
          "2022-05-28T16:00:00+00:00",
          "2022-05-28T16:05:00+00:00",
          "2022-05-28T16:10:00+00:00",
          "2022-05-28T16:15:00+00:00",
          "2022-05-28T16:20:00+00:00",
          "2022-05-28T16:25:00+00:00",
          "2022-05-28T16:30:00+00:00",
          "2022-05-28T16:35:00+00:00",
          "2022-05-28T16:40:00+00:00",
          "2022-05-28T16:45:00+00:00",
          "2022-05-28T16:50:00+00:00",
          "2022-05-28T16:55:00+00:00",
          "2022-05-28T17:00:00+00:00",
          "2022-05-28T17:05:00+00:00",
          "2022-05-28T17:10:00+00:00",
          "2022-05-28T17:15:00+00:00",
          "2022-05-28T17:20:00+00:00",
          "2022-05-28T17:25:00+00:00",
          "2022-05-28T17:30:00+00:00",
          "2022-05-28T17:35:00+00:00",
          "2022-05-28T17:40:00+00:00",
          "2022-05-28T17:45:00+00:00",
          "2022-05-28T17:50:00+00:00",
          "2022-05-28T17:55:00+00:00",
          "2022-05-28T18:00:00+00:00",
          "2022-05-28T18:05:00+00:00",
          "2022-05-28T18:10:00+00:00",
          "2022-05-28T18:15:00+00:00",
          "2022-05-28T18:20:00+00:00",
          "2022-05-28T18:25:00+00:00",
          "2022-05-28T18:30:00+00:00",
          "2022-05-28T18:35:00+00:00",
          "2022-05-28T18:40:00+00:00",
          "2022-05-28T18:45:00+00:00",
          "2022-05-28T18:50:00+00:00",
          "2022-05-28T18:55:00+00:00",
          "2022-05-28T19:00:00+00:00",
          "2022-05-28T19:05:00+00:00",
          "2022-05-28T19:10:00+00:00",
          "2022-05-28T19:15:00+00:00",
          "2022-05-28T19:20:00+00:00",
          "2022-05-28T19:25:00+00:00",
          "2022-05-28T19:30:00+00:00",
          "2022-05-28T19:35:00+00:00",
          "2022-05-28T19:40:00+00:00",
          "2022-05-28T19:45:00+00:00",
          "2022-05-28T19:50:00+00:00",
          "2022-05-28T19:55:00+00:00",
          "2022-05-28T20:00:00+00:00",
          "2022-05-28T20:05:00+00:00",
          "2022-05-28T20:10:00+00:00",
          "2022-05-28T20:15:00+00:00",
          "2022-05-28T20:20:00+00:00",
          "2022-05-28T20:25:00+00:00",
          "2022-05-28T20:30:00+00:00",
          "2022-05-28T20:35:00+00:00",
          "2022-05-28T20:40:00+00:00",
          "2022-05-28T20:45:00+00:00",
          "2022-05-28T20:50:00+00:00",
          "2022-05-28T20:55:00+00:00",
          "2022-05-28T21:00:00+00:00",
          "2022-05-28T21:05:00+00:00",
          "2022-05-28T21:10:00+00:00",
          "2022-05-28T21:15:00+00:00",
          "2022-05-28T21:20:00+00:00",
          "2022-05-28T21:25:00+00:00",
          "2022-05-28T21:30:00+00:00",
          "2022-05-28T21:35:00+00:00",
          "2022-05-28T21:40:00+00:00",
          "2022-05-28T21:45:00+00:00",
          "2022-05-28T21:50:00+00:00",
          "2022-05-28T21:55:00+00:00",
          "2022-05-28T22:00:00+00:00",
          "2022-05-28T22:05:00+00:00"
         ],
         "xaxis": "x",
         "y": [
          28945.053371418697,
          28940.44432912655,
          28930.44492757372,
          28928.39976264043,
          28921.834092976627,
          28915.560457789248,
          28906.311726979373,
          28903.285857219533,
          28901.782190247894,
          28902.89973919053,
          28904.992406856414,
          28906.760832954376,
          28914.73619962598,
          28919.23957083861,
          28918.885106445545,
          28918.918837402918,
          28918.47151674552,
          28918.403114526984,
          28918.206868221816,
          28916.197754429464,
          28916.18789523041,
          28918.125005297567,
          28920.087843116766,
          28923.448434067923,
          28932.794770601224,
          28939.310487978957,
          28944.395378951784,
          28936.055003177375,
          28915.0606223942,
          28884.069779279216,
          28856.92010897489,
          28852.980527543295,
          28846.69074084751,
          28836.13320758055,
          28829.615244968383,
          28820.65179463009,
          28813.502397525863,
          28807.710202131424,
          28801.662984560473,
          28797.092396030166,
          28797.10962085859,
          28802.242584518594,
          28811.74773865795,
          28820.994316306602,
          28826.79228106436,
          28834.942463080228,
          28836.239560889793,
          28831.075790922285,
          28830.8362720631,
          28837.67367583167,
          28847.46220982727,
          28842.737119188125,
          28840.035306278893,
          28843.940384570247,
          28848.39817123906,
          28857.036720286425,
          28865.60420830438,
          28874.862471546676,
          28887.070697171428,
          28899.35898332757,
          28908.75565868712,
          28915.60435003295,
          28916.46276060486,
          28919.98785626641,
          28924.03688435485,
          28928.45331801171,
          28931.710128807445,
          28932.34455418617,
          28936.33990966014,
          28939.815812950408,
          28941.047832196782,
          28941.099953981593,
          28941.155580984294,
          28941.47310756209,
          28944.084423626682,
          28948.974712544128,
          28953.436197834508,
          28962.431788498572,
          28975.99831293244,
          28986.681035343998,
          28991.350238766416,
          28991.43613236484,
          28994.369896442622,
          28994.76714968001,
          28994.543822356274,
          28994.57542652504,
          28995.328792528213,
          28995.353494160256,
          28989.958004099997,
          28986.95006217773
         ],
         "yaxis": "y"
        },
        {
         "fill": "tonexty",
         "fillcolor": "rgba(0,176,246,0.2)",
         "line": {
          "color": "rgba(255,255,255,0)"
         },
         "name": "Bollinger Band",
         "type": "scatter",
         "x": [
          "2022-05-28T14:40:00+00:00",
          "2022-05-28T14:45:00+00:00",
          "2022-05-28T14:50:00+00:00",
          "2022-05-28T14:55:00+00:00",
          "2022-05-28T15:00:00+00:00",
          "2022-05-28T15:05:00+00:00",
          "2022-05-28T15:10:00+00:00",
          "2022-05-28T15:15:00+00:00",
          "2022-05-28T15:20:00+00:00",
          "2022-05-28T15:25:00+00:00",
          "2022-05-28T15:30:00+00:00",
          "2022-05-28T15:35:00+00:00",
          "2022-05-28T15:40:00+00:00",
          "2022-05-28T15:45:00+00:00",
          "2022-05-28T15:50:00+00:00",
          "2022-05-28T15:55:00+00:00",
          "2022-05-28T16:00:00+00:00",
          "2022-05-28T16:05:00+00:00",
          "2022-05-28T16:10:00+00:00",
          "2022-05-28T16:15:00+00:00",
          "2022-05-28T16:20:00+00:00",
          "2022-05-28T16:25:00+00:00",
          "2022-05-28T16:30:00+00:00",
          "2022-05-28T16:35:00+00:00",
          "2022-05-28T16:40:00+00:00",
          "2022-05-28T16:45:00+00:00",
          "2022-05-28T16:50:00+00:00",
          "2022-05-28T16:55:00+00:00",
          "2022-05-28T17:00:00+00:00",
          "2022-05-28T17:05:00+00:00",
          "2022-05-28T17:10:00+00:00",
          "2022-05-28T17:15:00+00:00",
          "2022-05-28T17:20:00+00:00",
          "2022-05-28T17:25:00+00:00",
          "2022-05-28T17:30:00+00:00",
          "2022-05-28T17:35:00+00:00",
          "2022-05-28T17:40:00+00:00",
          "2022-05-28T17:45:00+00:00",
          "2022-05-28T17:50:00+00:00",
          "2022-05-28T17:55:00+00:00",
          "2022-05-28T18:00:00+00:00",
          "2022-05-28T18:05:00+00:00",
          "2022-05-28T18:10:00+00:00",
          "2022-05-28T18:15:00+00:00",
          "2022-05-28T18:20:00+00:00",
          "2022-05-28T18:25:00+00:00",
          "2022-05-28T18:30:00+00:00",
          "2022-05-28T18:35:00+00:00",
          "2022-05-28T18:40:00+00:00",
          "2022-05-28T18:45:00+00:00",
          "2022-05-28T18:50:00+00:00",
          "2022-05-28T18:55:00+00:00",
          "2022-05-28T19:00:00+00:00",
          "2022-05-28T19:05:00+00:00",
          "2022-05-28T19:10:00+00:00",
          "2022-05-28T19:15:00+00:00",
          "2022-05-28T19:20:00+00:00",
          "2022-05-28T19:25:00+00:00",
          "2022-05-28T19:30:00+00:00",
          "2022-05-28T19:35:00+00:00",
          "2022-05-28T19:40:00+00:00",
          "2022-05-28T19:45:00+00:00",
          "2022-05-28T19:50:00+00:00",
          "2022-05-28T19:55:00+00:00",
          "2022-05-28T20:00:00+00:00",
          "2022-05-28T20:05:00+00:00",
          "2022-05-28T20:10:00+00:00",
          "2022-05-28T20:15:00+00:00",
          "2022-05-28T20:20:00+00:00",
          "2022-05-28T20:25:00+00:00",
          "2022-05-28T20:30:00+00:00",
          "2022-05-28T20:35:00+00:00",
          "2022-05-28T20:40:00+00:00",
          "2022-05-28T20:45:00+00:00",
          "2022-05-28T20:50:00+00:00",
          "2022-05-28T20:55:00+00:00",
          "2022-05-28T21:00:00+00:00",
          "2022-05-28T21:05:00+00:00",
          "2022-05-28T21:10:00+00:00",
          "2022-05-28T21:15:00+00:00",
          "2022-05-28T21:20:00+00:00",
          "2022-05-28T21:25:00+00:00",
          "2022-05-28T21:30:00+00:00",
          "2022-05-28T21:35:00+00:00",
          "2022-05-28T21:40:00+00:00",
          "2022-05-28T21:45:00+00:00",
          "2022-05-28T21:50:00+00:00",
          "2022-05-28T21:55:00+00:00",
          "2022-05-28T22:00:00+00:00",
          "2022-05-28T22:05:00+00:00"
         ],
         "xaxis": "x",
         "y": [
          29153.412961914633,
          29155.85467087345,
          29159.34140575961,
          29141.61523735957,
          29126.636907023378,
          29117.74287554408,
          29115.89160635396,
          29105.27080944713,
          29096.507809752107,
          29087.19359414281,
          29082.96259314358,
          29079.66016704562,
          29064.627800374023,
          29054.37476249472,
          29055.784560221124,
          29055.895162597095,
          29054.40714992115,
          29054.184885473027,
          29051.90146511152,
          29050.5129122372,
          29052.081771436257,
          29057.7596613691,
          29063.572823549905,
          29065.73689926542,
          29062.294562732106,
          29060.464512021044,
          29057.714621048217,
          29062.96299682263,
          29075.824710939138,
          29092.982220720787,
          29098.93122435845,
          29089.21713912337,
          29084.59259248583,
          29082.908459086113,
          29076.68708836495,
          29073.5002053699,
          29070.154935807474,
          29064.816797868563,
          29059.700015439525,
          29056.269603969835,
          29045.54304580807,
          29027.84574881474,
          29005.93559467538,
          28987.93135036006,
          28977.107385602296,
          28963.838870253105,
          28961.707772443544,
          28972.013542411045,
          28979.4477279369,
          28984.372657501655,
          28989.312456839387,
          29002.1952141452,
          29014.215027054437,
          29021.431948763093,
          29025.145495427605,
          29025.24961304691,
          29025.039458362284,
          29022.832195119987,
          29017.833636161904,
          29013.523016672436,
          29012.403674646215,
          29016.209649967048,
          29028.803239395143,
          29035.155143733595,
          29038.777448978493,
          29041.431015321625,
          29043.222871192553,
          29047.63977914717,
          29049.209423673205,
          29050.50685371626,
          29051.30250113656,
          29051.407379351742,
          29051.622085682382,
          29051.853892437914,
          29053.259909706652,
          29053.836620789203,
          29056.44580216549,
          29055.278211501434,
          29048.515353734234,
          29043.634297989334,
          29041.078761233588,
          29041.112200968484,
          29034.510770224057,
          29032.715183653323,
          29033.73751097706,
          29034.38890680829,
          29034.85654080513,
          29034.774172506404,
          29037.398329233325,
          29038.377604488935
         ],
         "yaxis": "y"
        },
        {
         "marker": {
          "color": "DarkSlateGrey",
          "line": {
           "color": "DarkSlateGrey"
          }
         },
         "name": "Volume",
         "type": "bar",
         "x": [
          "2022-05-28T14:40:00+00:00",
          "2022-05-28T14:45:00+00:00",
          "2022-05-28T14:50:00+00:00",
          "2022-05-28T14:55:00+00:00",
          "2022-05-28T15:00:00+00:00",
          "2022-05-28T15:05:00+00:00",
          "2022-05-28T15:10:00+00:00",
          "2022-05-28T15:15:00+00:00",
          "2022-05-28T15:20:00+00:00",
          "2022-05-28T15:25:00+00:00",
          "2022-05-28T15:30:00+00:00",
          "2022-05-28T15:35:00+00:00",
          "2022-05-28T15:40:00+00:00",
          "2022-05-28T15:45:00+00:00",
          "2022-05-28T15:50:00+00:00",
          "2022-05-28T15:55:00+00:00",
          "2022-05-28T16:00:00+00:00",
          "2022-05-28T16:05:00+00:00",
          "2022-05-28T16:10:00+00:00",
          "2022-05-28T16:15:00+00:00",
          "2022-05-28T16:20:00+00:00",
          "2022-05-28T16:25:00+00:00",
          "2022-05-28T16:30:00+00:00",
          "2022-05-28T16:35:00+00:00",
          "2022-05-28T16:40:00+00:00",
          "2022-05-28T16:45:00+00:00",
          "2022-05-28T16:50:00+00:00",
          "2022-05-28T16:55:00+00:00",
          "2022-05-28T17:00:00+00:00",
          "2022-05-28T17:05:00+00:00",
          "2022-05-28T17:10:00+00:00",
          "2022-05-28T17:15:00+00:00",
          "2022-05-28T17:20:00+00:00",
          "2022-05-28T17:25:00+00:00",
          "2022-05-28T17:30:00+00:00",
          "2022-05-28T17:35:00+00:00",
          "2022-05-28T17:40:00+00:00",
          "2022-05-28T17:45:00+00:00",
          "2022-05-28T17:50:00+00:00",
          "2022-05-28T17:55:00+00:00",
          "2022-05-28T18:00:00+00:00",
          "2022-05-28T18:05:00+00:00",
          "2022-05-28T18:10:00+00:00",
          "2022-05-28T18:15:00+00:00",
          "2022-05-28T18:20:00+00:00",
          "2022-05-28T18:25:00+00:00",
          "2022-05-28T18:30:00+00:00",
          "2022-05-28T18:35:00+00:00",
          "2022-05-28T18:40:00+00:00",
          "2022-05-28T18:45:00+00:00",
          "2022-05-28T18:50:00+00:00",
          "2022-05-28T18:55:00+00:00",
          "2022-05-28T19:00:00+00:00",
          "2022-05-28T19:05:00+00:00",
          "2022-05-28T19:10:00+00:00",
          "2022-05-28T19:15:00+00:00",
          "2022-05-28T19:20:00+00:00",
          "2022-05-28T19:25:00+00:00",
          "2022-05-28T19:30:00+00:00",
          "2022-05-28T19:35:00+00:00",
          "2022-05-28T19:40:00+00:00",
          "2022-05-28T19:45:00+00:00",
          "2022-05-28T19:50:00+00:00",
          "2022-05-28T19:55:00+00:00",
          "2022-05-28T20:00:00+00:00",
          "2022-05-28T20:05:00+00:00",
          "2022-05-28T20:10:00+00:00",
          "2022-05-28T20:15:00+00:00",
          "2022-05-28T20:20:00+00:00",
          "2022-05-28T20:25:00+00:00",
          "2022-05-28T20:30:00+00:00",
          "2022-05-28T20:35:00+00:00",
          "2022-05-28T20:40:00+00:00",
          "2022-05-28T20:45:00+00:00",
          "2022-05-28T20:50:00+00:00",
          "2022-05-28T20:55:00+00:00",
          "2022-05-28T21:00:00+00:00",
          "2022-05-28T21:05:00+00:00",
          "2022-05-28T21:10:00+00:00",
          "2022-05-28T21:15:00+00:00",
          "2022-05-28T21:20:00+00:00",
          "2022-05-28T21:25:00+00:00",
          "2022-05-28T21:30:00+00:00",
          "2022-05-28T21:35:00+00:00",
          "2022-05-28T21:40:00+00:00",
          "2022-05-28T21:45:00+00:00",
          "2022-05-28T21:50:00+00:00",
          "2022-05-28T21:55:00+00:00",
          "2022-05-28T22:00:00+00:00",
          "2022-05-28T22:05:00+00:00"
         ],
         "xaxis": "x2",
         "y": [
          50.0038,
          143.03133,
          41.98774,
          28.85791,
          169.52106,
          62.35431,
          54.45397,
          76.36755,
          40.12023,
          79.44178,
          314.4173,
          207.44397,
          109.32156,
          100.00887,
          100.81611,
          58.40465,
          118.05446,
          61.32613,
          60.61501,
          135.97141,
          55.22492,
          99.36919,
          38.79026,
          89.58131,
          69.70356,
          56.45192,
          114.38726,
          184.65506,
          114.61654,
          93.88727,
          54.74616,
          1137.38989,
          347.71654,
          177.69479,
          81.46636,
          68.0217,
          38.22244,
          63.04738,
          32.08281,
          29.9915,
          76.76577,
          45.60976,
          41.06794,
          40.24929,
          49.90832,
          35.82557,
          62.86345,
          58.73895,
          31.87736,
          39.03301,
          44.36951,
          73.06792,
          48.63658,
          41.85706,
          43.8707,
          59.84633,
          7.43361,
          44.52882,
          18.13601,
          68.46373,
          48.52505,
          102.4891,
          106.78789,
          75.40539,
          68.67341,
          38.60058,
          34.32833,
          47.87946,
          69.49125,
          56.97016,
          28.86147,
          40.96948,
          33.57866,
          21.31609,
          32.26575,
          52.34936,
          42.33338,
          85.45037,
          45.87304,
          19.48556,
          41.65,
          96.55161,
          9.08283,
          23.86267,
          19.51165,
          14.158760000000001,
          21.71617,
          30.52497,
          72.40345,
          23.49709
         ],
         "yaxis": "y2"
        },
        {
         "mode": "lines",
         "name": "macd",
         "type": "scatter",
         "x": [
          "2022-05-28T14:40:00+00:00",
          "2022-05-28T14:45:00+00:00",
          "2022-05-28T14:50:00+00:00",
          "2022-05-28T14:55:00+00:00",
          "2022-05-28T15:00:00+00:00",
          "2022-05-28T15:05:00+00:00",
          "2022-05-28T15:10:00+00:00",
          "2022-05-28T15:15:00+00:00",
          "2022-05-28T15:20:00+00:00",
          "2022-05-28T15:25:00+00:00",
          "2022-05-28T15:30:00+00:00",
          "2022-05-28T15:35:00+00:00",
          "2022-05-28T15:40:00+00:00",
          "2022-05-28T15:45:00+00:00",
          "2022-05-28T15:50:00+00:00",
          "2022-05-28T15:55:00+00:00",
          "2022-05-28T16:00:00+00:00",
          "2022-05-28T16:05:00+00:00",
          "2022-05-28T16:10:00+00:00",
          "2022-05-28T16:15:00+00:00",
          "2022-05-28T16:20:00+00:00",
          "2022-05-28T16:25:00+00:00",
          "2022-05-28T16:30:00+00:00",
          "2022-05-28T16:35:00+00:00",
          "2022-05-28T16:40:00+00:00",
          "2022-05-28T16:45:00+00:00",
          "2022-05-28T16:50:00+00:00",
          "2022-05-28T16:55:00+00:00",
          "2022-05-28T17:00:00+00:00",
          "2022-05-28T17:05:00+00:00",
          "2022-05-28T17:10:00+00:00",
          "2022-05-28T17:15:00+00:00",
          "2022-05-28T17:20:00+00:00",
          "2022-05-28T17:25:00+00:00",
          "2022-05-28T17:30:00+00:00",
          "2022-05-28T17:35:00+00:00",
          "2022-05-28T17:40:00+00:00",
          "2022-05-28T17:45:00+00:00",
          "2022-05-28T17:50:00+00:00",
          "2022-05-28T17:55:00+00:00",
          "2022-05-28T18:00:00+00:00",
          "2022-05-28T18:05:00+00:00",
          "2022-05-28T18:10:00+00:00",
          "2022-05-28T18:15:00+00:00",
          "2022-05-28T18:20:00+00:00",
          "2022-05-28T18:25:00+00:00",
          "2022-05-28T18:30:00+00:00",
          "2022-05-28T18:35:00+00:00",
          "2022-05-28T18:40:00+00:00",
          "2022-05-28T18:45:00+00:00",
          "2022-05-28T18:50:00+00:00",
          "2022-05-28T18:55:00+00:00",
          "2022-05-28T19:00:00+00:00",
          "2022-05-28T19:05:00+00:00",
          "2022-05-28T19:10:00+00:00",
          "2022-05-28T19:15:00+00:00",
          "2022-05-28T19:20:00+00:00",
          "2022-05-28T19:25:00+00:00",
          "2022-05-28T19:30:00+00:00",
          "2022-05-28T19:35:00+00:00",
          "2022-05-28T19:40:00+00:00",
          "2022-05-28T19:45:00+00:00",
          "2022-05-28T19:50:00+00:00",
          "2022-05-28T19:55:00+00:00",
          "2022-05-28T20:00:00+00:00",
          "2022-05-28T20:05:00+00:00",
          "2022-05-28T20:10:00+00:00",
          "2022-05-28T20:15:00+00:00",
          "2022-05-28T20:20:00+00:00",
          "2022-05-28T20:25:00+00:00",
          "2022-05-28T20:30:00+00:00",
          "2022-05-28T20:35:00+00:00",
          "2022-05-28T20:40:00+00:00",
          "2022-05-28T20:45:00+00:00",
          "2022-05-28T20:50:00+00:00",
          "2022-05-28T20:55:00+00:00",
          "2022-05-28T21:00:00+00:00",
          "2022-05-28T21:05:00+00:00",
          "2022-05-28T21:10:00+00:00",
          "2022-05-28T21:15:00+00:00",
          "2022-05-28T21:20:00+00:00",
          "2022-05-28T21:25:00+00:00",
          "2022-05-28T21:30:00+00:00",
          "2022-05-28T21:35:00+00:00",
          "2022-05-28T21:40:00+00:00",
          "2022-05-28T21:45:00+00:00",
          "2022-05-28T21:50:00+00:00",
          "2022-05-28T21:55:00+00:00",
          "2022-05-28T22:00:00+00:00",
          "2022-05-28T22:05:00+00:00"
         ],
         "xaxis": "x3",
         "y": [
          13.472207542356045,
          6.354824619633291,
          2.508159086220985,
          -1.0590935007676308,
          -4.994586627319222,
          -8.051345212195884,
          -9.822408545507642,
          -11.557544677925762,
          -9.947779030353558,
          -7.426876838893804,
          0.7377830186778738,
          4.589436376958474,
          5.617148422599712,
          4.892909729896928,
          6.238501526440814,
          4.685691663031321,
          4.355419642834022,
          3.711982366123266,
          1.6028280055506912,
          0.02462640675366856,
          2.4286607506364817,
          4.922663034300058,
          7.4332042760943295,
          7.242167308540957,
          4.877654957228515,
          3.3675936568288307,
          -0.8381534435611684,
          -7.796409394653892,
          -15.72066793873455,
          -24.99750106656211,
          -31.862740684468008,
          -28.572512571041443,
          -29.68002601412809,
          -29.794687247154798,
          -29.710906877051457,
          -32.04366120956911,
          -30.907173450606933,
          -30.28277793061352,
          -30.460783971295314,
          -29.00388518298132,
          -26.309803395182826,
          -23.181280018474354,
          -19.848547686084203,
          -15.751637195622607,
          -12.001731401720463,
          -8.774634481691464,
          -4.5907308038149495,
          -0.08857571939370246,
          1.5419853948333184,
          4.294453670710936,
          7.691123075790529,
          11.507532175772212,
          14.111983383154438,
          15.241829960075847,
          14.131347022219416,
          12.963061563532392,
          11.900011001158418,
          9.649586646006355,
          7.339315864668606,
          7.920963362310431,
          9.266801562891487,
          13.409702699380432,
          18.327135752759204,
          19.621681469761825,
          19.396819208501256,
          19.92575254559415,
          18.8271589772703,
          20.322937133401865,
          18.78711731688236,
          18.22410045417564,
          16.25667584146504,
          15.441779910237528,
          13.977211532092042,
          12.457481759676739,
          12.954018470638403,
          13.576729358475859,
          14.698035844859987,
          13.834352484107512,
          12.709650677432364,
          12.786882587559376,
          9.934379011876445,
          9.21125650657632,
          8.540533671864978,
          8.16899260567152,
          8.69420695431836,
          8.509640339103498,
          8.552847232152999,
          7.953959786740597,
          4.349202274956042,
          2.9144868195689924
         ],
         "yaxis": "y3"
        },
        {
         "mode": "lines",
         "name": "macdsignal",
         "type": "scatter",
         "x": [
          "2022-05-28T14:40:00+00:00",
          "2022-05-28T14:45:00+00:00",
          "2022-05-28T14:50:00+00:00",
          "2022-05-28T14:55:00+00:00",
          "2022-05-28T15:00:00+00:00",
          "2022-05-28T15:05:00+00:00",
          "2022-05-28T15:10:00+00:00",
          "2022-05-28T15:15:00+00:00",
          "2022-05-28T15:20:00+00:00",
          "2022-05-28T15:25:00+00:00",
          "2022-05-28T15:30:00+00:00",
          "2022-05-28T15:35:00+00:00",
          "2022-05-28T15:40:00+00:00",
          "2022-05-28T15:45:00+00:00",
          "2022-05-28T15:50:00+00:00",
          "2022-05-28T15:55:00+00:00",
          "2022-05-28T16:00:00+00:00",
          "2022-05-28T16:05:00+00:00",
          "2022-05-28T16:10:00+00:00",
          "2022-05-28T16:15:00+00:00",
          "2022-05-28T16:20:00+00:00",
          "2022-05-28T16:25:00+00:00",
          "2022-05-28T16:30:00+00:00",
          "2022-05-28T16:35:00+00:00",
          "2022-05-28T16:40:00+00:00",
          "2022-05-28T16:45:00+00:00",
          "2022-05-28T16:50:00+00:00",
          "2022-05-28T16:55:00+00:00",
          "2022-05-28T17:00:00+00:00",
          "2022-05-28T17:05:00+00:00",
          "2022-05-28T17:10:00+00:00",
          "2022-05-28T17:15:00+00:00",
          "2022-05-28T17:20:00+00:00",
          "2022-05-28T17:25:00+00:00",
          "2022-05-28T17:30:00+00:00",
          "2022-05-28T17:35:00+00:00",
          "2022-05-28T17:40:00+00:00",
          "2022-05-28T17:45:00+00:00",
          "2022-05-28T17:50:00+00:00",
          "2022-05-28T17:55:00+00:00",
          "2022-05-28T18:00:00+00:00",
          "2022-05-28T18:05:00+00:00",
          "2022-05-28T18:10:00+00:00",
          "2022-05-28T18:15:00+00:00",
          "2022-05-28T18:20:00+00:00",
          "2022-05-28T18:25:00+00:00",
          "2022-05-28T18:30:00+00:00",
          "2022-05-28T18:35:00+00:00",
          "2022-05-28T18:40:00+00:00",
          "2022-05-28T18:45:00+00:00",
          "2022-05-28T18:50:00+00:00",
          "2022-05-28T18:55:00+00:00",
          "2022-05-28T19:00:00+00:00",
          "2022-05-28T19:05:00+00:00",
          "2022-05-28T19:10:00+00:00",
          "2022-05-28T19:15:00+00:00",
          "2022-05-28T19:20:00+00:00",
          "2022-05-28T19:25:00+00:00",
          "2022-05-28T19:30:00+00:00",
          "2022-05-28T19:35:00+00:00",
          "2022-05-28T19:40:00+00:00",
          "2022-05-28T19:45:00+00:00",
          "2022-05-28T19:50:00+00:00",
          "2022-05-28T19:55:00+00:00",
          "2022-05-28T20:00:00+00:00",
          "2022-05-28T20:05:00+00:00",
          "2022-05-28T20:10:00+00:00",
          "2022-05-28T20:15:00+00:00",
          "2022-05-28T20:20:00+00:00",
          "2022-05-28T20:25:00+00:00",
          "2022-05-28T20:30:00+00:00",
          "2022-05-28T20:35:00+00:00",
          "2022-05-28T20:40:00+00:00",
          "2022-05-28T20:45:00+00:00",
          "2022-05-28T20:50:00+00:00",
          "2022-05-28T20:55:00+00:00",
          "2022-05-28T21:00:00+00:00",
          "2022-05-28T21:05:00+00:00",
          "2022-05-28T21:10:00+00:00",
          "2022-05-28T21:15:00+00:00",
          "2022-05-28T21:20:00+00:00",
          "2022-05-28T21:25:00+00:00",
          "2022-05-28T21:30:00+00:00",
          "2022-05-28T21:35:00+00:00",
          "2022-05-28T21:40:00+00:00",
          "2022-05-28T21:45:00+00:00",
          "2022-05-28T21:50:00+00:00",
          "2022-05-28T21:55:00+00:00",
          "2022-05-28T22:00:00+00:00",
          "2022-05-28T22:05:00+00:00"
         ],
         "xaxis": "x3",
         "y": [
          28.808425454582363,
          24.31770528759255,
          19.955796047318238,
          15.752818137701063,
          11.603337184697004,
          7.672400705318426,
          4.173438855153212,
          1.0272421485374172,
          -1.1677620872407783,
          -2.419585037571384,
          -1.7881114263215323,
          -0.5126018656655309,
          0.7133481919875178,
          1.5492604995694,
          2.487108704943683,
          2.9268252965612107,
          3.212544165815773,
          3.3124318058772717,
          2.9705110458119557,
          2.3813341180002983,
          2.390799444527535,
          2.8971721624820397,
          3.8043785852044976,
          4.491936329871789,
          4.569080055343134,
          4.328782775640273,
          3.2953955317999846,
          1.0770345465092093,
          -2.282505950539543,
          -6.8255049737440565,
          -11.832952115888848,
          -15.180864206919367,
          -18.080696568361112,
          -20.42349470411985,
          -22.28097713870617,
          -24.23351395287876,
          -25.568245852424393,
          -26.51115226806222,
          -27.30107860870884,
          -27.641639923563336,
          -27.375272617887234,
          -26.536474098004657,
          -25.198888815620567,
          -23.309438491620973,
          -21.047897073640872,
          -18.59324455525099,
          -15.792741804963782,
          -12.651908587849766,
          -9.813129791313148,
          -6.991613098908331,
          -4.05506586396856,
          -0.942546256020405,
          2.068359671814564,
          4.703053729466821,
          6.58871238801734,
          7.863582223120351,
          8.670867978727964,
          8.866611712183643,
          8.561152542680635,
          8.433114706606593,
          8.599852077863572,
          9.561822202166944,
          11.314884912285397,
          12.976244223780682,
          14.260359220724798,
          15.393437885698669,
          16.080182104012994,
          16.928733109890768,
          17.300409951289087,
          17.485148051866396,
          17.239453609786125,
          16.879918869876406,
          16.299377402319532,
          15.530998273790974,
          15.01560231316046,
          14.727827722223541,
          14.72186934675083,
          14.544365974222167,
          14.177422914864206,
          13.89931484940324,
          13.10632768189788,
          12.327313446833568,
          11.56995749183985,
          10.889764514606183,
          10.450653002548618,
          10.062450469859595,
          9.760529822318276,
          9.39921581520274,
          8.3892131071534,
          7.294267849636519
         ],
         "yaxis": "y3"
        }
       ],
       "layout": {
        "modebar": {
         "add": [
          "v1hovermode",
          "toggleSpikeLines"
         ]
        },
        "template": {
         "data": {
          "bar": [
           {
            "error_x": {
             "color": "#2a3f5f"
            },
            "error_y": {
             "color": "#2a3f5f"
            },
            "marker": {
             "line": {
              "color": "#E5ECF6",
              "width": 0.5
             },
             "pattern": {
              "fillmode": "overlay",
              "size": 10,
              "solidity": 0.2
             }
            },
            "type": "bar"
           }
          ],
          "barpolar": [
           {
            "marker": {
             "line": {
              "color": "#E5ECF6",
              "width": 0.5
             },
             "pattern": {
              "fillmode": "overlay",
              "size": 10,
              "solidity": 0.2
             }
            },
            "type": "barpolar"
           }
          ],
          "carpet": [
           {
            "aaxis": {
             "endlinecolor": "#2a3f5f",
             "gridcolor": "white",
             "linecolor": "white",
             "minorgridcolor": "white",
             "startlinecolor": "#2a3f5f"
            },
            "baxis": {
             "endlinecolor": "#2a3f5f",
             "gridcolor": "white",
             "linecolor": "white",
             "minorgridcolor": "white",
             "startlinecolor": "#2a3f5f"
            },
            "type": "carpet"
           }
          ],
          "choropleth": [
           {
            "colorbar": {
             "outlinewidth": 0,
             "ticks": ""
            },
            "type": "choropleth"
           }
          ],
          "contour": [
           {
            "colorbar": {
             "outlinewidth": 0,
             "ticks": ""
            },
            "colorscale": [
             [
              0,
              "#0d0887"
             ],
             [
              0.1111111111111111,
              "#46039f"
             ],
             [
              0.2222222222222222,
              "#7201a8"
             ],
             [
              0.3333333333333333,
              "#9c179e"
             ],
             [
              0.4444444444444444,
              "#bd3786"
             ],
             [
              0.5555555555555556,
              "#d8576b"
             ],
             [
              0.6666666666666666,
              "#ed7953"
             ],
             [
              0.7777777777777778,
              "#fb9f3a"
             ],
             [
              0.8888888888888888,
              "#fdca26"
             ],
             [
              1,
              "#f0f921"
             ]
            ],
            "type": "contour"
           }
          ],
          "contourcarpet": [
           {
            "colorbar": {
             "outlinewidth": 0,
             "ticks": ""
            },
            "type": "contourcarpet"
           }
          ],
          "heatmap": [
           {
            "colorbar": {
             "outlinewidth": 0,
             "ticks": ""
            },
            "colorscale": [
             [
              0,
              "#0d0887"
             ],
             [
              0.1111111111111111,
              "#46039f"
             ],
             [
              0.2222222222222222,
              "#7201a8"
             ],
             [
              0.3333333333333333,
              "#9c179e"
             ],
             [
              0.4444444444444444,
              "#bd3786"
             ],
             [
              0.5555555555555556,
              "#d8576b"
             ],
             [
              0.6666666666666666,
              "#ed7953"
             ],
             [
              0.7777777777777778,
              "#fb9f3a"
             ],
             [
              0.8888888888888888,
              "#fdca26"
             ],
             [
              1,
              "#f0f921"
             ]
            ],
            "type": "heatmap"
           }
          ],
          "heatmapgl": [
           {
            "colorbar": {
             "outlinewidth": 0,
             "ticks": ""
            },
            "colorscale": [
             [
              0,
              "#0d0887"
             ],
             [
              0.1111111111111111,
              "#46039f"
             ],
             [
              0.2222222222222222,
              "#7201a8"
             ],
             [
              0.3333333333333333,
              "#9c179e"
             ],
             [
              0.4444444444444444,
              "#bd3786"
             ],
             [
              0.5555555555555556,
              "#d8576b"
             ],
             [
              0.6666666666666666,
              "#ed7953"
             ],
             [
              0.7777777777777778,
              "#fb9f3a"
             ],
             [
              0.8888888888888888,
              "#fdca26"
             ],
             [
              1,
              "#f0f921"
             ]
            ],
            "type": "heatmapgl"
           }
          ],
          "histogram": [
           {
            "marker": {
             "pattern": {
              "fillmode": "overlay",
              "size": 10,
              "solidity": 0.2
             }
            },
            "type": "histogram"
           }
          ],
          "histogram2d": [
           {
            "colorbar": {
             "outlinewidth": 0,
             "ticks": ""
            },
            "colorscale": [
             [
              0,
              "#0d0887"
             ],
             [
              0.1111111111111111,
              "#46039f"
             ],
             [
              0.2222222222222222,
              "#7201a8"
             ],
             [
              0.3333333333333333,
              "#9c179e"
             ],
             [
              0.4444444444444444,
              "#bd3786"
             ],
             [
              0.5555555555555556,
              "#d8576b"
             ],
             [
              0.6666666666666666,
              "#ed7953"
             ],
             [
              0.7777777777777778,
              "#fb9f3a"
             ],
             [
              0.8888888888888888,
              "#fdca26"
             ],
             [
              1,
              "#f0f921"
             ]
            ],
            "type": "histogram2d"
           }
          ],
          "histogram2dcontour": [
           {
            "colorbar": {
             "outlinewidth": 0,
             "ticks": ""
            },
            "colorscale": [
             [
              0,
              "#0d0887"
             ],
             [
              0.1111111111111111,
              "#46039f"
             ],
             [
              0.2222222222222222,
              "#7201a8"
             ],
             [
              0.3333333333333333,
              "#9c179e"
             ],
             [
              0.4444444444444444,
              "#bd3786"
             ],
             [
              0.5555555555555556,
              "#d8576b"
             ],
             [
              0.6666666666666666,
              "#ed7953"
             ],
             [
              0.7777777777777778,
              "#fb9f3a"
             ],
             [
              0.8888888888888888,
              "#fdca26"
             ],
             [
              1,
              "#f0f921"
             ]
            ],
            "type": "histogram2dcontour"
           }
          ],
          "mesh3d": [
           {
            "colorbar": {
             "outlinewidth": 0,
             "ticks": ""
            },
            "type": "mesh3d"
           }
          ],
          "parcoords": [
           {
            "line": {
             "colorbar": {
              "outlinewidth": 0,
              "ticks": ""
             }
            },
            "type": "parcoords"
           }
          ],
          "pie": [
           {
            "automargin": true,
            "type": "pie"
           }
          ],
          "scatter": [
           {
            "fillpattern": {
             "fillmode": "overlay",
             "size": 10,
             "solidity": 0.2
            },
            "type": "scatter"
           }
          ],
          "scatter3d": [
           {
            "line": {
             "colorbar": {
              "outlinewidth": 0,
              "ticks": ""
             }
            },
            "marker": {
             "colorbar": {
              "outlinewidth": 0,
              "ticks": ""
             }
            },
            "type": "scatter3d"
           }
          ],
          "scattercarpet": [
           {
            "marker": {
             "colorbar": {
              "outlinewidth": 0,
              "ticks": ""
             }
            },
            "type": "scattercarpet"
           }
          ],
          "scattergeo": [
           {
            "marker": {
             "colorbar": {
              "outlinewidth": 0,
              "ticks": ""
             }
            },
            "type": "scattergeo"
           }
          ],
          "scattergl": [
           {
            "marker": {
             "colorbar": {
              "outlinewidth": 0,
              "ticks": ""
             }
            },
            "type": "scattergl"
           }
          ],
          "scattermapbox": [
           {
            "marker": {
             "colorbar": {
              "outlinewidth": 0,
              "ticks": ""
             }
            },
            "type": "scattermapbox"
           }
          ],
          "scatterpolar": [
           {
            "marker": {
             "colorbar": {
              "outlinewidth": 0,
              "ticks": ""
             }
            },
            "type": "scatterpolar"
           }
          ],
          "scatterpolargl": [
           {
            "marker": {
             "colorbar": {
              "outlinewidth": 0,
              "ticks": ""
             }
            },
            "type": "scatterpolargl"
           }
          ],
          "scatterternary": [
           {
            "marker": {
             "colorbar": {
              "outlinewidth": 0,
              "ticks": ""
             }
            },
            "type": "scatterternary"
           }
          ],
          "surface": [
           {
            "colorbar": {
             "outlinewidth": 0,
             "ticks": ""
            },
            "colorscale": [
             [
              0,
              "#0d0887"
             ],
             [
              0.1111111111111111,
              "#46039f"
             ],
             [
              0.2222222222222222,
              "#7201a8"
             ],
             [
              0.3333333333333333,
              "#9c179e"
             ],
             [
              0.4444444444444444,
              "#bd3786"
             ],
             [
              0.5555555555555556,
              "#d8576b"
             ],
             [
              0.6666666666666666,
              "#ed7953"
             ],
             [
              0.7777777777777778,
              "#fb9f3a"
             ],
             [
              0.8888888888888888,
              "#fdca26"
             ],
             [
              1,
              "#f0f921"
             ]
            ],
            "type": "surface"
           }
          ],
          "table": [
           {
            "cells": {
             "fill": {
              "color": "#EBF0F8"
             },
             "line": {
              "color": "white"
             }
            },
            "header": {
             "fill": {
              "color": "#C8D4E3"
             },
             "line": {
              "color": "white"
             }
            },
            "type": "table"
           }
          ]
         },
         "layout": {
          "annotationdefaults": {
           "arrowcolor": "#2a3f5f",
           "arrowhead": 0,
           "arrowwidth": 1
          },
          "autotypenumbers": "strict",
          "coloraxis": {
           "colorbar": {
            "outlinewidth": 0,
            "ticks": ""
           }
          },
          "colorscale": {
           "diverging": [
            [
             0,
             "#8e0152"
            ],
            [
             0.1,
             "#c51b7d"
            ],
            [
             0.2,
             "#de77ae"
            ],
            [
             0.3,
             "#f1b6da"
            ],
            [
             0.4,
             "#fde0ef"
            ],
            [
             0.5,
             "#f7f7f7"
            ],
            [
             0.6,
             "#e6f5d0"
            ],
            [
             0.7,
             "#b8e186"
            ],
            [
             0.8,
             "#7fbc41"
            ],
            [
             0.9,
             "#4d9221"
            ],
            [
             1,
             "#276419"
            ]
           ],
           "sequential": [
            [
             0,
             "#0d0887"
            ],
            [
             0.1111111111111111,
             "#46039f"
            ],
            [
             0.2222222222222222,
             "#7201a8"
            ],
            [
             0.3333333333333333,
             "#9c179e"
            ],
            [
             0.4444444444444444,
             "#bd3786"
            ],
            [
             0.5555555555555556,
             "#d8576b"
            ],
            [
             0.6666666666666666,
             "#ed7953"
            ],
            [
             0.7777777777777778,
             "#fb9f3a"
            ],
            [
             0.8888888888888888,
             "#fdca26"
            ],
            [
             1,
             "#f0f921"
            ]
           ],
           "sequentialminus": [
            [
             0,
             "#0d0887"
            ],
            [
             0.1111111111111111,
             "#46039f"
            ],
            [
             0.2222222222222222,
             "#7201a8"
            ],
            [
             0.3333333333333333,
             "#9c179e"
            ],
            [
             0.4444444444444444,
             "#bd3786"
            ],
            [
             0.5555555555555556,
             "#d8576b"
            ],
            [
             0.6666666666666666,
             "#ed7953"
            ],
            [
             0.7777777777777778,
             "#fb9f3a"
            ],
            [
             0.8888888888888888,
             "#fdca26"
            ],
            [
             1,
             "#f0f921"
            ]
           ]
          },
          "colorway": [
           "#636efa",
           "#EF553B",
           "#00cc96",
           "#ab63fa",
           "#FFA15A",
           "#19d3f3",
           "#FF6692",
           "#B6E880",
           "#FF97FF",
           "#FECB52"
          ],
          "font": {
           "color": "#2a3f5f"
          },
          "geo": {
           "bgcolor": "white",
           "lakecolor": "white",
           "landcolor": "#E5ECF6",
           "showlakes": true,
           "showland": true,
           "subunitcolor": "white"
          },
          "hoverlabel": {
           "align": "left"
          },
          "hovermode": "closest",
          "mapbox": {
           "style": "light"
          },
          "paper_bgcolor": "white",
          "plot_bgcolor": "#E5ECF6",
          "polar": {
           "angularaxis": {
            "gridcolor": "white",
            "linecolor": "white",
            "ticks": ""
           },
           "bgcolor": "#E5ECF6",
           "radialaxis": {
            "gridcolor": "white",
            "linecolor": "white",
            "ticks": ""
           }
          },
          "scene": {
           "xaxis": {
            "backgroundcolor": "#E5ECF6",
            "gridcolor": "white",
            "gridwidth": 2,
            "linecolor": "white",
            "showbackground": true,
            "ticks": "",
            "zerolinecolor": "white"
           },
           "yaxis": {
            "backgroundcolor": "#E5ECF6",
            "gridcolor": "white",
            "gridwidth": 2,
            "linecolor": "white",
            "showbackground": true,
            "ticks": "",
            "zerolinecolor": "white"
           },
           "zaxis": {
            "backgroundcolor": "#E5ECF6",
            "gridcolor": "white",
            "gridwidth": 2,
            "linecolor": "white",
            "showbackground": true,
            "ticks": "",
            "zerolinecolor": "white"
           }
          },
          "shapedefaults": {
           "line": {
            "color": "#2a3f5f"
           }
          },
          "ternary": {
           "aaxis": {
            "gridcolor": "white",
            "linecolor": "white",
            "ticks": ""
           },
           "baxis": {
            "gridcolor": "white",
            "linecolor": "white",
            "ticks": ""
           },
           "bgcolor": "#E5ECF6",
           "caxis": {
            "gridcolor": "white",
            "linecolor": "white",
            "ticks": ""
           }
          },
          "title": {
           "x": 0.05
          },
          "xaxis": {
           "automargin": true,
           "gridcolor": "white",
           "linecolor": "white",
           "ticks": "",
           "title": {
            "standoff": 15
           },
           "zerolinecolor": "white",
           "zerolinewidth": 2
          },
          "yaxis": {
           "automargin": true,
           "gridcolor": "white",
           "linecolor": "white",
           "ticks": "",
           "title": {
            "standoff": 15
           },
           "zerolinecolor": "white",
           "zerolinewidth": 2
          }
         }
        },
        "title": {
         "text": "BTC_USDT"
        },
        "xaxis": {
         "anchor": "y",
         "domain": [
          0,
          1
         ],
         "matches": "x3",
         "rangeslider": {
          "visible": false
         },
         "showticklabels": false
        },
        "xaxis2": {
         "anchor": "y2",
         "domain": [
          0,
          1
         ],
         "matches": "x3",
         "showticklabels": false
        },
        "xaxis3": {
         "anchor": "y3",
         "domain": [
          0,
          1
         ]
        },
        "yaxis": {
         "anchor": "x",
         "domain": [
          0.33346666666666663,
          1
         ],
         "title": {
          "text": "Price"
         }
        },
        "yaxis2": {
         "anchor": "x2",
         "domain": [
          0.16673333333333332,
          0.33336666666666664
         ],
         "title": {
          "text": "Volume"
         }
        },
        "yaxis3": {
         "anchor": "x3",
         "domain": [
          0,
          0.16663333333333333
         ],
         "title": {
          "text": "Other"
         }
        }
       }
      },
      "text/html": [
       "<div>                            <div id=\"4b97ecd0-89bc-461e-adcb-4884124e6c3a\" class=\"plotly-graph-div\" style=\"height:525px; width:100%;\"></div>            <script type=\"text/javascript\">                require([\"plotly\"], function(Plotly) {                    window.PLOTLYENV=window.PLOTLYENV || {};                                    if (document.getElementById(\"4b97ecd0-89bc-461e-adcb-4884124e6c3a\")) {                    Plotly.newPlot(                        \"4b97ecd0-89bc-461e-adcb-4884124e6c3a\",                        [{\"close\":[28996.78,28941.22,28963.81,28957.23,28942.78,28942.4,28949.07,28943.31,28978.88,28993.25,29069.78,29037.98,29013.69,28995.32,29020.0,28988.21,28999.99,28995.79,28976.2,28977.36,29023.0,29031.0,29038.68,29012.69,28985.96,28990.95,28953.54,28907.5,28875.39,28834.68,28836.16,28940.28,28890.0,28895.2,28893.12,28858.81,28891.39,28883.64,28870.95,28886.61,28901.93,28910.93,28918.67,28934.46,28938.98,28940.89,28960.39,28975.08,28951.29,28970.0,28986.16,29001.74,28998.55,28989.15,28966.31,28964.59,28964.59,28948.52,28943.04,28974.07,28986.36,29026.4,29049.27,29019.82,29007.09,29018.7,29002.58,29034.81,29003.77,29014.48,28997.95,29009.38,29001.23,28998.56,29021.49,29026.27,29036.15,29016.41,29012.77,29026.6,28991.91,29012.28,29012.29,29015.44,29026.84,29020.61,29024.18,29017.47,28979.3,28997.34],\"high\":[28999.85,28996.78,28972.96,28972.48,28962.0,28968.19,28949.07,28973.66,28978.91,28996.65,29079.29,29089.32,29037.99,29023.14,29042.74,29020.01,29000.0,29002.91,29008.08,28977.37,29023.0,29050.0,29043.05,29038.69,29012.7,29010.0,28993.19,28956.07,28911.82,28875.39,28836.36,29030.0,28982.25,28900.45,28911.83,28909.82,28892.86,28900.0,28887.2,28895.35,28913.55,28916.75,28918.69,28943.73,28947.68,28953.49,28970.0,28985.2,28976.19,28970.85,28995.78,29019.16,29019.3,29006.7,28989.15,28973.44,28964.59,28964.59,28955.52,28975.13,28989.98,29026.41,29067.01,29049.28,29042.22,29024.36,29020.16,29034.82,29037.02,29026.19,29014.48,29009.39,29013.71,29001.23,29021.49,29027.74,29044.92,29060.0,29022.22,29026.91,29030.0,29038.56,29012.29,29016.6,29032.95,29026.84,29027.12,29041.42,29017.47,28997.96],\"low\":[28979.96,28930.0,28941.22,28956.03,28890.0,28935.75,28928.11,28942.2,28943.31,28964.36,28993.22,29037.07,29004.26,28990.33,28995.31,28982.04,28957.89,28981.66,28975.95,28938.2,28977.36,29015.45,29029.54,29000.1,28973.24,28985.96,28949.57,28902.84,28869.91,28829.19,28833.75,28784.48,28856.26,28845.89,28870.92,28857.12,28858.79,28862.81,28867.16,28870.94,28886.6,28891.84,28901.76,28910.56,28934.46,28938.98,28940.89,28960.39,28945.48,28951.28,28966.18,28978.59,28990.2,28979.35,28965.55,28950.0,28964.58,28944.87,28943.04,28943.03,28974.06,28986.35,29026.4,29015.96,29001.95,29002.4,29000.0,29002.58,28999.12,28994.66,28996.52,28985.43,29001.22,28991.89,28998.55,28998.03,29024.81,29016.41,29010.72,29012.77,28991.9,28991.9,29008.07,29011.07,29015.44,29018.5,29008.07,29011.59,28960.0,28979.17],\"name\":\"Price\",\"open\":[28987.26,28996.78,28941.23,28963.8,28957.23,28942.78,28942.41,28949.07,28943.31,28978.88,28993.25,29069.78,29037.98,29013.69,28995.32,29020.0,28988.2,29000.0,28995.79,28976.21,28977.37,29023.0,29031.0,29038.68,29012.69,28985.96,28990.96,28953.55,28907.5,28875.39,28834.68,28836.16,28940.29,28890.0,28895.19,28893.12,28858.81,28891.39,28883.64,28870.94,28886.61,28901.94,28910.94,28918.67,28934.46,28938.99,28940.89,28960.39,28975.08,28951.29,28970.01,28986.16,29001.74,28998.55,28989.15,28966.32,28964.59,28964.59,28948.51,28943.04,28974.06,28986.35,29026.4,29049.27,29019.81,29007.09,29018.71,29002.58,29034.82,29003.78,29014.47,28997.96,29009.38,29001.23,28998.55,29021.49,29026.27,29036.14,29016.41,29012.77,29026.6,28991.91,29012.28,29012.29,29015.44,29026.83,29020.61,29024.17,29017.46,28979.3],\"x\":[\"2022-05-28T14:40:00+00:00\",\"2022-05-28T14:45:00+00:00\",\"2022-05-28T14:50:00+00:00\",\"2022-05-28T14:55:00+00:00\",\"2022-05-28T15:00:00+00:00\",\"2022-05-28T15:05:00+00:00\",\"2022-05-28T15:10:00+00:00\",\"2022-05-28T15:15:00+00:00\",\"2022-05-28T15:20:00+00:00\",\"2022-05-28T15:25:00+00:00\",\"2022-05-28T15:30:00+00:00\",\"2022-05-28T15:35:00+00:00\",\"2022-05-28T15:40:00+00:00\",\"2022-05-28T15:45:00+00:00\",\"2022-05-28T15:50:00+00:00\",\"2022-05-28T15:55:00+00:00\",\"2022-05-28T16:00:00+00:00\",\"2022-05-28T16:05:00+00:00\",\"2022-05-28T16:10:00+00:00\",\"2022-05-28T16:15:00+00:00\",\"2022-05-28T16:20:00+00:00\",\"2022-05-28T16:25:00+00:00\",\"2022-05-28T16:30:00+00:00\",\"2022-05-28T16:35:00+00:00\",\"2022-05-28T16:40:00+00:00\",\"2022-05-28T16:45:00+00:00\",\"2022-05-28T16:50:00+00:00\",\"2022-05-28T16:55:00+00:00\",\"2022-05-28T17:00:00+00:00\",\"2022-05-28T17:05:00+00:00\",\"2022-05-28T17:10:00+00:00\",\"2022-05-28T17:15:00+00:00\",\"2022-05-28T17:20:00+00:00\",\"2022-05-28T17:25:00+00:00\",\"2022-05-28T17:30:00+00:00\",\"2022-05-28T17:35:00+00:00\",\"2022-05-28T17:40:00+00:00\",\"2022-05-28T17:45:00+00:00\",\"2022-05-28T17:50:00+00:00\",\"2022-05-28T17:55:00+00:00\",\"2022-05-28T18:00:00+00:00\",\"2022-05-28T18:05:00+00:00\",\"2022-05-28T18:10:00+00:00\",\"2022-05-28T18:15:00+00:00\",\"2022-05-28T18:20:00+00:00\",\"2022-05-28T18:25:00+00:00\",\"2022-05-28T18:30:00+00:00\",\"2022-05-28T18:35:00+00:00\",\"2022-05-28T18:40:00+00:00\",\"2022-05-28T18:45:00+00:00\",\"2022-05-28T18:50:00+00:00\",\"2022-05-28T18:55:00+00:00\",\"2022-05-28T19:00:00+00:00\",\"2022-05-28T19:05:00+00:00\",\"2022-05-28T19:10:00+00:00\",\"2022-05-28T19:15:00+00:00\",\"2022-05-28T19:20:00+00:00\",\"2022-05-28T19:25:00+00:00\",\"2022-05-28T19:30:00+00:00\",\"2022-05-28T19:35:00+00:00\",\"2022-05-28T19:40:00+00:00\",\"2022-05-28T19:45:00+00:00\",\"2022-05-28T19:50:00+00:00\",\"2022-05-28T19:55:00+00:00\",\"2022-05-28T20:00:00+00:00\",\"2022-05-28T20:05:00+00:00\",\"2022-05-28T20:10:00+00:00\",\"2022-05-28T20:15:00+00:00\",\"2022-05-28T20:20:00+00:00\",\"2022-05-28T20:25:00+00:00\",\"2022-05-28T20:30:00+00:00\",\"2022-05-28T20:35:00+00:00\",\"2022-05-28T20:40:00+00:00\",\"2022-05-28T20:45:00+00:00\",\"2022-05-28T20:50:00+00:00\",\"2022-05-28T20:55:00+00:00\",\"2022-05-28T21:00:00+00:00\",\"2022-05-28T21:05:00+00:00\",\"2022-05-28T21:10:00+00:00\",\"2022-05-28T21:15:00+00:00\",\"2022-05-28T21:20:00+00:00\",\"2022-05-28T21:25:00+00:00\",\"2022-05-28T21:30:00+00:00\",\"2022-05-28T21:35:00+00:00\",\"2022-05-28T21:40:00+00:00\",\"2022-05-28T21:45:00+00:00\",\"2022-05-28T21:50:00+00:00\",\"2022-05-28T21:55:00+00:00\",\"2022-05-28T22:00:00+00:00\",\"2022-05-28T22:05:00+00:00\"],\"type\":\"candlestick\",\"xaxis\":\"x\",\"yaxis\":\"y\"},{\"marker\":{\"color\":\"green\",\"line\":{\"width\":1},\"size\":9,\"symbol\":\"triangle-up-dot\"},\"mode\":\"markers\",\"name\":\"enter_long\",\"x\":[\"2022-05-28T17:15:00+00:00\"],\"y\":[28940.28],\"type\":\"scatter\",\"xaxis\":\"x\",\"yaxis\":\"y\"},{\"marker\":{\"color\":\"violet\",\"line\":{\"width\":1},\"size\":9,\"symbol\":\"triangle-up-dot\"},\"mode\":\"markers\",\"name\":\"exit_short\",\"x\":[\"2022-05-28T17:15:00+00:00\"],\"y\":[28940.28],\"type\":\"scatter\",\"xaxis\":\"x\",\"yaxis\":\"y\"},{\"line\":{\"color\":\"rgba(255,255,255,0)\"},\"showlegend\":false,\"x\":[\"2022-05-28T14:40:00+00:00\",\"2022-05-28T14:45:00+00:00\",\"2022-05-28T14:50:00+00:00\",\"2022-05-28T14:55:00+00:00\",\"2022-05-28T15:00:00+00:00\",\"2022-05-28T15:05:00+00:00\",\"2022-05-28T15:10:00+00:00\",\"2022-05-28T15:15:00+00:00\",\"2022-05-28T15:20:00+00:00\",\"2022-05-28T15:25:00+00:00\",\"2022-05-28T15:30:00+00:00\",\"2022-05-28T15:35:00+00:00\",\"2022-05-28T15:40:00+00:00\",\"2022-05-28T15:45:00+00:00\",\"2022-05-28T15:50:00+00:00\",\"2022-05-28T15:55:00+00:00\",\"2022-05-28T16:00:00+00:00\",\"2022-05-28T16:05:00+00:00\",\"2022-05-28T16:10:00+00:00\",\"2022-05-28T16:15:00+00:00\",\"2022-05-28T16:20:00+00:00\",\"2022-05-28T16:25:00+00:00\",\"2022-05-28T16:30:00+00:00\",\"2022-05-28T16:35:00+00:00\",\"2022-05-28T16:40:00+00:00\",\"2022-05-28T16:45:00+00:00\",\"2022-05-28T16:50:00+00:00\",\"2022-05-28T16:55:00+00:00\",\"2022-05-28T17:00:00+00:00\",\"2022-05-28T17:05:00+00:00\",\"2022-05-28T17:10:00+00:00\",\"2022-05-28T17:15:00+00:00\",\"2022-05-28T17:20:00+00:00\",\"2022-05-28T17:25:00+00:00\",\"2022-05-28T17:30:00+00:00\",\"2022-05-28T17:35:00+00:00\",\"2022-05-28T17:40:00+00:00\",\"2022-05-28T17:45:00+00:00\",\"2022-05-28T17:50:00+00:00\",\"2022-05-28T17:55:00+00:00\",\"2022-05-28T18:00:00+00:00\",\"2022-05-28T18:05:00+00:00\",\"2022-05-28T18:10:00+00:00\",\"2022-05-28T18:15:00+00:00\",\"2022-05-28T18:20:00+00:00\",\"2022-05-28T18:25:00+00:00\",\"2022-05-28T18:30:00+00:00\",\"2022-05-28T18:35:00+00:00\",\"2022-05-28T18:40:00+00:00\",\"2022-05-28T18:45:00+00:00\",\"2022-05-28T18:50:00+00:00\",\"2022-05-28T18:55:00+00:00\",\"2022-05-28T19:00:00+00:00\",\"2022-05-28T19:05:00+00:00\",\"2022-05-28T19:10:00+00:00\",\"2022-05-28T19:15:00+00:00\",\"2022-05-28T19:20:00+00:00\",\"2022-05-28T19:25:00+00:00\",\"2022-05-28T19:30:00+00:00\",\"2022-05-28T19:35:00+00:00\",\"2022-05-28T19:40:00+00:00\",\"2022-05-28T19:45:00+00:00\",\"2022-05-28T19:50:00+00:00\",\"2022-05-28T19:55:00+00:00\",\"2022-05-28T20:00:00+00:00\",\"2022-05-28T20:05:00+00:00\",\"2022-05-28T20:10:00+00:00\",\"2022-05-28T20:15:00+00:00\",\"2022-05-28T20:20:00+00:00\",\"2022-05-28T20:25:00+00:00\",\"2022-05-28T20:30:00+00:00\",\"2022-05-28T20:35:00+00:00\",\"2022-05-28T20:40:00+00:00\",\"2022-05-28T20:45:00+00:00\",\"2022-05-28T20:50:00+00:00\",\"2022-05-28T20:55:00+00:00\",\"2022-05-28T21:00:00+00:00\",\"2022-05-28T21:05:00+00:00\",\"2022-05-28T21:10:00+00:00\",\"2022-05-28T21:15:00+00:00\",\"2022-05-28T21:20:00+00:00\",\"2022-05-28T21:25:00+00:00\",\"2022-05-28T21:30:00+00:00\",\"2022-05-28T21:35:00+00:00\",\"2022-05-28T21:40:00+00:00\",\"2022-05-28T21:45:00+00:00\",\"2022-05-28T21:50:00+00:00\",\"2022-05-28T21:55:00+00:00\",\"2022-05-28T22:00:00+00:00\",\"2022-05-28T22:05:00+00:00\"],\"y\":[28945.053371418697,28940.44432912655,28930.44492757372,28928.39976264043,28921.834092976627,28915.560457789248,28906.311726979373,28903.285857219533,28901.782190247894,28902.89973919053,28904.992406856414,28906.760832954376,28914.73619962598,28919.23957083861,28918.885106445545,28918.918837402918,28918.47151674552,28918.403114526984,28918.206868221816,28916.197754429464,28916.18789523041,28918.125005297567,28920.087843116766,28923.448434067923,28932.794770601224,28939.310487978957,28944.395378951784,28936.055003177375,28915.0606223942,28884.069779279216,28856.92010897489,28852.980527543295,28846.69074084751,28836.13320758055,28829.615244968383,28820.65179463009,28813.502397525863,28807.710202131424,28801.662984560473,28797.092396030166,28797.10962085859,28802.242584518594,28811.74773865795,28820.994316306602,28826.79228106436,28834.942463080228,28836.239560889793,28831.075790922285,28830.8362720631,28837.67367583167,28847.46220982727,28842.737119188125,28840.035306278893,28843.940384570247,28848.39817123906,28857.036720286425,28865.60420830438,28874.862471546676,28887.070697171428,28899.35898332757,28908.75565868712,28915.60435003295,28916.46276060486,28919.98785626641,28924.03688435485,28928.45331801171,28931.710128807445,28932.34455418617,28936.33990966014,28939.815812950408,28941.047832196782,28941.099953981593,28941.155580984294,28941.47310756209,28944.084423626682,28948.974712544128,28953.436197834508,28962.431788498572,28975.99831293244,28986.681035343998,28991.350238766416,28991.43613236484,28994.369896442622,28994.76714968001,28994.543822356274,28994.57542652504,28995.328792528213,28995.353494160256,28989.958004099997,28986.95006217773],\"type\":\"scatter\",\"xaxis\":\"x\",\"yaxis\":\"y\"},{\"fill\":\"tonexty\",\"fillcolor\":\"rgba(0,176,246,0.2)\",\"line\":{\"color\":\"rgba(255,255,255,0)\"},\"name\":\"Bollinger Band\",\"x\":[\"2022-05-28T14:40:00+00:00\",\"2022-05-28T14:45:00+00:00\",\"2022-05-28T14:50:00+00:00\",\"2022-05-28T14:55:00+00:00\",\"2022-05-28T15:00:00+00:00\",\"2022-05-28T15:05:00+00:00\",\"2022-05-28T15:10:00+00:00\",\"2022-05-28T15:15:00+00:00\",\"2022-05-28T15:20:00+00:00\",\"2022-05-28T15:25:00+00:00\",\"2022-05-28T15:30:00+00:00\",\"2022-05-28T15:35:00+00:00\",\"2022-05-28T15:40:00+00:00\",\"2022-05-28T15:45:00+00:00\",\"2022-05-28T15:50:00+00:00\",\"2022-05-28T15:55:00+00:00\",\"2022-05-28T16:00:00+00:00\",\"2022-05-28T16:05:00+00:00\",\"2022-05-28T16:10:00+00:00\",\"2022-05-28T16:15:00+00:00\",\"2022-05-28T16:20:00+00:00\",\"2022-05-28T16:25:00+00:00\",\"2022-05-28T16:30:00+00:00\",\"2022-05-28T16:35:00+00:00\",\"2022-05-28T16:40:00+00:00\",\"2022-05-28T16:45:00+00:00\",\"2022-05-28T16:50:00+00:00\",\"2022-05-28T16:55:00+00:00\",\"2022-05-28T17:00:00+00:00\",\"2022-05-28T17:05:00+00:00\",\"2022-05-28T17:10:00+00:00\",\"2022-05-28T17:15:00+00:00\",\"2022-05-28T17:20:00+00:00\",\"2022-05-28T17:25:00+00:00\",\"2022-05-28T17:30:00+00:00\",\"2022-05-28T17:35:00+00:00\",\"2022-05-28T17:40:00+00:00\",\"2022-05-28T17:45:00+00:00\",\"2022-05-28T17:50:00+00:00\",\"2022-05-28T17:55:00+00:00\",\"2022-05-28T18:00:00+00:00\",\"2022-05-28T18:05:00+00:00\",\"2022-05-28T18:10:00+00:00\",\"2022-05-28T18:15:00+00:00\",\"2022-05-28T18:20:00+00:00\",\"2022-05-28T18:25:00+00:00\",\"2022-05-28T18:30:00+00:00\",\"2022-05-28T18:35:00+00:00\",\"2022-05-28T18:40:00+00:00\",\"2022-05-28T18:45:00+00:00\",\"2022-05-28T18:50:00+00:00\",\"2022-05-28T18:55:00+00:00\",\"2022-05-28T19:00:00+00:00\",\"2022-05-28T19:05:00+00:00\",\"2022-05-28T19:10:00+00:00\",\"2022-05-28T19:15:00+00:00\",\"2022-05-28T19:20:00+00:00\",\"2022-05-28T19:25:00+00:00\",\"2022-05-28T19:30:00+00:00\",\"2022-05-28T19:35:00+00:00\",\"2022-05-28T19:40:00+00:00\",\"2022-05-28T19:45:00+00:00\",\"2022-05-28T19:50:00+00:00\",\"2022-05-28T19:55:00+00:00\",\"2022-05-28T20:00:00+00:00\",\"2022-05-28T20:05:00+00:00\",\"2022-05-28T20:10:00+00:00\",\"2022-05-28T20:15:00+00:00\",\"2022-05-28T20:20:00+00:00\",\"2022-05-28T20:25:00+00:00\",\"2022-05-28T20:30:00+00:00\",\"2022-05-28T20:35:00+00:00\",\"2022-05-28T20:40:00+00:00\",\"2022-05-28T20:45:00+00:00\",\"2022-05-28T20:50:00+00:00\",\"2022-05-28T20:55:00+00:00\",\"2022-05-28T21:00:00+00:00\",\"2022-05-28T21:05:00+00:00\",\"2022-05-28T21:10:00+00:00\",\"2022-05-28T21:15:00+00:00\",\"2022-05-28T21:20:00+00:00\",\"2022-05-28T21:25:00+00:00\",\"2022-05-28T21:30:00+00:00\",\"2022-05-28T21:35:00+00:00\",\"2022-05-28T21:40:00+00:00\",\"2022-05-28T21:45:00+00:00\",\"2022-05-28T21:50:00+00:00\",\"2022-05-28T21:55:00+00:00\",\"2022-05-28T22:00:00+00:00\",\"2022-05-28T22:05:00+00:00\"],\"y\":[29153.412961914633,29155.85467087345,29159.34140575961,29141.61523735957,29126.636907023378,29117.74287554408,29115.89160635396,29105.27080944713,29096.507809752107,29087.19359414281,29082.96259314358,29079.66016704562,29064.627800374023,29054.37476249472,29055.784560221124,29055.895162597095,29054.40714992115,29054.184885473027,29051.90146511152,29050.5129122372,29052.081771436257,29057.7596613691,29063.572823549905,29065.73689926542,29062.294562732106,29060.464512021044,29057.714621048217,29062.96299682263,29075.824710939138,29092.982220720787,29098.93122435845,29089.21713912337,29084.59259248583,29082.908459086113,29076.68708836495,29073.5002053699,29070.154935807474,29064.816797868563,29059.700015439525,29056.269603969835,29045.54304580807,29027.84574881474,29005.93559467538,28987.93135036006,28977.107385602296,28963.838870253105,28961.707772443544,28972.013542411045,28979.4477279369,28984.372657501655,28989.312456839387,29002.1952141452,29014.215027054437,29021.431948763093,29025.145495427605,29025.24961304691,29025.039458362284,29022.832195119987,29017.833636161904,29013.523016672436,29012.403674646215,29016.209649967048,29028.803239395143,29035.155143733595,29038.777448978493,29041.431015321625,29043.222871192553,29047.63977914717,29049.209423673205,29050.50685371626,29051.30250113656,29051.407379351742,29051.622085682382,29051.853892437914,29053.259909706652,29053.836620789203,29056.44580216549,29055.278211501434,29048.515353734234,29043.634297989334,29041.078761233588,29041.112200968484,29034.510770224057,29032.715183653323,29033.73751097706,29034.38890680829,29034.85654080513,29034.774172506404,29037.398329233325,29038.377604488935],\"type\":\"scatter\",\"xaxis\":\"x\",\"yaxis\":\"y\"},{\"marker\":{\"color\":\"DarkSlateGrey\",\"line\":{\"color\":\"DarkSlateGrey\"}},\"name\":\"Volume\",\"x\":[\"2022-05-28T14:40:00+00:00\",\"2022-05-28T14:45:00+00:00\",\"2022-05-28T14:50:00+00:00\",\"2022-05-28T14:55:00+00:00\",\"2022-05-28T15:00:00+00:00\",\"2022-05-28T15:05:00+00:00\",\"2022-05-28T15:10:00+00:00\",\"2022-05-28T15:15:00+00:00\",\"2022-05-28T15:20:00+00:00\",\"2022-05-28T15:25:00+00:00\",\"2022-05-28T15:30:00+00:00\",\"2022-05-28T15:35:00+00:00\",\"2022-05-28T15:40:00+00:00\",\"2022-05-28T15:45:00+00:00\",\"2022-05-28T15:50:00+00:00\",\"2022-05-28T15:55:00+00:00\",\"2022-05-28T16:00:00+00:00\",\"2022-05-28T16:05:00+00:00\",\"2022-05-28T16:10:00+00:00\",\"2022-05-28T16:15:00+00:00\",\"2022-05-28T16:20:00+00:00\",\"2022-05-28T16:25:00+00:00\",\"2022-05-28T16:30:00+00:00\",\"2022-05-28T16:35:00+00:00\",\"2022-05-28T16:40:00+00:00\",\"2022-05-28T16:45:00+00:00\",\"2022-05-28T16:50:00+00:00\",\"2022-05-28T16:55:00+00:00\",\"2022-05-28T17:00:00+00:00\",\"2022-05-28T17:05:00+00:00\",\"2022-05-28T17:10:00+00:00\",\"2022-05-28T17:15:00+00:00\",\"2022-05-28T17:20:00+00:00\",\"2022-05-28T17:25:00+00:00\",\"2022-05-28T17:30:00+00:00\",\"2022-05-28T17:35:00+00:00\",\"2022-05-28T17:40:00+00:00\",\"2022-05-28T17:45:00+00:00\",\"2022-05-28T17:50:00+00:00\",\"2022-05-28T17:55:00+00:00\",\"2022-05-28T18:00:00+00:00\",\"2022-05-28T18:05:00+00:00\",\"2022-05-28T18:10:00+00:00\",\"2022-05-28T18:15:00+00:00\",\"2022-05-28T18:20:00+00:00\",\"2022-05-28T18:25:00+00:00\",\"2022-05-28T18:30:00+00:00\",\"2022-05-28T18:35:00+00:00\",\"2022-05-28T18:40:00+00:00\",\"2022-05-28T18:45:00+00:00\",\"2022-05-28T18:50:00+00:00\",\"2022-05-28T18:55:00+00:00\",\"2022-05-28T19:00:00+00:00\",\"2022-05-28T19:05:00+00:00\",\"2022-05-28T19:10:00+00:00\",\"2022-05-28T19:15:00+00:00\",\"2022-05-28T19:20:00+00:00\",\"2022-05-28T19:25:00+00:00\",\"2022-05-28T19:30:00+00:00\",\"2022-05-28T19:35:00+00:00\",\"2022-05-28T19:40:00+00:00\",\"2022-05-28T19:45:00+00:00\",\"2022-05-28T19:50:00+00:00\",\"2022-05-28T19:55:00+00:00\",\"2022-05-28T20:00:00+00:00\",\"2022-05-28T20:05:00+00:00\",\"2022-05-28T20:10:00+00:00\",\"2022-05-28T20:15:00+00:00\",\"2022-05-28T20:20:00+00:00\",\"2022-05-28T20:25:00+00:00\",\"2022-05-28T20:30:00+00:00\",\"2022-05-28T20:35:00+00:00\",\"2022-05-28T20:40:00+00:00\",\"2022-05-28T20:45:00+00:00\",\"2022-05-28T20:50:00+00:00\",\"2022-05-28T20:55:00+00:00\",\"2022-05-28T21:00:00+00:00\",\"2022-05-28T21:05:00+00:00\",\"2022-05-28T21:10:00+00:00\",\"2022-05-28T21:15:00+00:00\",\"2022-05-28T21:20:00+00:00\",\"2022-05-28T21:25:00+00:00\",\"2022-05-28T21:30:00+00:00\",\"2022-05-28T21:35:00+00:00\",\"2022-05-28T21:40:00+00:00\",\"2022-05-28T21:45:00+00:00\",\"2022-05-28T21:50:00+00:00\",\"2022-05-28T21:55:00+00:00\",\"2022-05-28T22:00:00+00:00\",\"2022-05-28T22:05:00+00:00\"],\"y\":[50.0038,143.03133,41.98774,28.85791,169.52106,62.35431,54.45397,76.36755,40.12023,79.44178,314.4173,207.44397,109.32156,100.00887,100.81611,58.40465,118.05446,61.32613,60.61501,135.97141,55.22492,99.36919,38.79026,89.58131,69.70356,56.45192,114.38726,184.65506,114.61654,93.88727,54.74616,1137.38989,347.71654,177.69479,81.46636,68.0217,38.22244,63.04738,32.08281,29.9915,76.76577,45.60976,41.06794,40.24929,49.90832,35.82557,62.86345,58.73895,31.87736,39.03301,44.36951,73.06792,48.63658,41.85706,43.8707,59.84633,7.43361,44.52882,18.13601,68.46373,48.52505,102.4891,106.78789,75.40539,68.67341,38.60058,34.32833,47.87946,69.49125,56.97016,28.86147,40.96948,33.57866,21.31609,32.26575,52.34936,42.33338,85.45037,45.87304,19.48556,41.65,96.55161,9.08283,23.86267,19.51165,14.158760000000001,21.71617,30.52497,72.40345,23.49709],\"type\":\"bar\",\"xaxis\":\"x2\",\"yaxis\":\"y2\"},{\"mode\":\"lines\",\"name\":\"macd\",\"x\":[\"2022-05-28T14:40:00+00:00\",\"2022-05-28T14:45:00+00:00\",\"2022-05-28T14:50:00+00:00\",\"2022-05-28T14:55:00+00:00\",\"2022-05-28T15:00:00+00:00\",\"2022-05-28T15:05:00+00:00\",\"2022-05-28T15:10:00+00:00\",\"2022-05-28T15:15:00+00:00\",\"2022-05-28T15:20:00+00:00\",\"2022-05-28T15:25:00+00:00\",\"2022-05-28T15:30:00+00:00\",\"2022-05-28T15:35:00+00:00\",\"2022-05-28T15:40:00+00:00\",\"2022-05-28T15:45:00+00:00\",\"2022-05-28T15:50:00+00:00\",\"2022-05-28T15:55:00+00:00\",\"2022-05-28T16:00:00+00:00\",\"2022-05-28T16:05:00+00:00\",\"2022-05-28T16:10:00+00:00\",\"2022-05-28T16:15:00+00:00\",\"2022-05-28T16:20:00+00:00\",\"2022-05-28T16:25:00+00:00\",\"2022-05-28T16:30:00+00:00\",\"2022-05-28T16:35:00+00:00\",\"2022-05-28T16:40:00+00:00\",\"2022-05-28T16:45:00+00:00\",\"2022-05-28T16:50:00+00:00\",\"2022-05-28T16:55:00+00:00\",\"2022-05-28T17:00:00+00:00\",\"2022-05-28T17:05:00+00:00\",\"2022-05-28T17:10:00+00:00\",\"2022-05-28T17:15:00+00:00\",\"2022-05-28T17:20:00+00:00\",\"2022-05-28T17:25:00+00:00\",\"2022-05-28T17:30:00+00:00\",\"2022-05-28T17:35:00+00:00\",\"2022-05-28T17:40:00+00:00\",\"2022-05-28T17:45:00+00:00\",\"2022-05-28T17:50:00+00:00\",\"2022-05-28T17:55:00+00:00\",\"2022-05-28T18:00:00+00:00\",\"2022-05-28T18:05:00+00:00\",\"2022-05-28T18:10:00+00:00\",\"2022-05-28T18:15:00+00:00\",\"2022-05-28T18:20:00+00:00\",\"2022-05-28T18:25:00+00:00\",\"2022-05-28T18:30:00+00:00\",\"2022-05-28T18:35:00+00:00\",\"2022-05-28T18:40:00+00:00\",\"2022-05-28T18:45:00+00:00\",\"2022-05-28T18:50:00+00:00\",\"2022-05-28T18:55:00+00:00\",\"2022-05-28T19:00:00+00:00\",\"2022-05-28T19:05:00+00:00\",\"2022-05-28T19:10:00+00:00\",\"2022-05-28T19:15:00+00:00\",\"2022-05-28T19:20:00+00:00\",\"2022-05-28T19:25:00+00:00\",\"2022-05-28T19:30:00+00:00\",\"2022-05-28T19:35:00+00:00\",\"2022-05-28T19:40:00+00:00\",\"2022-05-28T19:45:00+00:00\",\"2022-05-28T19:50:00+00:00\",\"2022-05-28T19:55:00+00:00\",\"2022-05-28T20:00:00+00:00\",\"2022-05-28T20:05:00+00:00\",\"2022-05-28T20:10:00+00:00\",\"2022-05-28T20:15:00+00:00\",\"2022-05-28T20:20:00+00:00\",\"2022-05-28T20:25:00+00:00\",\"2022-05-28T20:30:00+00:00\",\"2022-05-28T20:35:00+00:00\",\"2022-05-28T20:40:00+00:00\",\"2022-05-28T20:45:00+00:00\",\"2022-05-28T20:50:00+00:00\",\"2022-05-28T20:55:00+00:00\",\"2022-05-28T21:00:00+00:00\",\"2022-05-28T21:05:00+00:00\",\"2022-05-28T21:10:00+00:00\",\"2022-05-28T21:15:00+00:00\",\"2022-05-28T21:20:00+00:00\",\"2022-05-28T21:25:00+00:00\",\"2022-05-28T21:30:00+00:00\",\"2022-05-28T21:35:00+00:00\",\"2022-05-28T21:40:00+00:00\",\"2022-05-28T21:45:00+00:00\",\"2022-05-28T21:50:00+00:00\",\"2022-05-28T21:55:00+00:00\",\"2022-05-28T22:00:00+00:00\",\"2022-05-28T22:05:00+00:00\"],\"y\":[13.472207542356045,6.354824619633291,2.508159086220985,-1.0590935007676308,-4.994586627319222,-8.051345212195884,-9.822408545507642,-11.557544677925762,-9.947779030353558,-7.426876838893804,0.7377830186778738,4.589436376958474,5.617148422599712,4.892909729896928,6.238501526440814,4.685691663031321,4.355419642834022,3.711982366123266,1.6028280055506912,0.02462640675366856,2.4286607506364817,4.922663034300058,7.4332042760943295,7.242167308540957,4.877654957228515,3.3675936568288307,-0.8381534435611684,-7.796409394653892,-15.72066793873455,-24.99750106656211,-31.862740684468008,-28.572512571041443,-29.68002601412809,-29.794687247154798,-29.710906877051457,-32.04366120956911,-30.907173450606933,-30.28277793061352,-30.460783971295314,-29.00388518298132,-26.309803395182826,-23.181280018474354,-19.848547686084203,-15.751637195622607,-12.001731401720463,-8.774634481691464,-4.5907308038149495,-0.08857571939370246,1.5419853948333184,4.294453670710936,7.691123075790529,11.507532175772212,14.111983383154438,15.241829960075847,14.131347022219416,12.963061563532392,11.900011001158418,9.649586646006355,7.339315864668606,7.920963362310431,9.266801562891487,13.409702699380432,18.327135752759204,19.621681469761825,19.396819208501256,19.92575254559415,18.8271589772703,20.322937133401865,18.78711731688236,18.22410045417564,16.25667584146504,15.441779910237528,13.977211532092042,12.457481759676739,12.954018470638403,13.576729358475859,14.698035844859987,13.834352484107512,12.709650677432364,12.786882587559376,9.934379011876445,9.21125650657632,8.540533671864978,8.16899260567152,8.69420695431836,8.509640339103498,8.552847232152999,7.953959786740597,4.349202274956042,2.9144868195689924],\"type\":\"scatter\",\"xaxis\":\"x3\",\"yaxis\":\"y3\"},{\"mode\":\"lines\",\"name\":\"macdsignal\",\"x\":[\"2022-05-28T14:40:00+00:00\",\"2022-05-28T14:45:00+00:00\",\"2022-05-28T14:50:00+00:00\",\"2022-05-28T14:55:00+00:00\",\"2022-05-28T15:00:00+00:00\",\"2022-05-28T15:05:00+00:00\",\"2022-05-28T15:10:00+00:00\",\"2022-05-28T15:15:00+00:00\",\"2022-05-28T15:20:00+00:00\",\"2022-05-28T15:25:00+00:00\",\"2022-05-28T15:30:00+00:00\",\"2022-05-28T15:35:00+00:00\",\"2022-05-28T15:40:00+00:00\",\"2022-05-28T15:45:00+00:00\",\"2022-05-28T15:50:00+00:00\",\"2022-05-28T15:55:00+00:00\",\"2022-05-28T16:00:00+00:00\",\"2022-05-28T16:05:00+00:00\",\"2022-05-28T16:10:00+00:00\",\"2022-05-28T16:15:00+00:00\",\"2022-05-28T16:20:00+00:00\",\"2022-05-28T16:25:00+00:00\",\"2022-05-28T16:30:00+00:00\",\"2022-05-28T16:35:00+00:00\",\"2022-05-28T16:40:00+00:00\",\"2022-05-28T16:45:00+00:00\",\"2022-05-28T16:50:00+00:00\",\"2022-05-28T16:55:00+00:00\",\"2022-05-28T17:00:00+00:00\",\"2022-05-28T17:05:00+00:00\",\"2022-05-28T17:10:00+00:00\",\"2022-05-28T17:15:00+00:00\",\"2022-05-28T17:20:00+00:00\",\"2022-05-28T17:25:00+00:00\",\"2022-05-28T17:30:00+00:00\",\"2022-05-28T17:35:00+00:00\",\"2022-05-28T17:40:00+00:00\",\"2022-05-28T17:45:00+00:00\",\"2022-05-28T17:50:00+00:00\",\"2022-05-28T17:55:00+00:00\",\"2022-05-28T18:00:00+00:00\",\"2022-05-28T18:05:00+00:00\",\"2022-05-28T18:10:00+00:00\",\"2022-05-28T18:15:00+00:00\",\"2022-05-28T18:20:00+00:00\",\"2022-05-28T18:25:00+00:00\",\"2022-05-28T18:30:00+00:00\",\"2022-05-28T18:35:00+00:00\",\"2022-05-28T18:40:00+00:00\",\"2022-05-28T18:45:00+00:00\",\"2022-05-28T18:50:00+00:00\",\"2022-05-28T18:55:00+00:00\",\"2022-05-28T19:00:00+00:00\",\"2022-05-28T19:05:00+00:00\",\"2022-05-28T19:10:00+00:00\",\"2022-05-28T19:15:00+00:00\",\"2022-05-28T19:20:00+00:00\",\"2022-05-28T19:25:00+00:00\",\"2022-05-28T19:30:00+00:00\",\"2022-05-28T19:35:00+00:00\",\"2022-05-28T19:40:00+00:00\",\"2022-05-28T19:45:00+00:00\",\"2022-05-28T19:50:00+00:00\",\"2022-05-28T19:55:00+00:00\",\"2022-05-28T20:00:00+00:00\",\"2022-05-28T20:05:00+00:00\",\"2022-05-28T20:10:00+00:00\",\"2022-05-28T20:15:00+00:00\",\"2022-05-28T20:20:00+00:00\",\"2022-05-28T20:25:00+00:00\",\"2022-05-28T20:30:00+00:00\",\"2022-05-28T20:35:00+00:00\",\"2022-05-28T20:40:00+00:00\",\"2022-05-28T20:45:00+00:00\",\"2022-05-28T20:50:00+00:00\",\"2022-05-28T20:55:00+00:00\",\"2022-05-28T21:00:00+00:00\",\"2022-05-28T21:05:00+00:00\",\"2022-05-28T21:10:00+00:00\",\"2022-05-28T21:15:00+00:00\",\"2022-05-28T21:20:00+00:00\",\"2022-05-28T21:25:00+00:00\",\"2022-05-28T21:30:00+00:00\",\"2022-05-28T21:35:00+00:00\",\"2022-05-28T21:40:00+00:00\",\"2022-05-28T21:45:00+00:00\",\"2022-05-28T21:50:00+00:00\",\"2022-05-28T21:55:00+00:00\",\"2022-05-28T22:00:00+00:00\",\"2022-05-28T22:05:00+00:00\"],\"y\":[28.808425454582363,24.31770528759255,19.955796047318238,15.752818137701063,11.603337184697004,7.672400705318426,4.173438855153212,1.0272421485374172,-1.1677620872407783,-2.419585037571384,-1.7881114263215323,-0.5126018656655309,0.7133481919875178,1.5492604995694,2.487108704943683,2.9268252965612107,3.212544165815773,3.3124318058772717,2.9705110458119557,2.3813341180002983,2.390799444527535,2.8971721624820397,3.8043785852044976,4.491936329871789,4.569080055343134,4.328782775640273,3.2953955317999846,1.0770345465092093,-2.282505950539543,-6.8255049737440565,-11.832952115888848,-15.180864206919367,-18.080696568361112,-20.42349470411985,-22.28097713870617,-24.23351395287876,-25.568245852424393,-26.51115226806222,-27.30107860870884,-27.641639923563336,-27.375272617887234,-26.536474098004657,-25.198888815620567,-23.309438491620973,-21.047897073640872,-18.59324455525099,-15.792741804963782,-12.651908587849766,-9.813129791313148,-6.991613098908331,-4.05506586396856,-0.942546256020405,2.068359671814564,4.703053729466821,6.58871238801734,7.863582223120351,8.670867978727964,8.866611712183643,8.561152542680635,8.433114706606593,8.599852077863572,9.561822202166944,11.314884912285397,12.976244223780682,14.260359220724798,15.393437885698669,16.080182104012994,16.928733109890768,17.300409951289087,17.485148051866396,17.239453609786125,16.879918869876406,16.299377402319532,15.530998273790974,15.01560231316046,14.727827722223541,14.72186934675083,14.544365974222167,14.177422914864206,13.89931484940324,13.10632768189788,12.327313446833568,11.56995749183985,10.889764514606183,10.450653002548618,10.062450469859595,9.760529822318276,9.39921581520274,8.3892131071534,7.294267849636519],\"type\":\"scatter\",\"xaxis\":\"x3\",\"yaxis\":\"y3\"}],                        {\"template\":{\"data\":{\"histogram2dcontour\":[{\"type\":\"histogram2dcontour\",\"colorbar\":{\"outlinewidth\":0,\"ticks\":\"\"},\"colorscale\":[[0.0,\"#0d0887\"],[0.1111111111111111,\"#46039f\"],[0.2222222222222222,\"#7201a8\"],[0.3333333333333333,\"#9c179e\"],[0.4444444444444444,\"#bd3786\"],[0.5555555555555556,\"#d8576b\"],[0.6666666666666666,\"#ed7953\"],[0.7777777777777778,\"#fb9f3a\"],[0.8888888888888888,\"#fdca26\"],[1.0,\"#f0f921\"]]}],\"choropleth\":[{\"type\":\"choropleth\",\"colorbar\":{\"outlinewidth\":0,\"ticks\":\"\"}}],\"histogram2d\":[{\"type\":\"histogram2d\",\"colorbar\":{\"outlinewidth\":0,\"ticks\":\"\"},\"colorscale\":[[0.0,\"#0d0887\"],[0.1111111111111111,\"#46039f\"],[0.2222222222222222,\"#7201a8\"],[0.3333333333333333,\"#9c179e\"],[0.4444444444444444,\"#bd3786\"],[0.5555555555555556,\"#d8576b\"],[0.6666666666666666,\"#ed7953\"],[0.7777777777777778,\"#fb9f3a\"],[0.8888888888888888,\"#fdca26\"],[1.0,\"#f0f921\"]]}],\"heatmap\":[{\"type\":\"heatmap\",\"colorbar\":{\"outlinewidth\":0,\"ticks\":\"\"},\"colorscale\":[[0.0,\"#0d0887\"],[0.1111111111111111,\"#46039f\"],[0.2222222222222222,\"#7201a8\"],[0.3333333333333333,\"#9c179e\"],[0.4444444444444444,\"#bd3786\"],[0.5555555555555556,\"#d8576b\"],[0.6666666666666666,\"#ed7953\"],[0.7777777777777778,\"#fb9f3a\"],[0.8888888888888888,\"#fdca26\"],[1.0,\"#f0f921\"]]}],\"heatmapgl\":[{\"type\":\"heatmapgl\",\"colorbar\":{\"outlinewidth\":0,\"ticks\":\"\"},\"colorscale\":[[0.0,\"#0d0887\"],[0.1111111111111111,\"#46039f\"],[0.2222222222222222,\"#7201a8\"],[0.3333333333333333,\"#9c179e\"],[0.4444444444444444,\"#bd3786\"],[0.5555555555555556,\"#d8576b\"],[0.6666666666666666,\"#ed7953\"],[0.7777777777777778,\"#fb9f3a\"],[0.8888888888888888,\"#fdca26\"],[1.0,\"#f0f921\"]]}],\"contourcarpet\":[{\"type\":\"contourcarpet\",\"colorbar\":{\"outlinewidth\":0,\"ticks\":\"\"}}],\"contour\":[{\"type\":\"contour\",\"colorbar\":{\"outlinewidth\":0,\"ticks\":\"\"},\"colorscale\":[[0.0,\"#0d0887\"],[0.1111111111111111,\"#46039f\"],[0.2222222222222222,\"#7201a8\"],[0.3333333333333333,\"#9c179e\"],[0.4444444444444444,\"#bd3786\"],[0.5555555555555556,\"#d8576b\"],[0.6666666666666666,\"#ed7953\"],[0.7777777777777778,\"#fb9f3a\"],[0.8888888888888888,\"#fdca26\"],[1.0,\"#f0f921\"]]}],\"surface\":[{\"type\":\"surface\",\"colorbar\":{\"outlinewidth\":0,\"ticks\":\"\"},\"colorscale\":[[0.0,\"#0d0887\"],[0.1111111111111111,\"#46039f\"],[0.2222222222222222,\"#7201a8\"],[0.3333333333333333,\"#9c179e\"],[0.4444444444444444,\"#bd3786\"],[0.5555555555555556,\"#d8576b\"],[0.6666666666666666,\"#ed7953\"],[0.7777777777777778,\"#fb9f3a\"],[0.8888888888888888,\"#fdca26\"],[1.0,\"#f0f921\"]]}],\"mesh3d\":[{\"type\":\"mesh3d\",\"colorbar\":{\"outlinewidth\":0,\"ticks\":\"\"}}],\"scatter\":[{\"fillpattern\":{\"fillmode\":\"overlay\",\"size\":10,\"solidity\":0.2},\"type\":\"scatter\"}],\"parcoords\":[{\"type\":\"parcoords\",\"line\":{\"colorbar\":{\"outlinewidth\":0,\"ticks\":\"\"}}}],\"scatterpolargl\":[{\"type\":\"scatterpolargl\",\"marker\":{\"colorbar\":{\"outlinewidth\":0,\"ticks\":\"\"}}}],\"bar\":[{\"error_x\":{\"color\":\"#2a3f5f\"},\"error_y\":{\"color\":\"#2a3f5f\"},\"marker\":{\"line\":{\"color\":\"#E5ECF6\",\"width\":0.5},\"pattern\":{\"fillmode\":\"overlay\",\"size\":10,\"solidity\":0.2}},\"type\":\"bar\"}],\"scattergeo\":[{\"type\":\"scattergeo\",\"marker\":{\"colorbar\":{\"outlinewidth\":0,\"ticks\":\"\"}}}],\"scatterpolar\":[{\"type\":\"scatterpolar\",\"marker\":{\"colorbar\":{\"outlinewidth\":0,\"ticks\":\"\"}}}],\"histogram\":[{\"marker\":{\"pattern\":{\"fillmode\":\"overlay\",\"size\":10,\"solidity\":0.2}},\"type\":\"histogram\"}],\"scattergl\":[{\"type\":\"scattergl\",\"marker\":{\"colorbar\":{\"outlinewidth\":0,\"ticks\":\"\"}}}],\"scatter3d\":[{\"type\":\"scatter3d\",\"line\":{\"colorbar\":{\"outlinewidth\":0,\"ticks\":\"\"}},\"marker\":{\"colorbar\":{\"outlinewidth\":0,\"ticks\":\"\"}}}],\"scattermapbox\":[{\"type\":\"scattermapbox\",\"marker\":{\"colorbar\":{\"outlinewidth\":0,\"ticks\":\"\"}}}],\"scatterternary\":[{\"type\":\"scatterternary\",\"marker\":{\"colorbar\":{\"outlinewidth\":0,\"ticks\":\"\"}}}],\"scattercarpet\":[{\"type\":\"scattercarpet\",\"marker\":{\"colorbar\":{\"outlinewidth\":0,\"ticks\":\"\"}}}],\"carpet\":[{\"aaxis\":{\"endlinecolor\":\"#2a3f5f\",\"gridcolor\":\"white\",\"linecolor\":\"white\",\"minorgridcolor\":\"white\",\"startlinecolor\":\"#2a3f5f\"},\"baxis\":{\"endlinecolor\":\"#2a3f5f\",\"gridcolor\":\"white\",\"linecolor\":\"white\",\"minorgridcolor\":\"white\",\"startlinecolor\":\"#2a3f5f\"},\"type\":\"carpet\"}],\"table\":[{\"cells\":{\"fill\":{\"color\":\"#EBF0F8\"},\"line\":{\"color\":\"white\"}},\"header\":{\"fill\":{\"color\":\"#C8D4E3\"},\"line\":{\"color\":\"white\"}},\"type\":\"table\"}],\"barpolar\":[{\"marker\":{\"line\":{\"color\":\"#E5ECF6\",\"width\":0.5},\"pattern\":{\"fillmode\":\"overlay\",\"size\":10,\"solidity\":0.2}},\"type\":\"barpolar\"}],\"pie\":[{\"automargin\":true,\"type\":\"pie\"}]},\"layout\":{\"autotypenumbers\":\"strict\",\"colorway\":[\"#636efa\",\"#EF553B\",\"#00cc96\",\"#ab63fa\",\"#FFA15A\",\"#19d3f3\",\"#FF6692\",\"#B6E880\",\"#FF97FF\",\"#FECB52\"],\"font\":{\"color\":\"#2a3f5f\"},\"hovermode\":\"closest\",\"hoverlabel\":{\"align\":\"left\"},\"paper_bgcolor\":\"white\",\"plot_bgcolor\":\"#E5ECF6\",\"polar\":{\"bgcolor\":\"#E5ECF6\",\"angularaxis\":{\"gridcolor\":\"white\",\"linecolor\":\"white\",\"ticks\":\"\"},\"radialaxis\":{\"gridcolor\":\"white\",\"linecolor\":\"white\",\"ticks\":\"\"}},\"ternary\":{\"bgcolor\":\"#E5ECF6\",\"aaxis\":{\"gridcolor\":\"white\",\"linecolor\":\"white\",\"ticks\":\"\"},\"baxis\":{\"gridcolor\":\"white\",\"linecolor\":\"white\",\"ticks\":\"\"},\"caxis\":{\"gridcolor\":\"white\",\"linecolor\":\"white\",\"ticks\":\"\"}},\"coloraxis\":{\"colorbar\":{\"outlinewidth\":0,\"ticks\":\"\"}},\"colorscale\":{\"sequential\":[[0.0,\"#0d0887\"],[0.1111111111111111,\"#46039f\"],[0.2222222222222222,\"#7201a8\"],[0.3333333333333333,\"#9c179e\"],[0.4444444444444444,\"#bd3786\"],[0.5555555555555556,\"#d8576b\"],[0.6666666666666666,\"#ed7953\"],[0.7777777777777778,\"#fb9f3a\"],[0.8888888888888888,\"#fdca26\"],[1.0,\"#f0f921\"]],\"sequentialminus\":[[0.0,\"#0d0887\"],[0.1111111111111111,\"#46039f\"],[0.2222222222222222,\"#7201a8\"],[0.3333333333333333,\"#9c179e\"],[0.4444444444444444,\"#bd3786\"],[0.5555555555555556,\"#d8576b\"],[0.6666666666666666,\"#ed7953\"],[0.7777777777777778,\"#fb9f3a\"],[0.8888888888888888,\"#fdca26\"],[1.0,\"#f0f921\"]],\"diverging\":[[0,\"#8e0152\"],[0.1,\"#c51b7d\"],[0.2,\"#de77ae\"],[0.3,\"#f1b6da\"],[0.4,\"#fde0ef\"],[0.5,\"#f7f7f7\"],[0.6,\"#e6f5d0\"],[0.7,\"#b8e186\"],[0.8,\"#7fbc41\"],[0.9,\"#4d9221\"],[1,\"#276419\"]]},\"xaxis\":{\"gridcolor\":\"white\",\"linecolor\":\"white\",\"ticks\":\"\",\"title\":{\"standoff\":15},\"zerolinecolor\":\"white\",\"automargin\":true,\"zerolinewidth\":2},\"yaxis\":{\"gridcolor\":\"white\",\"linecolor\":\"white\",\"ticks\":\"\",\"title\":{\"standoff\":15},\"zerolinecolor\":\"white\",\"automargin\":true,\"zerolinewidth\":2},\"scene\":{\"xaxis\":{\"backgroundcolor\":\"#E5ECF6\",\"gridcolor\":\"white\",\"linecolor\":\"white\",\"showbackground\":true,\"ticks\":\"\",\"zerolinecolor\":\"white\",\"gridwidth\":2},\"yaxis\":{\"backgroundcolor\":\"#E5ECF6\",\"gridcolor\":\"white\",\"linecolor\":\"white\",\"showbackground\":true,\"ticks\":\"\",\"zerolinecolor\":\"white\",\"gridwidth\":2},\"zaxis\":{\"backgroundcolor\":\"#E5ECF6\",\"gridcolor\":\"white\",\"linecolor\":\"white\",\"showbackground\":true,\"ticks\":\"\",\"zerolinecolor\":\"white\",\"gridwidth\":2}},\"shapedefaults\":{\"line\":{\"color\":\"#2a3f5f\"}},\"annotationdefaults\":{\"arrowcolor\":\"#2a3f5f\",\"arrowhead\":0,\"arrowwidth\":1},\"geo\":{\"bgcolor\":\"white\",\"landcolor\":\"#E5ECF6\",\"subunitcolor\":\"white\",\"showland\":true,\"showlakes\":true,\"lakecolor\":\"white\"},\"title\":{\"x\":0.05},\"mapbox\":{\"style\":\"light\"}}},\"xaxis\":{\"anchor\":\"y\",\"domain\":[0.0,1.0],\"matches\":\"x3\",\"showticklabels\":false,\"rangeslider\":{\"visible\":false}},\"yaxis\":{\"anchor\":\"x\",\"domain\":[0.33346666666666663,1.0],\"title\":{\"text\":\"Price\"}},\"xaxis2\":{\"anchor\":\"y2\",\"domain\":[0.0,1.0],\"matches\":\"x3\",\"showticklabels\":false},\"yaxis2\":{\"anchor\":\"x2\",\"domain\":[0.16673333333333332,0.33336666666666664],\"title\":{\"text\":\"Volume\"}},\"xaxis3\":{\"anchor\":\"y3\",\"domain\":[0.0,1.0]},\"yaxis3\":{\"anchor\":\"x3\",\"domain\":[0.0,0.16663333333333333],\"title\":{\"text\":\"Other\"}},\"title\":{\"text\":\"BTC_USDT\"},\"modebar\":{\"add\":[\"v1hovermode\",\"toggleSpikeLines\"]}},                        {\"responsive\": true}                    ).then(function(){\n",
       "                            \n",
       "var gd = document.getElementById('4b97ecd0-89bc-461e-adcb-4884124e6c3a');\n",
       "var x = new MutationObserver(function (mutations, observer) {{\n",
       "        var display = window.getComputedStyle(gd).display;\n",
       "        if (!display || display === 'none') {{\n",
       "            console.log([gd, 'removed!']);\n",
       "            Plotly.purge(gd);\n",
       "            observer.disconnect();\n",
       "        }}\n",
       "}});\n",
       "\n",
       "// Listen for the removal of the full notebook cells\n",
       "var notebookContainer = gd.closest('#notebook-container');\n",
       "if (notebookContainer) {{\n",
       "    x.observe(notebookContainer, {childList: true});\n",
       "}}\n",
       "\n",
       "// Listen for the clearing of the current output cell\n",
       "var outputEl = gd.closest('.output');\n",
       "if (outputEl) {{\n",
       "    x.observe(outputEl, {childList: true});\n",
       "}}\n",
       "\n",
       "                        })                };                });            </script>        </div>"
      ]
     },
     "metadata": {},
     "output_type": "display_data"
    }
   ],
   "source": [
    "from freqtrade.plot.plotting import  generate_candlestick_graph\n",
    "# Limit graph period to keep plotly quick and reactive\n",
    "\n",
    "data = candles[360:450]\n",
    "\n",
    "# Generate candlestick graph\n",
    "graph = generate_candlestick_graph(\n",
    "    pair=pair,\n",
    "    data=data,\n",
    "    #trades=trades,\n",
    "    #indicators1=['sma20', 'ema50', 'ema55'],\n",
    "    #indicators2=['rsi', 'macd', 'macdsignal', 'macdhist']\n",
    ")\n",
    "\n",
    "graph.show()"
   ]
  },
  {
   "cell_type": "code",
   "execution_count": null,
   "id": "6e70bcb5",
   "metadata": {},
   "outputs": [],
   "source": []
  }
 ],
 "metadata": {
  "kernelspec": {
   "display_name": "Python 3 (ipykernel)",
   "language": "python",
   "name": "python3"
  },
  "language_info": {
   "codemirror_mode": {
    "name": "ipython",
    "version": 3
   },
   "file_extension": ".py",
   "mimetype": "text/x-python",
   "name": "python",
   "nbconvert_exporter": "python",
   "pygments_lexer": "ipython3",
   "version": "3.10.4"
  }
 },
 "nbformat": 4,
 "nbformat_minor": 5
}
