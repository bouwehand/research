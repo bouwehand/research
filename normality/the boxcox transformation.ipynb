{
 "cells": [
  {
   "cell_type": "markdown",
   "id": "1d3d91b1",
   "metadata": {},
   "source": [
    "# The boxcox transformation\n",
    "\n",
    "In my research 'The empirical rule' we saw bitcoin price data is not normaly distributed. This is inconvienent.\n",
    "Hopefuly its log-normal and then we could apply the boxcox transformation. (the idea being that log-normal is not to far from normal and the math does not break down as in other power distributions)\n",
    "\n",
    "https://aegis4048.github.io/transforming-non-normal-distribution-to-normal-distribution\n",
    "\n",
    "Box-Cox Transformation is a type of power transformation to convert non-normal data to normal data by raising the distribution to a power of lambda (λ). The algorithm can automatically decide the lambda (λ) parameter that best transforms the distribution into normal distribution.\n"
   ]
  },
  {
   "cell_type": "code",
   "execution_count": 1,
   "id": "5d2818bc",
   "metadata": {},
   "outputs": [
    {
     "name": "stdout",
     "output_type": "stream",
     "text": [
      "                   time       low      high      open     close      volume\n",
      "0   2022-06-01 15:30:00  30710.57  30919.02  30891.60  30755.80  549.939969\n",
      "1   2022-06-01 15:45:00  30695.00  30848.21  30755.79  30715.32  498.698285\n",
      "2   2022-06-01 16:00:00  30528.00  30718.94  30715.33  30602.19  653.669947\n",
      "3   2022-06-01 16:15:00  30366.87  30634.60  30601.93  30375.23  715.812746\n",
      "4   2022-06-01 16:30:00  30316.29  30462.00  30373.23  30402.63  821.588755\n",
      "..                  ...       ...       ...       ...       ...         ...\n",
      "95  2022-06-02 15:15:00  30120.79  30351.09  30194.98  30279.15  496.054962\n",
      "96  2022-06-02 15:30:00  30184.43  30364.22  30282.62  30290.03  455.413755\n",
      "97  2022-06-02 15:45:00  30153.36  30340.00  30292.75  30189.65  258.827953\n",
      "98  2022-06-02 16:00:00  30161.90  30336.70  30189.69  30318.08  216.257057\n",
      "99  2022-06-02 16:15:00  30162.46  30383.10  30318.07  30240.39  244.385410\n",
      "\n",
      "[100 rows x 6 columns]\n",
      "False\n"
     ]
    }
   ],
   "source": [
    "import pandas as pd\n",
    "import matplotlib.pyplot as plt\n",
    "import numpy as np\n",
    "import sys  \n",
    "sys.path.insert(0, '..')\n",
    "\n",
    "from functions import difference_returns, empirical_rule, empirical_rule_quartiles\n",
    "\n",
    "#standard import bitcoin data\n",
    "dt        = 900\n",
    "key_open  = \"open\" \n",
    "key_high  = \"high\"\n",
    "key_low   = \"low\"\n",
    "key_close = \"close\"\n",
    "\n",
    "df = pd.read_csv(\"../BTCUSD.csv\")\n",
    "df = df[0:100]\n",
    "print(df)\n",
    "print(empirical_rule(df['close']))"
   ]
  },
  {
   "cell_type": "code",
   "execution_count": 2,
   "id": "fcdd0392",
   "metadata": {},
   "outputs": [
    {
     "name": "stdout",
     "output_type": "stream",
     "text": [
      "19   -13.827000\n",
      "86   -11.231333\n",
      "89   -10.675000\n",
      "13    -8.642333\n",
      "3     -7.565333\n",
      "        ...    \n",
      "16     5.037667\n",
      "94     5.274333\n",
      "30     5.319667\n",
      "90     6.096000\n",
      "88    12.473667\n",
      "Name: close, Length: 99, dtype: float64\n"
     ]
    }
   ],
   "source": [
    "from scipy import stats\n",
    "\n",
    "# we assume brownian motion and calculate the difference deviced by squired delta time\n",
    "returns = difference_returns(df[key_close], dt)\n",
    "\n",
    "# drop the first because it will be missing\n",
    "returns = returns[1:]\n",
    "returns = returns.sort_values()\n",
    "print(returns)\n"
   ]
  },
  {
   "cell_type": "code",
   "execution_count": 3,
   "id": "6b06d1a8",
   "metadata": {},
   "outputs": [
    {
     "name": "stdout",
     "output_type": "stream",
     "text": [
      "19     0.000000\n",
      "86     2.595667\n",
      "89     3.152000\n",
      "13     5.184667\n",
      "3      6.261667\n",
      "        ...    \n",
      "16    18.864667\n",
      "94    19.101333\n",
      "30    19.146667\n",
      "90    19.923000\n",
      "88    26.300667\n",
      "Name: close, Length: 99, dtype: float64\n"
     ]
    }
   ],
   "source": [
    "# for the box-cox transformation all data needs to be positive \n",
    "# so we will add the box-cox constant that is equal to the lowest values absolute\n",
    "box_cox_c = abs(returns.min())\n",
    "returns_c = returns + box_cox_c\n",
    "print(returns_c)"
   ]
  },
  {
   "cell_type": "code",
   "execution_count": 7,
   "id": "f7a64ddd",
   "metadata": {},
   "outputs": [
    {
     "name": "stdout",
     "output_type": "stream",
     "text": [
      "[-11.92477924 -11.1515016   -7.98412011  -6.1278719   -5.38329619\n",
      "  -4.9674162   -3.97705791  -1.60032651   0.26775914   0.86184776\n",
      "   1.1654105    1.18871411   2.04485216   2.46888916   2.91020296\n",
      "   3.00652511   3.45674003   3.51834208   3.63743891   4.99063287\n",
      "   5.03249953   5.23563693   5.25735357   5.43201556   5.49443112\n",
      "   5.74601084   5.84510129   6.19208544   6.32173731   6.33273357\n",
      "   6.86068952   6.89093168   6.93668298   7.209455     7.68746068\n",
      "   7.8751757    8.0050068    8.02516895   8.09091231   8.09913342\n",
      "   8.26220697   8.36857843   8.5538844    8.62374721   8.89917668\n",
      "   8.98587806   9.25475612   9.30317059   9.64879821   9.67613483\n",
      "   9.78327381  10.10154972  10.10612542  10.16333866  10.16486478\n",
      "  10.29237452  10.40091845  10.68733847  10.76098312  11.2131653\n",
      "  11.27637555  11.30876579  11.41217047  11.43301761  11.5272653\n",
      "  11.89343263  12.52718577  12.54512246  12.5466823   12.71917647\n",
      "  12.76214527  13.55641208  13.78320915  14.609752    14.91250277\n",
      "  15.14662824  15.21838724  15.28938937  15.52502044  15.76269301\n",
      "  15.94705412  16.39060133  16.4558149   17.27088859  17.82545584\n",
      "  18.39862941  18.9561351   19.49938472  19.55621257  20.13151518\n",
      "  20.17949119  21.14147253  21.34728973  21.3806469   21.97395842\n",
      "  22.08786988  24.05156505  41.04171218] 1.3122319064375563\n",
      "[0.73, 0.96, 0.99, 1.0]\n",
      "True\n"
     ]
    },
    {
     "data": {
      "image/png": "[encoded data removed]",
      "text/plain": [
       "<Figure size 432x288 with 1 Axes>"
      ]
     },
     "metadata": {
      "needs_background": "light"
     },
     "output_type": "display_data"
    }
   ],
   "source": [
    "# apply the box-cox transformation\n",
    "from scipy import stats\n",
    "xt, lmbda = stats.boxcox(returns_c[1:])\n",
    "c_xt = xt - box_cox_c\n",
    "print(c_xt , lmbda)\n",
    "print(empirical_rule_quartiles(pd.Series(c_xt)))\n",
    "print(empirical_rule(pd.Series(c_xt )))\n",
    "plt.hist(c_xt)\n",
    "plt.show() "
   ]
  },
  {
   "cell_type": "code",
   "execution_count": null,
   "id": "05f664c6",
   "metadata": {},
   "outputs": [],
   "source": []
  },
  {
   "cell_type": "code",
   "execution_count": null,
   "id": "4bbff35b",
   "metadata": {},
   "outputs": [],
   "source": []
  }
 ],
 "metadata": {
  "kernelspec": {
   "display_name": "Python 3 (ipykernel)",
   "language": "python",
   "name": "python3"
  },
  "language_info": {
   "codemirror_mode": {
    "name": "ipython",
    "version": 3
   },
   "file_extension": ".py",
   "mimetype": "text/x-python",
   "name": "python",
   "nbconvert_exporter": "python",
   "pygments_lexer": "ipython3",
   "version": "3.10.4"
  }
 },
 "nbformat": 4,
 "nbformat_minor": 5
}
