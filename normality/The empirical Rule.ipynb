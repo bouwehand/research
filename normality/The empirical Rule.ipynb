{
 "cells": [
  {
   "cell_type": "markdown",
   "id": "8fa79872",
   "metadata": {},
   "source": [
    "# The Empirical Rule\n",
    "\n",
    "Use tests where you're add and that you inderstand.\n",
    "\n",
    "We could just test for normallity with the emperical rule\n",
    "\n",
    "Rules:\n",
    "* 68%   of the data fall within 1 standard deviation of the mean\n",
    "* 95%   of the data fall within 2 standard deviations of the mean\n",
    "* 99.7% of the data fall within 3 standard deviations of the mean\n"
   ]
  },
  {
   "cell_type": "markdown",
   "id": "f1a3e850",
   "metadata": {},
   "source": [
    "## setup\n",
    "\n",
    "* calculate the percentage change of the bitcoin \n",
    "* plot this in a histogram for the idea\n"
   ]
  },
  {
   "cell_type": "code",
   "execution_count": 123,
   "id": "b480676f",
   "metadata": {},
   "outputs": [],
   "source": [
    "import pandas as pd\n",
    "import matplotlib.pyplot as plt\n",
    "import numpy as np\n",
    "import sys\n",
    "sys.path.insert(0, '..')\n",
    "\n",
    "from functions import difference_returns\n",
    "\n",
    "\n",
    "#standard import bitcoin data\n",
    "dt = 900\n",
    "key_open = \"open\"\n",
    "key_high = \"high\"\n",
    "key_low  = \"low\"\n",
    "key_close = \"close\"\n",
    "\n",
    "df = pd.read_csv(\"../BTCUSD.csv\")\n",
    "df = df[0:100]"
   ]
  },
  {
   "cell_type": "code",
   "execution_count": 124,
   "id": "2f220f9b",
   "metadata": {},
   "outputs": [
    {
     "name": "stdout",
     "output_type": "stream",
     "text": [
      "19   -13.827000\n",
      "86   -11.231333\n",
      "89   -10.675000\n",
      "13    -8.642333\n",
      "3     -7.565333\n",
      "        ...    \n",
      "16     5.037667\n",
      "94     5.274333\n",
      "30     5.319667\n",
      "90     6.096000\n",
      "88    12.473667\n",
      "Name: close, Length: 99, dtype: float64\n"
     ]
    },
    {
     "data": {
      "image/png": "[encoded data removed]",
      "text/plain": [
       "<Figure size 432x288 with 1 Axes>"
      ]
     },
     "metadata": {
      "needs_background": "light"
     },
     "output_type": "display_data"
    }
   ],
   "source": [
    "# we assume brownian motion and calculate the difference deviced by squired delta time\n",
    "returns = difference_returns(df[key_close], dt)\n",
    "\n",
    "# drop the first because it will be missing\n",
    "returns = returns[1:]\n",
    "returns = returns.sort_values()\n",
    "\n",
    "print(returns)\n",
    "plt.hist(returns)\n",
    "plt.show() "
   ]
  },
  {
   "cell_type": "code",
   "execution_count": 103,
   "id": "3c2fd80e",
   "metadata": {},
   "outputs": [
    {
     "name": "stdout",
     "output_type": "stream",
     "text": [
      "-5.447702028352536e-06\n",
      "0.0001275745681862496\n",
      "One std interval\n",
      "-0.00013302227021460213  -  0.00012212686615789708\n"
     ]
    }
   ],
   "source": [
    "#calculate mean and standard deviation\n",
    "mu = returns.mean()\n",
    "std = returns.std()\n",
    "\n",
    "print(mu)\n",
    "print(std)\n",
    "print(\"One std interval\")\n",
    "print(mu - std, \" - \", mu + std)"
   ]
  },
  {
   "cell_type": "markdown",
   "id": "d1a30b2c",
   "metadata": {},
   "source": [
    "* get all points between one, two and three std and calculate the percentage"
   ]
  },
  {
   "cell_type": "code",
   "execution_count": 104,
   "id": "d76ca7b3",
   "metadata": {},
   "outputs": [
    {
     "name": "stdout",
     "output_type": "stream",
     "text": [
      "0.7676767676767676\n",
      "0.9494949494949495\n",
      "0.9797979797979798\n",
      "1.0\n"
     ]
    }
   ],
   "source": [
    "# get all points between one standard deviation\n",
    "# get all the points between two standard deviations\n",
    "r1 = returns.loc[returns.gt(mu - std ) & returns.lt(mu + std)]\n",
    "r2 = returns.loc[returns.gt(mu - std * 2 ) & returns.lt(mu + std * 2 )]\n",
    "r3 = returns.loc[returns.gt(mu - std * 3 ) & returns.lt(mu + std * 3 )]\n",
    "r4 = returns.loc[returns.gt(mu - std * 4 ) & returns.lt(mu + std * 4 )]\n",
    "r5 = returns.loc[returns.gt(mu - std * 5 ) & returns.lt(mu + std * 5 )]\n",
    "print(len(r1) / len(returns))\n",
    "print(len(r2) / len(returns))\n",
    "print(len(r3) / len(returns))\n",
    "print(len(r4) / len(returns))"
   ]
  },
  {
   "cell_type": "code",
   "execution_count": 110,
   "id": "fa1513ed",
   "metadata": {},
   "outputs": [
    {
     "name": "stdout",
     "output_type": "stream",
     "text": [
      "False\n"
     ]
    }
   ],
   "source": []
  },
  {
   "cell_type": "code",
   "execution_count": 121,
   "id": "0b9e3f3d",
   "metadata": {},
   "outputs": [
    {
     "name": "stdout",
     "output_type": "stream",
     "text": [
      "[0.77, 0.95, 0.98, 1.0]\n"
     ]
    }
   ],
   "source": [
    "def empirical_rule_quartiles(s: pd.Series) -> list:\n",
    "    s = s.copy()\n",
    "\n",
    "    mu = s.mean()\n",
    "    std = s.std()\n",
    "    r1 = s.loc[s.gt(mu - std) & s.lt(mu + std)]\n",
    "    r2 = s.loc[s.gt(mu - std * 2) & s.lt(mu + std * 2)]\n",
    "    r3 = s.loc[s.gt(mu - std * 3) & s.lt(mu + std * 3)]\n",
    "    r4 = s.loc[s.gt(mu - std * 4) & s.lt(mu + std * 4)]\n",
    "\n",
    "    q1 = round(len(r1) / len(s), 2)\n",
    "    q2 = round(len(r2) / len(s), 2)\n",
    "    q3 = round(len(r3) / len(s), 2)\n",
    "    q4 = len(r4) / len(s)\n",
    "    return [q1, q2, q3, q4]\n",
    "\n",
    "# we assume brownian motion and calculate the difference deviced by squired delta time\n",
    "returns = df[key_close].pct_change() / np.sqrt(dt)\n",
    "    \n",
    "# drop the first because it will be missing\n",
    "returns = returns[1:]\n",
    "    \n",
    "\n",
    "print(empirical_rule_quartiles(returns))"
   ]
  },
  {
   "cell_type": "code",
   "execution_count": 118,
   "id": "b3b4eef0",
   "metadata": {},
   "outputs": [
    {
     "name": "stdout",
     "output_type": "stream",
     "text": [
      "False\n"
     ]
    }
   ],
   "source": [
    "\n",
    "# the final function\n",
    "def empirical_rule(s: pd.Series) -> bool:\n",
    "    q = empirical_rule_quartiles(s)\n",
    "    return q[0] >= 0.68  and q[1] >= 0.95 and q[2] >= 0.997\n",
    "\n",
    "print(empirical_rule(returns))\n"
   ]
  },
  {
   "cell_type": "code",
   "execution_count": null,
   "id": "65ee3c22",
   "metadata": {},
   "outputs": [],
   "source": []
  }
 ],
 "metadata": {
  "kernelspec": {
   "display_name": "Python 3 (ipykernel)",
   "language": "python",
   "name": "python3"
  },
  "language_info": {
   "codemirror_mode": {
    "name": "ipython",
    "version": 3
   },
   "file_extension": ".py",
   "mimetype": "text/x-python",
   "name": "python",
   "nbconvert_exporter": "python",
   "pygments_lexer": "ipython3",
   "version": "3.10.4"
  }
 },
 "nbformat": 4,
 "nbformat_minor": 5
}
