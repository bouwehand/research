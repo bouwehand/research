{
 "cells": [
  {
   "cell_type": "code",
   "execution_count": null,
   "id": "23d6b560",
   "metadata": {
    "pycharm": {
     "name": "#%%\n"
    }
   },
   "outputs": [
    {
     "name": "stderr",
     "output_type": "stream",
     "text": [
      "C:\\Users\\thrynillan\\AppData\\Local\\Temp\\ipykernel_15196\\3511897474.py:106: SettingWithCopyWarning:\n",
      "\n",
      "\n",
      "A value is trying to be set on a copy of a slice from a DataFrame\n",
      "\n",
      "See the caveats in the documentation: https://pandas.pydata.org/pandas-docs/stable/user_guide/indexing.html#returning-a-view-versus-a-copy\n",
      "\n",
      "C:\\Users\\thrynillan\\AppData\\Local\\Temp\\ipykernel_15196\\3511897474.py:110: SettingWithCopyWarning:\n",
      "\n",
      "\n",
      "A value is trying to be set on a copy of a slice from a DataFrame\n",
      "\n",
      "See the caveats in the documentation: https://pandas.pydata.org/pandas-docs/stable/user_guide/indexing.html#returning-a-view-versus-a-copy\n",
      "\n"
     ]
    },
    {
     "data": {
      "application/vnd.plotly.v1+json": {
       "config": {
        "plotlyServerURL": "https://plot.ly"
       },
       "data": [
        {
         "close": [
          30755.8,
          30715.32,
          30602.19,
          30375.23,
          30402.63,
          30396.82,
          30242.42,
          30027.93,
          30118.99,
          30152.34,
          30177.71,
          30313.8,
          30389.42,
          30130.15,
          30174.11,
          30131.86,
          30282.99,
          30091.42,
          30003.43,
          29588.62,
          29494.33,
          29623.45,
          29724.6,
          29691.86,
          29696.32,
          29570,
          29529.67,
          29680.4,
          29709.02,
          29733.57,
          29893.16,
          29888.5,
          29808.26,
          29788.79,
          29671.22,
          29745.94,
          29659.32,
          29658.86,
          29773.87,
          29740.72,
          29808.69,
          29794.4,
          29835.9,
          29813.91,
          29823.96,
          29806.23,
          29751.14,
          29768.85,
          29755.98,
          29707.62,
          29655.8,
          29727.58,
          29785.1,
          29790.97,
          29678.18,
          29719.93,
          29841.75,
          29851.86,
          29850.76,
          29818.64,
          29844.43,
          29899.07,
          29909.93,
          30046.6,
          29993.92,
          29946.92,
          29937.45,
          29951.42,
          29933.96,
          29917.49,
          29930.04,
          29974.55,
          29895.18,
          29913.85,
          29955.58,
          29896.8,
          30045.06,
          30016.63,
          30006.23,
          30085.69,
          30069.11,
          30153.84,
          30095.64,
          30099.74,
          30044.35,
          30071.48,
          29734.54,
          29824.79,
          30199,
          29878.75,
          30061.63,
          29854,
          29961.98,
          30038.49,
          30196.72,
          30279.15,
          30290.03,
          30189.65,
          30318.08,
          30240.39
         ],
         "high": [
          30919.02,
          30848.21,
          30718.94,
          30634.6,
          30462,
          30447.5,
          30403.3,
          30260.61,
          30215.79,
          30201.44,
          30235.26,
          30378.51,
          30408.49,
          30400.5,
          30199.07,
          30275.6,
          30322.16,
          30290.99,
          30131.9,
          30028.85,
          29610.64,
          29720,
          29758.27,
          29730,
          29702.05,
          29700.74,
          29597.2,
          29682.01,
          29735.55,
          29757.5,
          30044.97,
          29944.27,
          29898.94,
          29848.23,
          29797.5,
          29747.96,
          29764.38,
          29798.5,
          29789.32,
          29800,
          29865.6,
          29862.08,
          29836.32,
          29844.55,
          29884.3,
          29840.41,
          29839.48,
          29827.23,
          29790.53,
          29769.03,
          29747.66,
          29730.95,
          29800,
          29799.08,
          29796.42,
          29725.59,
          29850,
          29868.6,
          29865.93,
          29852,
          29844.5,
          29927.18,
          29968.53,
          30096.09,
          30070.06,
          29993.92,
          29972.86,
          29999,
          29989.78,
          29959.94,
          29940.76,
          29977.6,
          30002.31,
          29938.78,
          29955.58,
          29957.3,
          30048.01,
          30146.81,
          30019.15,
          30098.87,
          30104.52,
          30191,
          30171.31,
          30148.64,
          30128.5,
          30114,
          30082.27,
          29898.83,
          30235.26,
          30210.8,
          30129.33,
          30107.78,
          29981.07,
          30070.39,
          30217.9,
          30351.09,
          30364.22,
          30340,
          30336.7,
          30383.1
         ],
         "low": [
          30710.57,
          30695,
          30528,
          30366.87,
          30316.29,
          30275,
          30055,
          29852.5,
          29959.41,
          30040.08,
          30104.33,
          30099.38,
          30184.1,
          30081.55,
          29976.01,
          30090.57,
          30103.68,
          30030.33,
          29949.13,
          29500,
          29308.01,
          29472.4,
          29581.84,
          29639.21,
          29612.76,
          29552.3,
          29492.73,
          29507.01,
          29632.11,
          29699.01,
          29711.32,
          29783.24,
          29783.45,
          29756.28,
          29662.92,
          29587.6,
          29558.61,
          29605.96,
          29613.9,
          29725.84,
          29718.91,
          29788.08,
          29758.15,
          29797.01,
          29761.67,
          29764.8,
          29730.96,
          29721.41,
          29708.51,
          29676.6,
          29652.32,
          29622,
          29725.62,
          29767.17,
          29678.09,
          29651.75,
          29718.92,
          29805.72,
          29845.11,
          29803.35,
          29787.16,
          29842.97,
          29895.76,
          29882.06,
          29934.2,
          29937.13,
          29887.3,
          29916,
          29926.86,
          29917.43,
          29891.51,
          29919.9,
          29847.5,
          29873.18,
          29910.93,
          29886.35,
          29886.35,
          29840.2,
          29936.81,
          29966.67,
          30019.6,
          30048,
          30077.98,
          30058.24,
          30023.17,
          30028.51,
          29685.15,
          29577,
          29685.57,
          29735.77,
          29837.11,
          29746.54,
          29805.18,
          29893.04,
          30017.19,
          30120.79,
          30184.43,
          30153.36,
          30161.9,
          30162.46
         ],
         "open": [
          30891.6,
          30755.79,
          30715.33,
          30601.93,
          30373.23,
          30402.63,
          30396.82,
          30241.19,
          30027.64,
          30116.62,
          30152.34,
          30177.71,
          30313.8,
          30389.43,
          30130.15,
          30174.11,
          30131.41,
          30282.99,
          30092.32,
          30003.16,
          29593.43,
          29494.32,
          29619.69,
          29723.67,
          29692.05,
          29700.74,
          29570,
          29528.95,
          29681.38,
          29709.02,
          29733.58,
          29893.16,
          29888.5,
          29804.39,
          29789.19,
          29671.21,
          29745.93,
          29659.32,
          29658.84,
          29774.9,
          29740.72,
          29807.7,
          29794.4,
          29835.89,
          29813.13,
          29823.96,
          29806.23,
          29754,
          29768.85,
          29755.98,
          29707.73,
          29655.71,
          29727.58,
          29785.09,
          29790.97,
          29678.17,
          29718.92,
          29841.73,
          29851.86,
          29850.75,
          29818.64,
          29844.51,
          29899.07,
          29909.93,
          30040.79,
          29993.92,
          29946.91,
          29935.08,
          29952.38,
          29933.96,
          29917.48,
          29930.03,
          29974.13,
          29895.19,
          29913.85,
          29954.4,
          29896.7,
          30045.06,
          30014.54,
          30006.23,
          30087.16,
          30069.21,
          30154.11,
          30095.84,
          30099.74,
          30046.68,
          30074.14,
          29734.45,
          29824.74,
          30199,
          29874.34,
          30062.5,
          29849.73,
          29958.49,
          30036.18,
          30194.98,
          30282.62,
          30292.75,
          30189.69,
          30318.07
         ],
         "type": "candlestick",
         "x": [
          0,
          1,
          2,
          3,
          4,
          5,
          6,
          7,
          8,
          9,
          10,
          11,
          12,
          13,
          14,
          15,
          16,
          17,
          18,
          19,
          20,
          21,
          22,
          23,
          24,
          25,
          26,
          27,
          28,
          29,
          30,
          31,
          32,
          33,
          34,
          35,
          36,
          37,
          38,
          39,
          40,
          41,
          42,
          43,
          44,
          45,
          46,
          47,
          48,
          49,
          50,
          51,
          52,
          53,
          54,
          55,
          56,
          57,
          58,
          59,
          60,
          61,
          62,
          63,
          64,
          65,
          66,
          67,
          68,
          69,
          70,
          71,
          72,
          73,
          74,
          75,
          76,
          77,
          78,
          79,
          80,
          81,
          82,
          83,
          84,
          85,
          86,
          87,
          88,
          89,
          90,
          91,
          92,
          93,
          94,
          95,
          96,
          97,
          98,
          99
         ]
        }
       ],
       "layout": {
        "annotations": [
         {
          "arrowcolor": "red",
          "arrowhead": 2,
          "arrowsize": 1,
          "arrowwidth": 2,
          "ax": 7,
          "axref": "x",
          "ay": 29772.5,
          "ayref": "y",
          "showarrow": true,
          "text": "",
          "x": 7,
          "xref": "x",
          "y": 29822.5,
          "yref": "y"
         },
         {
          "arrowcolor": "green",
          "arrowhead": 2,
          "arrowsize": 1,
          "arrowwidth": 2,
          "ax": 12,
          "axref": "x",
          "ay": 30438.49,
          "ayref": "y",
          "showarrow": true,
          "text": "",
          "x": 12,
          "xref": "x",
          "y": 30488.49,
          "yref": "y"
         },
         {
          "arrowcolor": "red",
          "arrowhead": 2,
          "arrowsize": 1,
          "arrowwidth": 2,
          "ax": 14,
          "axref": "x",
          "ay": 29896.01,
          "ayref": "y",
          "showarrow": true,
          "text": "",
          "x": 14,
          "xref": "x",
          "y": 29946.01,
          "yref": "y"
         },
         {
          "arrowcolor": "green",
          "arrowhead": 2,
          "arrowsize": 1,
          "arrowwidth": 2,
          "ax": 16,
          "axref": "x",
          "ay": 30352.16,
          "ayref": "y",
          "showarrow": true,
          "text": "",
          "x": 16,
          "xref": "x",
          "y": 30402.16,
          "yref": "y"
         },
         {
          "arrowcolor": "red",
          "arrowhead": 2,
          "arrowsize": 1,
          "arrowwidth": 2,
          "ax": 20,
          "axref": "x",
          "ay": 29228.01,
          "ayref": "y",
          "showarrow": true,
          "text": "",
          "x": 20,
          "xref": "x",
          "y": 29278.01,
          "yref": "y"
         },
         {
          "arrowcolor": "green",
          "arrowhead": 2,
          "arrowsize": 1,
          "arrowwidth": 2,
          "ax": 22,
          "axref": "x",
          "ay": 29788.27,
          "ayref": "y",
          "showarrow": true,
          "text": "",
          "x": 22,
          "xref": "x",
          "y": 29838.27,
          "yref": "y"
         },
         {
          "arrowcolor": "red",
          "arrowhead": 2,
          "arrowsize": 1,
          "arrowwidth": 2,
          "ax": 26,
          "axref": "x",
          "ay": 29412.73,
          "ayref": "y",
          "showarrow": true,
          "text": "",
          "x": 26,
          "xref": "x",
          "y": 29462.73,
          "yref": "y"
         },
         {
          "arrowcolor": "green",
          "arrowhead": 2,
          "arrowsize": 1,
          "arrowwidth": 2,
          "ax": 30,
          "axref": "x",
          "ay": 30074.97,
          "ayref": "y",
          "showarrow": true,
          "text": "",
          "x": 30,
          "xref": "x",
          "y": 30124.97,
          "yref": "y"
         },
         {
          "arrowcolor": "red",
          "arrowhead": 2,
          "arrowsize": 1,
          "arrowwidth": 2,
          "ax": 36,
          "axref": "x",
          "ay": 29478.61,
          "ayref": "y",
          "showarrow": true,
          "text": "",
          "x": 36,
          "xref": "x",
          "y": 29528.61,
          "yref": "y"
         },
         {
          "arrowcolor": "green",
          "arrowhead": 2,
          "arrowsize": 1,
          "arrowwidth": 2,
          "ax": 40,
          "axref": "x",
          "ay": 29895.6,
          "ayref": "y",
          "showarrow": true,
          "text": "",
          "x": 40,
          "xref": "x",
          "y": 29945.6,
          "yref": "y"
         },
         {
          "arrowcolor": "green",
          "arrowhead": 2,
          "arrowsize": 1,
          "arrowwidth": 2,
          "ax": 44,
          "axref": "x",
          "ay": 29914.3,
          "ayref": "y",
          "showarrow": true,
          "text": "",
          "x": 44,
          "xref": "x",
          "y": 29964.3,
          "yref": "y"
         },
         {
          "arrowcolor": "red",
          "arrowhead": 2,
          "arrowsize": 1,
          "arrowwidth": 2,
          "ax": 51,
          "axref": "x",
          "ay": 29542,
          "ayref": "y",
          "showarrow": true,
          "text": "",
          "x": 51,
          "xref": "x",
          "y": 29592,
          "yref": "y"
         },
         {
          "arrowcolor": "green",
          "arrowhead": 2,
          "arrowsize": 1,
          "arrowwidth": 2,
          "ax": 52,
          "axref": "x",
          "ay": 29830,
          "ayref": "y",
          "showarrow": true,
          "text": "",
          "x": 52,
          "xref": "x",
          "y": 29880,
          "yref": "y"
         },
         {
          "arrowcolor": "red",
          "arrowhead": 2,
          "arrowsize": 1,
          "arrowwidth": 2,
          "ax": 55,
          "axref": "x",
          "ay": 29571.75,
          "ayref": "y",
          "showarrow": true,
          "text": "",
          "x": 55,
          "xref": "x",
          "y": 29621.75,
          "yref": "y"
         },
         {
          "arrowcolor": "green",
          "arrowhead": 2,
          "arrowsize": 1,
          "arrowwidth": 2,
          "ax": 57,
          "axref": "x",
          "ay": 29898.6,
          "ayref": "y",
          "showarrow": true,
          "text": "",
          "x": 57,
          "xref": "x",
          "y": 29948.6,
          "yref": "y"
         },
         {
          "arrowcolor": "red",
          "arrowhead": 2,
          "arrowsize": 1,
          "arrowwidth": 2,
          "ax": 60,
          "axref": "x",
          "ay": 29707.16,
          "ayref": "y",
          "showarrow": true,
          "text": "",
          "x": 60,
          "xref": "x",
          "y": 29757.16,
          "yref": "y"
         },
         {
          "arrowcolor": "green",
          "arrowhead": 2,
          "arrowsize": 1,
          "arrowwidth": 2,
          "ax": 63,
          "axref": "x",
          "ay": 30126.09,
          "ayref": "y",
          "showarrow": true,
          "text": "",
          "x": 63,
          "xref": "x",
          "y": 30176.09,
          "yref": "y"
         },
         {
          "arrowcolor": "red",
          "arrowhead": 2,
          "arrowsize": 1,
          "arrowwidth": 2,
          "ax": 66,
          "axref": "x",
          "ay": 29807.3,
          "ayref": "y",
          "showarrow": true,
          "text": "",
          "x": 66,
          "xref": "x",
          "y": 29857.3,
          "yref": "y"
         },
         {
          "arrowcolor": "green",
          "arrowhead": 2,
          "arrowsize": 1,
          "arrowwidth": 2,
          "ax": 67,
          "axref": "x",
          "ay": 30029,
          "ayref": "y",
          "showarrow": true,
          "text": "",
          "x": 67,
          "xref": "x",
          "y": 30079,
          "yref": "y"
         },
         {
          "arrowcolor": "green",
          "arrowhead": 2,
          "arrowsize": 1,
          "arrowwidth": 2,
          "ax": 72,
          "axref": "x",
          "ay": 30032.31,
          "ayref": "y",
          "showarrow": true,
          "text": "",
          "x": 72,
          "xref": "x",
          "y": 30082.31,
          "yref": "y"
         },
         {
          "arrowcolor": "red",
          "arrowhead": 2,
          "arrowsize": 1,
          "arrowwidth": 2,
          "ax": 72,
          "axref": "x",
          "ay": 29767.5,
          "ayref": "y",
          "showarrow": true,
          "text": "",
          "x": 72,
          "xref": "x",
          "y": 29817.5,
          "yref": "y"
         },
         {
          "arrowcolor": "green",
          "arrowhead": 2,
          "arrowsize": 1,
          "arrowwidth": 2,
          "ax": 77,
          "axref": "x",
          "ay": 30176.81,
          "ayref": "y",
          "showarrow": true,
          "text": "",
          "x": 77,
          "xref": "x",
          "y": 30226.81,
          "yref": "y"
         },
         {
          "arrowcolor": "red",
          "arrowhead": 2,
          "arrowsize": 1,
          "arrowwidth": 2,
          "ax": 77,
          "axref": "x",
          "ay": 29760.2,
          "ayref": "y",
          "showarrow": true,
          "text": "",
          "x": 77,
          "xref": "x",
          "y": 29810.2,
          "yref": "y"
         },
         {
          "arrowcolor": "green",
          "arrowhead": 2,
          "arrowsize": 1,
          "arrowwidth": 2,
          "ax": 81,
          "axref": "x",
          "ay": 30221,
          "ayref": "y",
          "showarrow": true,
          "text": "",
          "x": 81,
          "xref": "x",
          "y": 30271,
          "yref": "y"
         },
         {
          "arrowcolor": "red",
          "arrowhead": 2,
          "arrowsize": 1,
          "arrowwidth": 2,
          "ax": 87,
          "axref": "x",
          "ay": 29497,
          "ayref": "y",
          "showarrow": true,
          "text": "",
          "x": 87,
          "xref": "x",
          "y": 29547,
          "yref": "y"
         },
         {
          "arrowcolor": "green",
          "arrowhead": 2,
          "arrowsize": 1,
          "arrowwidth": 2,
          "ax": 88,
          "axref": "x",
          "ay": 30265.26,
          "ayref": "y",
          "showarrow": true,
          "text": "",
          "x": 88,
          "xref": "x",
          "y": 30315.26,
          "yref": "y"
         },
         {
          "arrowcolor": "green",
          "arrowhead": 2,
          "arrowsize": 1,
          "arrowwidth": 2,
          "ax": 96,
          "axref": "x",
          "ay": 30394.22,
          "ayref": "y",
          "showarrow": true,
          "text": "",
          "x": 96,
          "xref": "x",
          "y": 30444.22,
          "yref": "y"
         }
        ],
        "plot_bgcolor": "#000000",
        "shapes": [
         {
          "line": {
           "color": "Yellow"
          },
          "type": "line",
          "x0": 0,
          "x1": 7,
          "xref": "x",
          "y0": 30891.6,
          "y1": 29852.5,
          "yref": "y"
         },
         {
          "line": {
           "color": "Yellow"
          },
          "type": "line",
          "x0": 7,
          "x1": 12,
          "xref": "x",
          "y0": 29852.5,
          "y1": 30408.49,
          "yref": "y"
         },
         {
          "line": {
           "color": "Yellow"
          },
          "type": "line",
          "x0": 12,
          "x1": 14,
          "xref": "x",
          "y0": 30408.49,
          "y1": 29976.01,
          "yref": "y"
         },
         {
          "line": {
           "color": "Yellow"
          },
          "type": "line",
          "x0": 14,
          "x1": 16,
          "xref": "x",
          "y0": 29976.01,
          "y1": 30322.16,
          "yref": "y"
         },
         {
          "line": {
           "color": "Yellow"
          },
          "type": "line",
          "x0": 16,
          "x1": 20,
          "xref": "x",
          "y0": 30322.16,
          "y1": 29308.01,
          "yref": "y"
         },
         {
          "line": {
           "color": "Yellow"
          },
          "type": "line",
          "x0": 20,
          "x1": 22,
          "xref": "x",
          "y0": 29308.01,
          "y1": 29758.27,
          "yref": "y"
         },
         {
          "line": {
           "color": "Yellow"
          },
          "type": "line",
          "x0": 22,
          "x1": 26,
          "xref": "x",
          "y0": 29758.27,
          "y1": 29492.73,
          "yref": "y"
         },
         {
          "line": {
           "color": "Yellow"
          },
          "type": "line",
          "x0": 26,
          "x1": 30,
          "xref": "x",
          "y0": 29492.73,
          "y1": 30044.97,
          "yref": "y"
         },
         {
          "line": {
           "color": "Yellow"
          },
          "type": "line",
          "x0": 30,
          "x1": 36,
          "xref": "x",
          "y0": 30044.97,
          "y1": 29558.61,
          "yref": "y"
         },
         {
          "line": {
           "color": "Yellow"
          },
          "type": "line",
          "x0": 36,
          "x1": 40,
          "xref": "x",
          "y0": 29558.61,
          "y1": 29865.6,
          "yref": "y"
         },
         {
          "line": {
           "color": "Yellow"
          },
          "type": "line",
          "x0": 40,
          "x1": 44,
          "xref": "x",
          "y0": 29865.6,
          "y1": 29884.3,
          "yref": "y"
         },
         {
          "line": {
           "color": "Yellow"
          },
          "type": "line",
          "x0": 44,
          "x1": 51,
          "xref": "x",
          "y0": 29884.3,
          "y1": 29622,
          "yref": "y"
         },
         {
          "line": {
           "color": "Yellow"
          },
          "type": "line",
          "x0": 51,
          "x1": 52,
          "xref": "x",
          "y0": 29622,
          "y1": 29800,
          "yref": "y"
         },
         {
          "line": {
           "color": "Yellow"
          },
          "type": "line",
          "x0": 52,
          "x1": 55,
          "xref": "x",
          "y0": 29800,
          "y1": 29651.75,
          "yref": "y"
         },
         {
          "line": {
           "color": "Yellow"
          },
          "type": "line",
          "x0": 55,
          "x1": 57,
          "xref": "x",
          "y0": 29651.75,
          "y1": 29868.6,
          "yref": "y"
         },
         {
          "line": {
           "color": "Yellow"
          },
          "type": "line",
          "x0": 57,
          "x1": 60,
          "xref": "x",
          "y0": 29868.6,
          "y1": 29787.16,
          "yref": "y"
         },
         {
          "line": {
           "color": "Yellow"
          },
          "type": "line",
          "x0": 60,
          "x1": 63,
          "xref": "x",
          "y0": 29787.16,
          "y1": 30096.09,
          "yref": "y"
         },
         {
          "line": {
           "color": "Yellow"
          },
          "type": "line",
          "x0": 63,
          "x1": 66,
          "xref": "x",
          "y0": 30096.09,
          "y1": 29887.3,
          "yref": "y"
         },
         {
          "line": {
           "color": "Yellow"
          },
          "type": "line",
          "x0": 66,
          "x1": 67,
          "xref": "x",
          "y0": 29887.3,
          "y1": 29999,
          "yref": "y"
         },
         {
          "line": {
           "color": "Yellow"
          },
          "type": "line",
          "x0": 67,
          "x1": 72,
          "xref": "x",
          "y0": 29999,
          "y1": 29847.5,
          "yref": "y"
         },
         {
          "line": {
           "color": "Yellow"
          },
          "type": "line",
          "x0": 72,
          "x1": 72,
          "xref": "x",
          "y0": 29847.5,
          "y1": 30002.31,
          "yref": "y"
         },
         {
          "line": {
           "color": "Yellow"
          },
          "type": "line",
          "x0": 72,
          "x1": 77,
          "xref": "x",
          "y0": 30002.31,
          "y1": 29840.2,
          "yref": "y"
         },
         {
          "line": {
           "color": "Yellow"
          },
          "type": "line",
          "x0": 77,
          "x1": 77,
          "xref": "x",
          "y0": 29840.2,
          "y1": 30146.81,
          "yref": "y"
         },
         {
          "line": {
           "color": "Yellow"
          },
          "type": "line",
          "x0": 77,
          "x1": 81,
          "xref": "x",
          "y0": 30146.81,
          "y1": 30191,
          "yref": "y"
         },
         {
          "line": {
           "color": "Yellow"
          },
          "type": "line",
          "x0": 81,
          "x1": 87,
          "xref": "x",
          "y0": 30191,
          "y1": 29577,
          "yref": "y"
         },
         {
          "line": {
           "color": "Yellow"
          },
          "type": "line",
          "x0": 87,
          "x1": 88,
          "xref": "x",
          "y0": 29577,
          "y1": 30235.26,
          "yref": "y"
         },
         {
          "line": {
           "color": "Yellow"
          },
          "type": "line",
          "x0": 88,
          "x1": 96,
          "xref": "x",
          "y0": 30235.26,
          "y1": 30364.22,
          "yref": "y"
         },
         {
          "line": {
           "color": "Yellow"
          },
          "type": "line",
          "x0": 96,
          "x1": 96,
          "xref": "x",
          "y0": 30364.22,
          "y1": 30364.22,
          "yref": "y"
         }
        ],
        "template": {
         "data": {
          "bar": [
           {
            "error_x": {
             "color": "#2a3f5f"
            },
            "error_y": {
             "color": "#2a3f5f"
            },
            "marker": {
             "line": {
              "color": "#E5ECF6",
              "width": 0.5
             },
             "pattern": {
              "fillmode": "overlay",
              "size": 10,
              "solidity": 0.2
             }
            },
            "type": "bar"
           }
          ],
          "barpolar": [
           {
            "marker": {
             "line": {
              "color": "#E5ECF6",
              "width": 0.5
             },
             "pattern": {
              "fillmode": "overlay",
              "size": 10,
              "solidity": 0.2
             }
            },
            "type": "barpolar"
           }
          ],
          "carpet": [
           {
            "aaxis": {
             "endlinecolor": "#2a3f5f",
             "gridcolor": "white",
             "linecolor": "white",
             "minorgridcolor": "white",
             "startlinecolor": "#2a3f5f"
            },
            "baxis": {
             "endlinecolor": "#2a3f5f",
             "gridcolor": "white",
             "linecolor": "white",
             "minorgridcolor": "white",
             "startlinecolor": "#2a3f5f"
            },
            "type": "carpet"
           }
          ],
          "choropleth": [
           {
            "colorbar": {
             "outlinewidth": 0,
             "ticks": ""
            },
            "type": "choropleth"
           }
          ],
          "contour": [
           {
            "colorbar": {
             "outlinewidth": 0,
             "ticks": ""
            },
            "colorscale": [
             [
              0,
              "#0d0887"
             ],
             [
              0.1111111111111111,
              "#46039f"
             ],
             [
              0.2222222222222222,
              "#7201a8"
             ],
             [
              0.3333333333333333,
              "#9c179e"
             ],
             [
              0.4444444444444444,
              "#bd3786"
             ],
             [
              0.5555555555555556,
              "#d8576b"
             ],
             [
              0.6666666666666666,
              "#ed7953"
             ],
             [
              0.7777777777777778,
              "#fb9f3a"
             ],
             [
              0.8888888888888888,
              "#fdca26"
             ],
             [
              1,
              "#f0f921"
             ]
            ],
            "type": "contour"
           }
          ],
          "contourcarpet": [
           {
            "colorbar": {
             "outlinewidth": 0,
             "ticks": ""
            },
            "type": "contourcarpet"
           }
          ],
          "heatmap": [
           {
            "colorbar": {
             "outlinewidth": 0,
             "ticks": ""
            },
            "colorscale": [
             [
              0,
              "#0d0887"
             ],
             [
              0.1111111111111111,
              "#46039f"
             ],
             [
              0.2222222222222222,
              "#7201a8"
             ],
             [
              0.3333333333333333,
              "#9c179e"
             ],
             [
              0.4444444444444444,
              "#bd3786"
             ],
             [
              0.5555555555555556,
              "#d8576b"
             ],
             [
              0.6666666666666666,
              "#ed7953"
             ],
             [
              0.7777777777777778,
              "#fb9f3a"
             ],
             [
              0.8888888888888888,
              "#fdca26"
             ],
             [
              1,
              "#f0f921"
             ]
            ],
            "type": "heatmap"
           }
          ],
          "heatmapgl": [
           {
            "colorbar": {
             "outlinewidth": 0,
             "ticks": ""
            },
            "colorscale": [
             [
              0,
              "#0d0887"
             ],
             [
              0.1111111111111111,
              "#46039f"
             ],
             [
              0.2222222222222222,
              "#7201a8"
             ],
             [
              0.3333333333333333,
              "#9c179e"
             ],
             [
              0.4444444444444444,
              "#bd3786"
             ],
             [
              0.5555555555555556,
              "#d8576b"
             ],
             [
              0.6666666666666666,
              "#ed7953"
             ],
             [
              0.7777777777777778,
              "#fb9f3a"
             ],
             [
              0.8888888888888888,
              "#fdca26"
             ],
             [
              1,
              "#f0f921"
             ]
            ],
            "type": "heatmapgl"
           }
          ],
          "histogram": [
           {
            "marker": {
             "pattern": {
              "fillmode": "overlay",
              "size": 10,
              "solidity": 0.2
             }
            },
            "type": "histogram"
           }
          ],
          "histogram2d": [
           {
            "colorbar": {
             "outlinewidth": 0,
             "ticks": ""
            },
            "colorscale": [
             [
              0,
              "#0d0887"
             ],
             [
              0.1111111111111111,
              "#46039f"
             ],
             [
              0.2222222222222222,
              "#7201a8"
             ],
             [
              0.3333333333333333,
              "#9c179e"
             ],
             [
              0.4444444444444444,
              "#bd3786"
             ],
             [
              0.5555555555555556,
              "#d8576b"
             ],
             [
              0.6666666666666666,
              "#ed7953"
             ],
             [
              0.7777777777777778,
              "#fb9f3a"
             ],
             [
              0.8888888888888888,
              "#fdca26"
             ],
             [
              1,
              "#f0f921"
             ]
            ],
            "type": "histogram2d"
           }
          ],
          "histogram2dcontour": [
           {
            "colorbar": {
             "outlinewidth": 0,
             "ticks": ""
            },
            "colorscale": [
             [
              0,
              "#0d0887"
             ],
             [
              0.1111111111111111,
              "#46039f"
             ],
             [
              0.2222222222222222,
              "#7201a8"
             ],
             [
              0.3333333333333333,
              "#9c179e"
             ],
             [
              0.4444444444444444,
              "#bd3786"
             ],
             [
              0.5555555555555556,
              "#d8576b"
             ],
             [
              0.6666666666666666,
              "#ed7953"
             ],
             [
              0.7777777777777778,
              "#fb9f3a"
             ],
             [
              0.8888888888888888,
              "#fdca26"
             ],
             [
              1,
              "#f0f921"
             ]
            ],
            "type": "histogram2dcontour"
           }
          ],
          "mesh3d": [
           {
            "colorbar": {
             "outlinewidth": 0,
             "ticks": ""
            },
            "type": "mesh3d"
           }
          ],
          "parcoords": [
           {
            "line": {
             "colorbar": {
              "outlinewidth": 0,
              "ticks": ""
             }
            },
            "type": "parcoords"
           }
          ],
          "pie": [
           {
            "automargin": true,
            "type": "pie"
           }
          ],
          "scatter": [
           {
            "fillpattern": {
             "fillmode": "overlay",
             "size": 10,
             "solidity": 0.2
            },
            "type": "scatter"
           }
          ],
          "scatter3d": [
           {
            "line": {
             "colorbar": {
              "outlinewidth": 0,
              "ticks": ""
             }
            },
            "marker": {
             "colorbar": {
              "outlinewidth": 0,
              "ticks": ""
             }
            },
            "type": "scatter3d"
           }
          ],
          "scattercarpet": [
           {
            "marker": {
             "colorbar": {
              "outlinewidth": 0,
              "ticks": ""
             }
            },
            "type": "scattercarpet"
           }
          ],
          "scattergeo": [
           {
            "marker": {
             "colorbar": {
              "outlinewidth": 0,
              "ticks": ""
             }
            },
            "type": "scattergeo"
           }
          ],
          "scattergl": [
           {
            "marker": {
             "colorbar": {
              "outlinewidth": 0,
              "ticks": ""
             }
            },
            "type": "scattergl"
           }
          ],
          "scattermapbox": [
           {
            "marker": {
             "colorbar": {
              "outlinewidth": 0,
              "ticks": ""
             }
            },
            "type": "scattermapbox"
           }
          ],
          "scatterpolar": [
           {
            "marker": {
             "colorbar": {
              "outlinewidth": 0,
              "ticks": ""
             }
            },
            "type": "scatterpolar"
           }
          ],
          "scatterpolargl": [
           {
            "marker": {
             "colorbar": {
              "outlinewidth": 0,
              "ticks": ""
             }
            },
            "type": "scatterpolargl"
           }
          ],
          "scatterternary": [
           {
            "marker": {
             "colorbar": {
              "outlinewidth": 0,
              "ticks": ""
             }
            },
            "type": "scatterternary"
           }
          ],
          "surface": [
           {
            "colorbar": {
             "outlinewidth": 0,
             "ticks": ""
            },
            "colorscale": [
             [
              0,
              "#0d0887"
             ],
             [
              0.1111111111111111,
              "#46039f"
             ],
             [
              0.2222222222222222,
              "#7201a8"
             ],
             [
              0.3333333333333333,
              "#9c179e"
             ],
             [
              0.4444444444444444,
              "#bd3786"
             ],
             [
              0.5555555555555556,
              "#d8576b"
             ],
             [
              0.6666666666666666,
              "#ed7953"
             ],
             [
              0.7777777777777778,
              "#fb9f3a"
             ],
             [
              0.8888888888888888,
              "#fdca26"
             ],
             [
              1,
              "#f0f921"
             ]
            ],
            "type": "surface"
           }
          ],
          "table": [
           {
            "cells": {
             "fill": {
              "color": "#EBF0F8"
             },
             "line": {
              "color": "white"
             }
            },
            "header": {
             "fill": {
              "color": "#C8D4E3"
             },
             "line": {
              "color": "white"
             }
            },
            "type": "table"
           }
          ]
         },
         "layout": {
          "annotationdefaults": {
           "arrowcolor": "#2a3f5f",
           "arrowhead": 0,
           "arrowwidth": 1
          },
          "autotypenumbers": "strict",
          "coloraxis": {
           "colorbar": {
            "outlinewidth": 0,
            "ticks": ""
           }
          },
          "colorscale": {
           "diverging": [
            [
             0,
             "#8e0152"
            ],
            [
             0.1,
             "#c51b7d"
            ],
            [
             0.2,
             "#de77ae"
            ],
            [
             0.3,
             "#f1b6da"
            ],
            [
             0.4,
             "#fde0ef"
            ],
            [
             0.5,
             "#f7f7f7"
            ],
            [
             0.6,
             "#e6f5d0"
            ],
            [
             0.7,
             "#b8e186"
            ],
            [
             0.8,
             "#7fbc41"
            ],
            [
             0.9,
             "#4d9221"
            ],
            [
             1,
             "#276419"
            ]
           ],
           "sequential": [
            [
             0,
             "#0d0887"
            ],
            [
             0.1111111111111111,
             "#46039f"
            ],
            [
             0.2222222222222222,
             "#7201a8"
            ],
            [
             0.3333333333333333,
             "#9c179e"
            ],
            [
             0.4444444444444444,
             "#bd3786"
            ],
            [
             0.5555555555555556,
             "#d8576b"
            ],
            [
             0.6666666666666666,
             "#ed7953"
            ],
            [
             0.7777777777777778,
             "#fb9f3a"
            ],
            [
             0.8888888888888888,
             "#fdca26"
            ],
            [
             1,
             "#f0f921"
            ]
           ],
           "sequentialminus": [
            [
             0,
             "#0d0887"
            ],
            [
             0.1111111111111111,
             "#46039f"
            ],
            [
             0.2222222222222222,
             "#7201a8"
            ],
            [
             0.3333333333333333,
             "#9c179e"
            ],
            [
             0.4444444444444444,
             "#bd3786"
            ],
            [
             0.5555555555555556,
             "#d8576b"
            ],
            [
             0.6666666666666666,
             "#ed7953"
            ],
            [
             0.7777777777777778,
             "#fb9f3a"
            ],
            [
             0.8888888888888888,
             "#fdca26"
            ],
            [
             1,
             "#f0f921"
            ]
           ]
          },
          "colorway": [
           "#636efa",
           "#EF553B",
           "#00cc96",
           "#ab63fa",
           "#FFA15A",
           "#19d3f3",
           "#FF6692",
           "#B6E880",
           "#FF97FF",
           "#FECB52"
          ],
          "font": {
           "color": "#2a3f5f"
          },
          "geo": {
           "bgcolor": "white",
           "lakecolor": "white",
           "landcolor": "#E5ECF6",
           "showlakes": true,
           "showland": true,
           "subunitcolor": "white"
          },
          "hoverlabel": {
           "align": "left"
          },
          "hovermode": "closest",
          "mapbox": {
           "style": "light"
          },
          "paper_bgcolor": "white",
          "plot_bgcolor": "#E5ECF6",
          "polar": {
           "angularaxis": {
            "gridcolor": "white",
            "linecolor": "white",
            "ticks": ""
           },
           "bgcolor": "#E5ECF6",
           "radialaxis": {
            "gridcolor": "white",
            "linecolor": "white",
            "ticks": ""
           }
          },
          "scene": {
           "xaxis": {
            "backgroundcolor": "#E5ECF6",
            "gridcolor": "white",
            "gridwidth": 2,
            "linecolor": "white",
            "showbackground": true,
            "ticks": "",
            "zerolinecolor": "white"
           },
           "yaxis": {
            "backgroundcolor": "#E5ECF6",
            "gridcolor": "white",
            "gridwidth": 2,
            "linecolor": "white",
            "showbackground": true,
            "ticks": "",
            "zerolinecolor": "white"
           },
           "zaxis": {
            "backgroundcolor": "#E5ECF6",
            "gridcolor": "white",
            "gridwidth": 2,
            "linecolor": "white",
            "showbackground": true,
            "ticks": "",
            "zerolinecolor": "white"
           }
          },
          "shapedefaults": {
           "line": {
            "color": "#2a3f5f"
           }
          },
          "ternary": {
           "aaxis": {
            "gridcolor": "white",
            "linecolor": "white",
            "ticks": ""
           },
           "baxis": {
            "gridcolor": "white",
            "linecolor": "white",
            "ticks": ""
           },
           "bgcolor": "#E5ECF6",
           "caxis": {
            "gridcolor": "white",
            "linecolor": "white",
            "ticks": ""
           }
          },
          "title": {
           "x": 0.05
          },
          "xaxis": {
           "automargin": true,
           "gridcolor": "white",
           "linecolor": "white",
           "ticks": "",
           "title": {
            "standoff": 15
           },
           "zerolinecolor": "white",
           "zerolinewidth": 2
          },
          "yaxis": {
           "automargin": true,
           "gridcolor": "white",
           "linecolor": "white",
           "ticks": "",
           "title": {
            "standoff": 15
           },
           "zerolinecolor": "white",
           "zerolinewidth": 2
          }
         }
        },
        "xaxis": {
         "rangeslider": {
          "visible": false
         },
         "showgrid": false
        },
        "yaxis": {
         "showgrid": false
        }
       }
      },
      "text/html": [
       "<div>                            <div id=\"4cb256d2-6aec-48ad-a72f-35cd7aacb159\" class=\"plotly-graph-div\" style=\"height:525px; width:100%;\"></div>            <script type=\"text/javascript\">                require([\"plotly\"], function(Plotly) {                    window.PLOTLYENV=window.PLOTLYENV || {};                                    if (document.getElementById(\"4cb256d2-6aec-48ad-a72f-35cd7aacb159\")) {                    Plotly.newPlot(                        \"4cb256d2-6aec-48ad-a72f-35cd7aacb159\",                        [{\"close\":[30755.8,30715.32,30602.19,30375.23,30402.63,30396.82,30242.42,30027.93,30118.99,30152.34,30177.71,30313.8,30389.42,30130.15,30174.11,30131.86,30282.99,30091.42,30003.43,29588.62,29494.33,29623.45,29724.6,29691.86,29696.32,29570.0,29529.67,29680.4,29709.02,29733.57,29893.16,29888.5,29808.26,29788.79,29671.22,29745.94,29659.32,29658.86,29773.87,29740.72,29808.69,29794.4,29835.9,29813.91,29823.96,29806.23,29751.14,29768.85,29755.98,29707.62,29655.8,29727.58,29785.1,29790.97,29678.18,29719.93,29841.75,29851.86,29850.76,29818.64,29844.43,29899.07,29909.93,30046.6,29993.92,29946.92,29937.45,29951.42,29933.96,29917.49,29930.04,29974.55,29895.18,29913.85,29955.58,29896.8,30045.06,30016.63,30006.23,30085.69,30069.11,30153.84,30095.64,30099.74,30044.35,30071.48,29734.54,29824.79,30199.0,29878.75,30061.63,29854.0,29961.98,30038.49,30196.72,30279.15,30290.03,30189.65,30318.08,30240.39],\"high\":[30919.02,30848.21,30718.94,30634.6,30462.0,30447.5,30403.3,30260.61,30215.79,30201.44,30235.26,30378.51,30408.49,30400.5,30199.07,30275.6,30322.16,30290.99,30131.9,30028.85,29610.64,29720.0,29758.27,29730.0,29702.05,29700.74,29597.2,29682.01,29735.55,29757.5,30044.97,29944.27,29898.94,29848.23,29797.5,29747.96,29764.38,29798.5,29789.32,29800.0,29865.6,29862.08,29836.32,29844.55,29884.3,29840.41,29839.48,29827.23,29790.53,29769.03,29747.66,29730.95,29800.0,29799.08,29796.42,29725.59,29850.0,29868.6,29865.93,29852.0,29844.5,29927.18,29968.53,30096.09,30070.06,29993.92,29972.86,29999.0,29989.78,29959.94,29940.76,29977.6,30002.31,29938.78,29955.58,29957.3,30048.01,30146.81,30019.15,30098.87,30104.52,30191.0,30171.31,30148.64,30128.5,30114.0,30082.27,29898.83,30235.26,30210.8,30129.33,30107.78,29981.07,30070.39,30217.9,30351.09,30364.22,30340.0,30336.7,30383.1],\"low\":[30710.57,30695.0,30528.0,30366.87,30316.29,30275.0,30055.0,29852.5,29959.41,30040.08,30104.33,30099.38,30184.1,30081.55,29976.01,30090.57,30103.68,30030.33,29949.13,29500.0,29308.01,29472.4,29581.84,29639.21,29612.76,29552.3,29492.73,29507.01,29632.11,29699.01,29711.32,29783.24,29783.45,29756.28,29662.92,29587.6,29558.61,29605.96,29613.9,29725.84,29718.91,29788.08,29758.15,29797.01,29761.67,29764.8,29730.96,29721.41,29708.51,29676.6,29652.32,29622.0,29725.62,29767.17,29678.09,29651.75,29718.92,29805.72,29845.11,29803.35,29787.16,29842.97,29895.76,29882.06,29934.2,29937.13,29887.3,29916.0,29926.86,29917.43,29891.51,29919.9,29847.5,29873.18,29910.93,29886.35,29886.35,29840.2,29936.81,29966.67,30019.6,30048.0,30077.98,30058.24,30023.17,30028.51,29685.15,29577.0,29685.57,29735.77,29837.11,29746.54,29805.18,29893.04,30017.19,30120.79,30184.43,30153.36,30161.9,30162.46],\"open\":[30891.6,30755.79,30715.33,30601.93,30373.23,30402.63,30396.82,30241.19,30027.64,30116.62,30152.34,30177.71,30313.8,30389.43,30130.15,30174.11,30131.41,30282.99,30092.32,30003.16,29593.43,29494.32,29619.69,29723.67,29692.05,29700.74,29570.0,29528.95,29681.38,29709.02,29733.58,29893.16,29888.5,29804.39,29789.19,29671.21,29745.93,29659.32,29658.84,29774.9,29740.72,29807.7,29794.4,29835.89,29813.13,29823.96,29806.23,29754.0,29768.85,29755.98,29707.73,29655.71,29727.58,29785.09,29790.97,29678.17,29718.92,29841.73,29851.86,29850.75,29818.64,29844.51,29899.07,29909.93,30040.79,29993.92,29946.91,29935.08,29952.38,29933.96,29917.48,29930.03,29974.13,29895.19,29913.85,29954.4,29896.7,30045.06,30014.54,30006.23,30087.16,30069.21,30154.11,30095.84,30099.74,30046.68,30074.14,29734.45,29824.74,30199.0,29874.34,30062.5,29849.73,29958.49,30036.18,30194.98,30282.62,30292.75,30189.69,30318.07],\"x\":[0,1,2,3,4,5,6,7,8,9,10,11,12,13,14,15,16,17,18,19,20,21,22,23,24,25,26,27,28,29,30,31,32,33,34,35,36,37,38,39,40,41,42,43,44,45,46,47,48,49,50,51,52,53,54,55,56,57,58,59,60,61,62,63,64,65,66,67,68,69,70,71,72,73,74,75,76,77,78,79,80,81,82,83,84,85,86,87,88,89,90,91,92,93,94,95,96,97,98,99],\"type\":\"candlestick\"}],                        {\"template\":{\"data\":{\"histogram2dcontour\":[{\"type\":\"histogram2dcontour\",\"colorbar\":{\"outlinewidth\":0,\"ticks\":\"\"},\"colorscale\":[[0.0,\"#0d0887\"],[0.1111111111111111,\"#46039f\"],[0.2222222222222222,\"#7201a8\"],[0.3333333333333333,\"#9c179e\"],[0.4444444444444444,\"#bd3786\"],[0.5555555555555556,\"#d8576b\"],[0.6666666666666666,\"#ed7953\"],[0.7777777777777778,\"#fb9f3a\"],[0.8888888888888888,\"#fdca26\"],[1.0,\"#f0f921\"]]}],\"choropleth\":[{\"type\":\"choropleth\",\"colorbar\":{\"outlinewidth\":0,\"ticks\":\"\"}}],\"histogram2d\":[{\"type\":\"histogram2d\",\"colorbar\":{\"outlinewidth\":0,\"ticks\":\"\"},\"colorscale\":[[0.0,\"#0d0887\"],[0.1111111111111111,\"#46039f\"],[0.2222222222222222,\"#7201a8\"],[0.3333333333333333,\"#9c179e\"],[0.4444444444444444,\"#bd3786\"],[0.5555555555555556,\"#d8576b\"],[0.6666666666666666,\"#ed7953\"],[0.7777777777777778,\"#fb9f3a\"],[0.8888888888888888,\"#fdca26\"],[1.0,\"#f0f921\"]]}],\"heatmap\":[{\"type\":\"heatmap\",\"colorbar\":{\"outlinewidth\":0,\"ticks\":\"\"},\"colorscale\":[[0.0,\"#0d0887\"],[0.1111111111111111,\"#46039f\"],[0.2222222222222222,\"#7201a8\"],[0.3333333333333333,\"#9c179e\"],[0.4444444444444444,\"#bd3786\"],[0.5555555555555556,\"#d8576b\"],[0.6666666666666666,\"#ed7953\"],[0.7777777777777778,\"#fb9f3a\"],[0.8888888888888888,\"#fdca26\"],[1.0,\"#f0f921\"]]}],\"heatmapgl\":[{\"type\":\"heatmapgl\",\"colorbar\":{\"outlinewidth\":0,\"ticks\":\"\"},\"colorscale\":[[0.0,\"#0d0887\"],[0.1111111111111111,\"#46039f\"],[0.2222222222222222,\"#7201a8\"],[0.3333333333333333,\"#9c179e\"],[0.4444444444444444,\"#bd3786\"],[0.5555555555555556,\"#d8576b\"],[0.6666666666666666,\"#ed7953\"],[0.7777777777777778,\"#fb9f3a\"],[0.8888888888888888,\"#fdca26\"],[1.0,\"#f0f921\"]]}],\"contourcarpet\":[{\"type\":\"contourcarpet\",\"colorbar\":{\"outlinewidth\":0,\"ticks\":\"\"}}],\"contour\":[{\"type\":\"contour\",\"colorbar\":{\"outlinewidth\":0,\"ticks\":\"\"},\"colorscale\":[[0.0,\"#0d0887\"],[0.1111111111111111,\"#46039f\"],[0.2222222222222222,\"#7201a8\"],[0.3333333333333333,\"#9c179e\"],[0.4444444444444444,\"#bd3786\"],[0.5555555555555556,\"#d8576b\"],[0.6666666666666666,\"#ed7953\"],[0.7777777777777778,\"#fb9f3a\"],[0.8888888888888888,\"#fdca26\"],[1.0,\"#f0f921\"]]}],\"surface\":[{\"type\":\"surface\",\"colorbar\":{\"outlinewidth\":0,\"ticks\":\"\"},\"colorscale\":[[0.0,\"#0d0887\"],[0.1111111111111111,\"#46039f\"],[0.2222222222222222,\"#7201a8\"],[0.3333333333333333,\"#9c179e\"],[0.4444444444444444,\"#bd3786\"],[0.5555555555555556,\"#d8576b\"],[0.6666666666666666,\"#ed7953\"],[0.7777777777777778,\"#fb9f3a\"],[0.8888888888888888,\"#fdca26\"],[1.0,\"#f0f921\"]]}],\"mesh3d\":[{\"type\":\"mesh3d\",\"colorbar\":{\"outlinewidth\":0,\"ticks\":\"\"}}],\"scatter\":[{\"fillpattern\":{\"fillmode\":\"overlay\",\"size\":10,\"solidity\":0.2},\"type\":\"scatter\"}],\"parcoords\":[{\"type\":\"parcoords\",\"line\":{\"colorbar\":{\"outlinewidth\":0,\"ticks\":\"\"}}}],\"scatterpolargl\":[{\"type\":\"scatterpolargl\",\"marker\":{\"colorbar\":{\"outlinewidth\":0,\"ticks\":\"\"}}}],\"bar\":[{\"error_x\":{\"color\":\"#2a3f5f\"},\"error_y\":{\"color\":\"#2a3f5f\"},\"marker\":{\"line\":{\"color\":\"#E5ECF6\",\"width\":0.5},\"pattern\":{\"fillmode\":\"overlay\",\"size\":10,\"solidity\":0.2}},\"type\":\"bar\"}],\"scattergeo\":[{\"type\":\"scattergeo\",\"marker\":{\"colorbar\":{\"outlinewidth\":0,\"ticks\":\"\"}}}],\"scatterpolar\":[{\"type\":\"scatterpolar\",\"marker\":{\"colorbar\":{\"outlinewidth\":0,\"ticks\":\"\"}}}],\"histogram\":[{\"marker\":{\"pattern\":{\"fillmode\":\"overlay\",\"size\":10,\"solidity\":0.2}},\"type\":\"histogram\"}],\"scattergl\":[{\"type\":\"scattergl\",\"marker\":{\"colorbar\":{\"outlinewidth\":0,\"ticks\":\"\"}}}],\"scatter3d\":[{\"type\":\"scatter3d\",\"line\":{\"colorbar\":{\"outlinewidth\":0,\"ticks\":\"\"}},\"marker\":{\"colorbar\":{\"outlinewidth\":0,\"ticks\":\"\"}}}],\"scattermapbox\":[{\"type\":\"scattermapbox\",\"marker\":{\"colorbar\":{\"outlinewidth\":0,\"ticks\":\"\"}}}],\"scatterternary\":[{\"type\":\"scatterternary\",\"marker\":{\"colorbar\":{\"outlinewidth\":0,\"ticks\":\"\"}}}],\"scattercarpet\":[{\"type\":\"scattercarpet\",\"marker\":{\"colorbar\":{\"outlinewidth\":0,\"ticks\":\"\"}}}],\"carpet\":[{\"aaxis\":{\"endlinecolor\":\"#2a3f5f\",\"gridcolor\":\"white\",\"linecolor\":\"white\",\"minorgridcolor\":\"white\",\"startlinecolor\":\"#2a3f5f\"},\"baxis\":{\"endlinecolor\":\"#2a3f5f\",\"gridcolor\":\"white\",\"linecolor\":\"white\",\"minorgridcolor\":\"white\",\"startlinecolor\":\"#2a3f5f\"},\"type\":\"carpet\"}],\"table\":[{\"cells\":{\"fill\":{\"color\":\"#EBF0F8\"},\"line\":{\"color\":\"white\"}},\"header\":{\"fill\":{\"color\":\"#C8D4E3\"},\"line\":{\"color\":\"white\"}},\"type\":\"table\"}],\"barpolar\":[{\"marker\":{\"line\":{\"color\":\"#E5ECF6\",\"width\":0.5},\"pattern\":{\"fillmode\":\"overlay\",\"size\":10,\"solidity\":0.2}},\"type\":\"barpolar\"}],\"pie\":[{\"automargin\":true,\"type\":\"pie\"}]},\"layout\":{\"autotypenumbers\":\"strict\",\"colorway\":[\"#636efa\",\"#EF553B\",\"#00cc96\",\"#ab63fa\",\"#FFA15A\",\"#19d3f3\",\"#FF6692\",\"#B6E880\",\"#FF97FF\",\"#FECB52\"],\"font\":{\"color\":\"#2a3f5f\"},\"hovermode\":\"closest\",\"hoverlabel\":{\"align\":\"left\"},\"paper_bgcolor\":\"white\",\"plot_bgcolor\":\"#E5ECF6\",\"polar\":{\"bgcolor\":\"#E5ECF6\",\"angularaxis\":{\"gridcolor\":\"white\",\"linecolor\":\"white\",\"ticks\":\"\"},\"radialaxis\":{\"gridcolor\":\"white\",\"linecolor\":\"white\",\"ticks\":\"\"}},\"ternary\":{\"bgcolor\":\"#E5ECF6\",\"aaxis\":{\"gridcolor\":\"white\",\"linecolor\":\"white\",\"ticks\":\"\"},\"baxis\":{\"gridcolor\":\"white\",\"linecolor\":\"white\",\"ticks\":\"\"},\"caxis\":{\"gridcolor\":\"white\",\"linecolor\":\"white\",\"ticks\":\"\"}},\"coloraxis\":{\"colorbar\":{\"outlinewidth\":0,\"ticks\":\"\"}},\"colorscale\":{\"sequential\":[[0.0,\"#0d0887\"],[0.1111111111111111,\"#46039f\"],[0.2222222222222222,\"#7201a8\"],[0.3333333333333333,\"#9c179e\"],[0.4444444444444444,\"#bd3786\"],[0.5555555555555556,\"#d8576b\"],[0.6666666666666666,\"#ed7953\"],[0.7777777777777778,\"#fb9f3a\"],[0.8888888888888888,\"#fdca26\"],[1.0,\"#f0f921\"]],\"sequentialminus\":[[0.0,\"#0d0887\"],[0.1111111111111111,\"#46039f\"],[0.2222222222222222,\"#7201a8\"],[0.3333333333333333,\"#9c179e\"],[0.4444444444444444,\"#bd3786\"],[0.5555555555555556,\"#d8576b\"],[0.6666666666666666,\"#ed7953\"],[0.7777777777777778,\"#fb9f3a\"],[0.8888888888888888,\"#fdca26\"],[1.0,\"#f0f921\"]],\"diverging\":[[0,\"#8e0152\"],[0.1,\"#c51b7d\"],[0.2,\"#de77ae\"],[0.3,\"#f1b6da\"],[0.4,\"#fde0ef\"],[0.5,\"#f7f7f7\"],[0.6,\"#e6f5d0\"],[0.7,\"#b8e186\"],[0.8,\"#7fbc41\"],[0.9,\"#4d9221\"],[1,\"#276419\"]]},\"xaxis\":{\"gridcolor\":\"white\",\"linecolor\":\"white\",\"ticks\":\"\",\"title\":{\"standoff\":15},\"zerolinecolor\":\"white\",\"automargin\":true,\"zerolinewidth\":2},\"yaxis\":{\"gridcolor\":\"white\",\"linecolor\":\"white\",\"ticks\":\"\",\"title\":{\"standoff\":15},\"zerolinecolor\":\"white\",\"automargin\":true,\"zerolinewidth\":2},\"scene\":{\"xaxis\":{\"backgroundcolor\":\"#E5ECF6\",\"gridcolor\":\"white\",\"linecolor\":\"white\",\"showbackground\":true,\"ticks\":\"\",\"zerolinecolor\":\"white\",\"gridwidth\":2},\"yaxis\":{\"backgroundcolor\":\"#E5ECF6\",\"gridcolor\":\"white\",\"linecolor\":\"white\",\"showbackground\":true,\"ticks\":\"\",\"zerolinecolor\":\"white\",\"gridwidth\":2},\"zaxis\":{\"backgroundcolor\":\"#E5ECF6\",\"gridcolor\":\"white\",\"linecolor\":\"white\",\"showbackground\":true,\"ticks\":\"\",\"zerolinecolor\":\"white\",\"gridwidth\":2}},\"shapedefaults\":{\"line\":{\"color\":\"#2a3f5f\"}},\"annotationdefaults\":{\"arrowcolor\":\"#2a3f5f\",\"arrowhead\":0,\"arrowwidth\":1},\"geo\":{\"bgcolor\":\"white\",\"landcolor\":\"#E5ECF6\",\"subunitcolor\":\"white\",\"showland\":true,\"showlakes\":true,\"lakecolor\":\"white\"},\"title\":{\"x\":0.05},\"mapbox\":{\"style\":\"light\"}}},\"shapes\":[{\"line\":{\"color\":\"Yellow\"},\"type\":\"line\",\"x0\":0,\"x1\":7,\"xref\":\"x\",\"y0\":30891.6,\"y1\":29852.5,\"yref\":\"y\"},{\"line\":{\"color\":\"Yellow\"},\"type\":\"line\",\"x0\":7,\"x1\":12,\"xref\":\"x\",\"y0\":29852.5,\"y1\":30408.49,\"yref\":\"y\"},{\"line\":{\"color\":\"Yellow\"},\"type\":\"line\",\"x0\":12,\"x1\":14,\"xref\":\"x\",\"y0\":30408.49,\"y1\":29976.01,\"yref\":\"y\"},{\"line\":{\"color\":\"Yellow\"},\"type\":\"line\",\"x0\":14,\"x1\":16,\"xref\":\"x\",\"y0\":29976.01,\"y1\":30322.16,\"yref\":\"y\"},{\"line\":{\"color\":\"Yellow\"},\"type\":\"line\",\"x0\":16,\"x1\":20,\"xref\":\"x\",\"y0\":30322.16,\"y1\":29308.01,\"yref\":\"y\"},{\"line\":{\"color\":\"Yellow\"},\"type\":\"line\",\"x0\":20,\"x1\":22,\"xref\":\"x\",\"y0\":29308.01,\"y1\":29758.27,\"yref\":\"y\"},{\"line\":{\"color\":\"Yellow\"},\"type\":\"line\",\"x0\":22,\"x1\":26,\"xref\":\"x\",\"y0\":29758.27,\"y1\":29492.73,\"yref\":\"y\"},{\"line\":{\"color\":\"Yellow\"},\"type\":\"line\",\"x0\":26,\"x1\":30,\"xref\":\"x\",\"y0\":29492.73,\"y1\":30044.97,\"yref\":\"y\"},{\"line\":{\"color\":\"Yellow\"},\"type\":\"line\",\"x0\":30,\"x1\":36,\"xref\":\"x\",\"y0\":30044.97,\"y1\":29558.61,\"yref\":\"y\"},{\"line\":{\"color\":\"Yellow\"},\"type\":\"line\",\"x0\":36,\"x1\":40,\"xref\":\"x\",\"y0\":29558.61,\"y1\":29865.6,\"yref\":\"y\"},{\"line\":{\"color\":\"Yellow\"},\"type\":\"line\",\"x0\":40,\"x1\":44,\"xref\":\"x\",\"y0\":29865.6,\"y1\":29884.3,\"yref\":\"y\"},{\"line\":{\"color\":\"Yellow\"},\"type\":\"line\",\"x0\":44,\"x1\":51,\"xref\":\"x\",\"y0\":29884.3,\"y1\":29622.0,\"yref\":\"y\"},{\"line\":{\"color\":\"Yellow\"},\"type\":\"line\",\"x0\":51,\"x1\":52,\"xref\":\"x\",\"y0\":29622.0,\"y1\":29800.0,\"yref\":\"y\"},{\"line\":{\"color\":\"Yellow\"},\"type\":\"line\",\"x0\":52,\"x1\":55,\"xref\":\"x\",\"y0\":29800.0,\"y1\":29651.75,\"yref\":\"y\"},{\"line\":{\"color\":\"Yellow\"},\"type\":\"line\",\"x0\":55,\"x1\":57,\"xref\":\"x\",\"y0\":29651.75,\"y1\":29868.6,\"yref\":\"y\"},{\"line\":{\"color\":\"Yellow\"},\"type\":\"line\",\"x0\":57,\"x1\":60,\"xref\":\"x\",\"y0\":29868.6,\"y1\":29787.16,\"yref\":\"y\"},{\"line\":{\"color\":\"Yellow\"},\"type\":\"line\",\"x0\":60,\"x1\":63,\"xref\":\"x\",\"y0\":29787.16,\"y1\":30096.09,\"yref\":\"y\"},{\"line\":{\"color\":\"Yellow\"},\"type\":\"line\",\"x0\":63,\"x1\":66,\"xref\":\"x\",\"y0\":30096.09,\"y1\":29887.3,\"yref\":\"y\"},{\"line\":{\"color\":\"Yellow\"},\"type\":\"line\",\"x0\":66,\"x1\":67,\"xref\":\"x\",\"y0\":29887.3,\"y1\":29999.0,\"yref\":\"y\"},{\"line\":{\"color\":\"Yellow\"},\"type\":\"line\",\"x0\":67,\"x1\":72,\"xref\":\"x\",\"y0\":29999.0,\"y1\":29847.5,\"yref\":\"y\"},{\"line\":{\"color\":\"Yellow\"},\"type\":\"line\",\"x0\":72,\"x1\":72,\"xref\":\"x\",\"y0\":29847.5,\"y1\":30002.31,\"yref\":\"y\"},{\"line\":{\"color\":\"Yellow\"},\"type\":\"line\",\"x0\":72,\"x1\":77,\"xref\":\"x\",\"y0\":30002.31,\"y1\":29840.2,\"yref\":\"y\"},{\"line\":{\"color\":\"Yellow\"},\"type\":\"line\",\"x0\":77,\"x1\":77,\"xref\":\"x\",\"y0\":29840.2,\"y1\":30146.81,\"yref\":\"y\"},{\"line\":{\"color\":\"Yellow\"},\"type\":\"line\",\"x0\":77,\"x1\":81,\"xref\":\"x\",\"y0\":30146.81,\"y1\":30191.0,\"yref\":\"y\"},{\"line\":{\"color\":\"Yellow\"},\"type\":\"line\",\"x0\":81,\"x1\":87,\"xref\":\"x\",\"y0\":30191.0,\"y1\":29577.0,\"yref\":\"y\"},{\"line\":{\"color\":\"Yellow\"},\"type\":\"line\",\"x0\":87,\"x1\":88,\"xref\":\"x\",\"y0\":29577.0,\"y1\":30235.26,\"yref\":\"y\"},{\"line\":{\"color\":\"Yellow\"},\"type\":\"line\",\"x0\":88,\"x1\":96,\"xref\":\"x\",\"y0\":30235.26,\"y1\":30364.22,\"yref\":\"y\"},{\"line\":{\"color\":\"Yellow\"},\"type\":\"line\",\"x0\":96,\"x1\":96,\"xref\":\"x\",\"y0\":30364.22,\"y1\":30364.22,\"yref\":\"y\"}],\"annotations\":[{\"arrowcolor\":\"red\",\"arrowhead\":2,\"arrowsize\":1,\"arrowwidth\":2,\"ax\":7,\"axref\":\"x\",\"ay\":29772.5,\"ayref\":\"y\",\"showarrow\":true,\"text\":\"\",\"x\":7,\"xref\":\"x\",\"y\":29822.5,\"yref\":\"y\"},{\"arrowcolor\":\"green\",\"arrowhead\":2,\"arrowsize\":1,\"arrowwidth\":2,\"ax\":12,\"axref\":\"x\",\"ay\":30438.49,\"ayref\":\"y\",\"showarrow\":true,\"text\":\"\",\"x\":12,\"xref\":\"x\",\"y\":30488.49,\"yref\":\"y\"},{\"arrowcolor\":\"red\",\"arrowhead\":2,\"arrowsize\":1,\"arrowwidth\":2,\"ax\":14,\"axref\":\"x\",\"ay\":29896.01,\"ayref\":\"y\",\"showarrow\":true,\"text\":\"\",\"x\":14,\"xref\":\"x\",\"y\":29946.01,\"yref\":\"y\"},{\"arrowcolor\":\"green\",\"arrowhead\":2,\"arrowsize\":1,\"arrowwidth\":2,\"ax\":16,\"axref\":\"x\",\"ay\":30352.16,\"ayref\":\"y\",\"showarrow\":true,\"text\":\"\",\"x\":16,\"xref\":\"x\",\"y\":30402.16,\"yref\":\"y\"},{\"arrowcolor\":\"red\",\"arrowhead\":2,\"arrowsize\":1,\"arrowwidth\":2,\"ax\":20,\"axref\":\"x\",\"ay\":29228.01,\"ayref\":\"y\",\"showarrow\":true,\"text\":\"\",\"x\":20,\"xref\":\"x\",\"y\":29278.01,\"yref\":\"y\"},{\"arrowcolor\":\"green\",\"arrowhead\":2,\"arrowsize\":1,\"arrowwidth\":2,\"ax\":22,\"axref\":\"x\",\"ay\":29788.27,\"ayref\":\"y\",\"showarrow\":true,\"text\":\"\",\"x\":22,\"xref\":\"x\",\"y\":29838.27,\"yref\":\"y\"},{\"arrowcolor\":\"red\",\"arrowhead\":2,\"arrowsize\":1,\"arrowwidth\":2,\"ax\":26,\"axref\":\"x\",\"ay\":29412.73,\"ayref\":\"y\",\"showarrow\":true,\"text\":\"\",\"x\":26,\"xref\":\"x\",\"y\":29462.73,\"yref\":\"y\"},{\"arrowcolor\":\"green\",\"arrowhead\":2,\"arrowsize\":1,\"arrowwidth\":2,\"ax\":30,\"axref\":\"x\",\"ay\":30074.97,\"ayref\":\"y\",\"showarrow\":true,\"text\":\"\",\"x\":30,\"xref\":\"x\",\"y\":30124.97,\"yref\":\"y\"},{\"arrowcolor\":\"red\",\"arrowhead\":2,\"arrowsize\":1,\"arrowwidth\":2,\"ax\":36,\"axref\":\"x\",\"ay\":29478.61,\"ayref\":\"y\",\"showarrow\":true,\"text\":\"\",\"x\":36,\"xref\":\"x\",\"y\":29528.61,\"yref\":\"y\"},{\"arrowcolor\":\"green\",\"arrowhead\":2,\"arrowsize\":1,\"arrowwidth\":2,\"ax\":40,\"axref\":\"x\",\"ay\":29895.6,\"ayref\":\"y\",\"showarrow\":true,\"text\":\"\",\"x\":40,\"xref\":\"x\",\"y\":29945.6,\"yref\":\"y\"},{\"arrowcolor\":\"green\",\"arrowhead\":2,\"arrowsize\":1,\"arrowwidth\":2,\"ax\":44,\"axref\":\"x\",\"ay\":29914.3,\"ayref\":\"y\",\"showarrow\":true,\"text\":\"\",\"x\":44,\"xref\":\"x\",\"y\":29964.3,\"yref\":\"y\"},{\"arrowcolor\":\"red\",\"arrowhead\":2,\"arrowsize\":1,\"arrowwidth\":2,\"ax\":51,\"axref\":\"x\",\"ay\":29542.0,\"ayref\":\"y\",\"showarrow\":true,\"text\":\"\",\"x\":51,\"xref\":\"x\",\"y\":29592.0,\"yref\":\"y\"},{\"arrowcolor\":\"green\",\"arrowhead\":2,\"arrowsize\":1,\"arrowwidth\":2,\"ax\":52,\"axref\":\"x\",\"ay\":29830.0,\"ayref\":\"y\",\"showarrow\":true,\"text\":\"\",\"x\":52,\"xref\":\"x\",\"y\":29880.0,\"yref\":\"y\"},{\"arrowcolor\":\"red\",\"arrowhead\":2,\"arrowsize\":1,\"arrowwidth\":2,\"ax\":55,\"axref\":\"x\",\"ay\":29571.75,\"ayref\":\"y\",\"showarrow\":true,\"text\":\"\",\"x\":55,\"xref\":\"x\",\"y\":29621.75,\"yref\":\"y\"},{\"arrowcolor\":\"green\",\"arrowhead\":2,\"arrowsize\":1,\"arrowwidth\":2,\"ax\":57,\"axref\":\"x\",\"ay\":29898.6,\"ayref\":\"y\",\"showarrow\":true,\"text\":\"\",\"x\":57,\"xref\":\"x\",\"y\":29948.6,\"yref\":\"y\"},{\"arrowcolor\":\"red\",\"arrowhead\":2,\"arrowsize\":1,\"arrowwidth\":2,\"ax\":60,\"axref\":\"x\",\"ay\":29707.16,\"ayref\":\"y\",\"showarrow\":true,\"text\":\"\",\"x\":60,\"xref\":\"x\",\"y\":29757.16,\"yref\":\"y\"},{\"arrowcolor\":\"green\",\"arrowhead\":2,\"arrowsize\":1,\"arrowwidth\":2,\"ax\":63,\"axref\":\"x\",\"ay\":30126.09,\"ayref\":\"y\",\"showarrow\":true,\"text\":\"\",\"x\":63,\"xref\":\"x\",\"y\":30176.09,\"yref\":\"y\"},{\"arrowcolor\":\"red\",\"arrowhead\":2,\"arrowsize\":1,\"arrowwidth\":2,\"ax\":66,\"axref\":\"x\",\"ay\":29807.3,\"ayref\":\"y\",\"showarrow\":true,\"text\":\"\",\"x\":66,\"xref\":\"x\",\"y\":29857.3,\"yref\":\"y\"},{\"arrowcolor\":\"green\",\"arrowhead\":2,\"arrowsize\":1,\"arrowwidth\":2,\"ax\":67,\"axref\":\"x\",\"ay\":30029.0,\"ayref\":\"y\",\"showarrow\":true,\"text\":\"\",\"x\":67,\"xref\":\"x\",\"y\":30079.0,\"yref\":\"y\"},{\"arrowcolor\":\"green\",\"arrowhead\":2,\"arrowsize\":1,\"arrowwidth\":2,\"ax\":72,\"axref\":\"x\",\"ay\":30032.31,\"ayref\":\"y\",\"showarrow\":true,\"text\":\"\",\"x\":72,\"xref\":\"x\",\"y\":30082.31,\"yref\":\"y\"},{\"arrowcolor\":\"red\",\"arrowhead\":2,\"arrowsize\":1,\"arrowwidth\":2,\"ax\":72,\"axref\":\"x\",\"ay\":29767.5,\"ayref\":\"y\",\"showarrow\":true,\"text\":\"\",\"x\":72,\"xref\":\"x\",\"y\":29817.5,\"yref\":\"y\"},{\"arrowcolor\":\"green\",\"arrowhead\":2,\"arrowsize\":1,\"arrowwidth\":2,\"ax\":77,\"axref\":\"x\",\"ay\":30176.81,\"ayref\":\"y\",\"showarrow\":true,\"text\":\"\",\"x\":77,\"xref\":\"x\",\"y\":30226.81,\"yref\":\"y\"},{\"arrowcolor\":\"red\",\"arrowhead\":2,\"arrowsize\":1,\"arrowwidth\":2,\"ax\":77,\"axref\":\"x\",\"ay\":29760.2,\"ayref\":\"y\",\"showarrow\":true,\"text\":\"\",\"x\":77,\"xref\":\"x\",\"y\":29810.2,\"yref\":\"y\"},{\"arrowcolor\":\"green\",\"arrowhead\":2,\"arrowsize\":1,\"arrowwidth\":2,\"ax\":81,\"axref\":\"x\",\"ay\":30221.0,\"ayref\":\"y\",\"showarrow\":true,\"text\":\"\",\"x\":81,\"xref\":\"x\",\"y\":30271.0,\"yref\":\"y\"},{\"arrowcolor\":\"red\",\"arrowhead\":2,\"arrowsize\":1,\"arrowwidth\":2,\"ax\":87,\"axref\":\"x\",\"ay\":29497.0,\"ayref\":\"y\",\"showarrow\":true,\"text\":\"\",\"x\":87,\"xref\":\"x\",\"y\":29547.0,\"yref\":\"y\"},{\"arrowcolor\":\"green\",\"arrowhead\":2,\"arrowsize\":1,\"arrowwidth\":2,\"ax\":88,\"axref\":\"x\",\"ay\":30265.26,\"ayref\":\"y\",\"showarrow\":true,\"text\":\"\",\"x\":88,\"xref\":\"x\",\"y\":30315.26,\"yref\":\"y\"},{\"arrowcolor\":\"green\",\"arrowhead\":2,\"arrowsize\":1,\"arrowwidth\":2,\"ax\":96,\"axref\":\"x\",\"ay\":30394.22,\"ayref\":\"y\",\"showarrow\":true,\"text\":\"\",\"x\":96,\"xref\":\"x\",\"y\":30444.22,\"yref\":\"y\"}],\"xaxis\":{\"rangeslider\":{\"visible\":false},\"showgrid\":false},\"plot_bgcolor\":\"#000000\",\"yaxis\":{\"showgrid\":false}},                        {\"responsive\": true}                    ).then(function(){\n",
       "                            \n",
       "var gd = document.getElementById('4cb256d2-6aec-48ad-a72f-35cd7aacb159');\n",
       "var x = new MutationObserver(function (mutations, observer) {{\n",
       "        var display = window.getComputedStyle(gd).display;\n",
       "        if (!display || display === 'none') {{\n",
       "            console.log([gd, 'removed!']);\n",
       "            Plotly.purge(gd);\n",
       "            observer.disconnect();\n",
       "        }}\n",
       "}});\n",
       "\n",
       "// Listen for the removal of the full notebook cells\n",
       "var notebookContainer = gd.closest('#notebook-container');\n",
       "if (notebookContainer) {{\n",
       "    x.observe(notebookContainer, {childList: true});\n",
       "}}\n",
       "\n",
       "// Listen for the clearing of the current output cell\n",
       "var outputEl = gd.closest('.output');\n",
       "if (outputEl) {{\n",
       "    x.observe(outputEl, {childList: true});\n",
       "}}\n",
       "\n",
       "                        })                };                });            </script>        </div>"
      ]
     },
     "metadata": {},
     "output_type": "display_data"
    }
   ],
   "source": [
    "# https://github.com/David-Woroniuk/Historic_Crypto\n",
    "#%pip install Historic-Crypto\n",
    "# from Historic_Crypto import HistoricalData \n",
    "# from Historic_Crypto import Cryptocurrencies\n",
    "# from Historic_Crypto import LiveCryptoData\n",
    "\n",
    "import plotly.graph_objects as go\n",
    "import pandas as pd\n",
    "import numpy as np\n",
    "\n",
    "# from  datetime import datetime\n",
    "# from dateutil.relativedelta import relativedelta\n",
    "\n",
    "# def last_month_date_str():\n",
    "#     dt = datetime.now() - relativedelta(months=1)\n",
    "#     return dt.strftime(\"%Y-%m-%d-%H-%M\")\n",
    "\n",
    "# last_month = last_month_date_str()\n",
    "# # 60, 300, 900, 3600, 21600, 86400\n",
    "#\n",
    "# #create a csv file for testing \n",
    "# df = HistoricalData('BTC-USD',900 ,last_month).retrieve_data()\n",
    "# df.to_csv(\"BTCUSD.csv\")\n",
    "\n",
    "\"\"\"\n",
    " The problem of maxima, it all depends on the considered order.  \n",
    " \n",
    " orderint, optional\n",
    " How many points on each side to use for the comparison to consider comparator(n, n+x) to be True.\n",
    "\"\"\"\n",
    "order=2\n",
    "\n",
    "key_open = \"open\"\n",
    "key_high = \"high\"\n",
    "key_low  = \"low\"\n",
    "key_close = \"close\"\n",
    "\n",
    "key_williams_fractal_up = \"williams_fractal_up\"\n",
    "key_williams_fractal_down = \"williams fractal down\"\n",
    "\n",
    "df = pd.read_csv(\"BTCUSD.csv\")\n",
    "df = df[0:100]\n",
    "\n",
    "def williams_fractal_up(df: pd.DataFrame, key, period: int = order) -> pd.Series:\n",
    "    periods = [p for p in range(-period, period + 1) if p != 0] # default [-2, -1, 1, 2]\n",
    "    highs = [df[key] > df[key].shift(p) for p in periods]\n",
    "    return pd.Series(np.logical_and.reduce(highs), index=df.index)\n",
    "\n",
    "def williams_fractal_down(df: pd.DataFrame, key, period: int = order) -> pd.Series:\n",
    "    periods = [p for p in range(-period, period + 1) if p != 0] # default [-2, -1, 1, 2]\n",
    "    highs = [df[key] < df[key].shift(p) for p in periods]\n",
    "    return pd.Series(np.logical_and.reduce(highs), index=df.index)\n",
    "\n",
    "df[key_williams_fractal_up] = williams_fractal_up(df, key_high)\n",
    "df[key_williams_fractal_down] = williams_fractal_down(df, key_low)\n",
    "\n",
    "fig = go.Figure(data=[go.Candlestick(\n",
    "    x=df.index,\n",
    "    open=df[key_open], \n",
    "    high=df[key_high],\n",
    "    low=df[key_low],  \n",
    "    close=df[key_close]\n",
    ")])\n",
    "\n",
    "def draw_williams_fractals(fig, df):\n",
    "    for index, row in df.iterrows():\n",
    "        if row[key_williams_fractal_up]:\n",
    "            fig.add_annotation(\n",
    "                x=index,\n",
    "                y=(df[key_high][index] + 80) ,\n",
    "                xref=\"x\",\n",
    "                yref=\"y\",\n",
    "                ax=index,\n",
    "                ay= (df[key_high][index] + 30),\n",
    "                axref='x',\n",
    "                ayref='y',\n",
    "                text='',\n",
    "                showarrow=True,\n",
    "                arrowhead=2,\n",
    "                arrowsize=1,\n",
    "                arrowwidth=2,\n",
    "                arrowcolor='green'\n",
    "            )\n",
    "\n",
    "        if row[key_williams_fractal_down] :\n",
    "            fig.add_annotation(\n",
    "                x=index,\n",
    "                y=(df[key_low][index] - 30) ,\n",
    "                xref=\"x\",\n",
    "                yref=\"y\",\n",
    "                ax=index,\n",
    "                ay= (df[key_low][index] - 80),\n",
    "                axref='x',\n",
    "                ayref='y',\n",
    "                text='',\n",
    "                showarrow=True,\n",
    "                arrowhead=2,\n",
    "                arrowsize=1,\n",
    "                arrowwidth=2,\n",
    "                arrowcolor='red'\n",
    "            )\n",
    "\n",
    "from scipy import signal\n",
    "indexes = signal.argrelextrema(df[key_low].values, np.less, order=order)\n",
    "df[\"zigzag_low\"] = False\n",
    "df[\"zigzag_low\"].iloc[indexes] = True\n",
    "\n",
    "indexes = signal.argrelextrema(df[key_high].values, np.greater, order=order)\n",
    "df[\"zigzag_high\"] = False\n",
    "df[\"zigzag_high\"].iloc[indexes] = True\n",
    "\n",
    "coords = [(0, df.loc[0, key_open])]\n",
    "for index, row in df.iterrows():\n",
    "    if row[\"zigzag_low\"]:\n",
    "        x = index\n",
    "        y = row[key_low]\n",
    "        coords.append((x,y,))\n",
    "\n",
    "    if row[\"zigzag_high\"]:\n",
    "        x = index\n",
    "        y = row[key_high]\n",
    "        coords.append((x,y,))\n",
    "\n",
    "\n",
    "for i in range(len(coords)):\n",
    "    try:\n",
    "        a = coords[i]\n",
    "        b = coords[i+1]\n",
    "    except IndexError:\n",
    "        pass\n",
    "    fig.add_shape(\n",
    "        type='line',\n",
    "        x0=a[0],\n",
    "        y0=a[1],\n",
    "        x1=b[0],\n",
    "        y1=b[1],\n",
    "        line=dict(color='Yellow',),\n",
    "        xref='x',\n",
    "        yref='y'\n",
    "    )            \n",
    "            \n",
    "             \n",
    "draw_williams_fractals(fig, df)\n",
    "fig.update_layout(\n",
    "    xaxis_rangeslider_visible=False, \n",
    "    plot_bgcolor='#000000'\n",
    ")\n",
    "fig.update_xaxes(showgrid=False)\n",
    "fig.update_yaxes(showgrid=False)\n",
    "fig.show()\n"
   ]
  },
  {
   "cell_type": "code",
   "execution_count": null,
   "id": "6f9c10c1",
   "metadata": {},
   "outputs": [],
   "source": []
  }
 ],
 "metadata": {
  "kernelspec": {
   "display_name": "Python 3 (ipykernel)",
   "language": "python",
   "name": "python3"
  },
  "language_info": {
   "codemirror_mode": {
    "name": "ipython",
    "version": 3
   },
   "file_extension": ".py",
   "mimetype": "text/x-python",
   "name": "python",
   "nbconvert_exporter": "python",
   "pygments_lexer": "ipython3",
   "version": "3.10.4"
  }
 },
 "nbformat": 4,
 "nbformat_minor": 5
}
