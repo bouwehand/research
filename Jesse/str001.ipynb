{
 "cells": [
  {
   "cell_type": "code",
   "execution_count": 1,
   "id": "4d2775d7",
   "metadata": {},
   "outputs": [
    {
     "ename": "FileNotFoundError",
     "evalue": "Invalid directory: \".env\" file not found. To use Jesse inside notebooks, create notebooks inside the root of a Jesse project.",
     "output_type": "error",
     "traceback": [
      "\u001b[1;31m---------------------------------------------------------------------------\u001b[0m",
      "\u001b[1;31mFileNotFoundError\u001b[0m                         Traceback (most recent call last)",
      "Input \u001b[1;32mIn [1]\u001b[0m, in \u001b[0;36m<cell line: 8>\u001b[1;34m()\u001b[0m\n\u001b[0;32m      5\u001b[0m \u001b[38;5;28;01mfrom\u001b[39;00m \u001b[38;5;21;01mjesse\u001b[39;00m \u001b[38;5;28;01mimport\u001b[39;00m research\n\u001b[0;32m      6\u001b[0m \u001b[38;5;28;01mimport\u001b[39;00m \u001b[38;5;21;01mjesse\u001b[39;00m\u001b[38;5;21;01m.\u001b[39;00m\u001b[38;5;21;01mindicators\u001b[39;00m \u001b[38;5;28;01mas\u001b[39;00m \u001b[38;5;21;01mta\u001b[39;00m\n\u001b[1;32m----> 8\u001b[0m btc_candles \u001b[38;5;241m=\u001b[39m \u001b[43mresearch\u001b[49m\u001b[38;5;241;43m.\u001b[39;49m\u001b[43mget_candles\u001b[49m\u001b[43m(\u001b[49m\u001b[38;5;124;43m'\u001b[39;49m\u001b[38;5;124;43mBinance\u001b[39;49m\u001b[38;5;124;43m'\u001b[39;49m\u001b[43m,\u001b[49m\u001b[43m \u001b[49m\u001b[38;5;124;43m'\u001b[39;49m\u001b[38;5;124;43mBTC-USDT\u001b[39;49m\u001b[38;5;124;43m'\u001b[39;49m\u001b[43m,\u001b[49m\u001b[43m \u001b[49m\u001b[38;5;124;43m'\u001b[39;49m\u001b[38;5;124;43m30m\u001b[39;49m\u001b[38;5;124;43m'\u001b[39;49m\u001b[43m,\u001b[49m\u001b[43m \u001b[49m\u001b[38;5;124;43m'\u001b[39;49m\u001b[38;5;124;43m2021-11-10\u001b[39;49m\u001b[38;5;124;43m'\u001b[39;49m\u001b[43m,\u001b[49m\u001b[43m \u001b[49m\u001b[38;5;124;43m'\u001b[39;49m\u001b[38;5;124;43m2021-11-20\u001b[39;49m\u001b[38;5;124;43m'\u001b[39;49m\u001b[43m)\u001b[49m\n\u001b[0;32m      9\u001b[0m btc_sma_50 \u001b[38;5;241m=\u001b[39m ta\u001b[38;5;241m.\u001b[39msma(btc_candles, \u001b[38;5;241m50\u001b[39m, sequential\u001b[38;5;241m=\u001b[39m\u001b[38;5;28;01mTrue\u001b[39;00m)\n\u001b[0;32m     10\u001b[0m btc_close \u001b[38;5;241m=\u001b[39m btc_candles[:, \u001b[38;5;241m2\u001b[39m]\n",
      "File \u001b[1;32mC:\\Python310\\lib\\site-packages\\jesse\\research\\candles.py:27\u001b[0m, in \u001b[0;36mget_candles\u001b[1;34m(exchange, symbol, timeframe, start_date, finish_date)\u001b[0m\n\u001b[0;32m     25\u001b[0m \u001b[38;5;66;03m# check if .env file exists\u001b[39;00m\n\u001b[0;32m     26\u001b[0m \u001b[38;5;28;01mif\u001b[39;00m \u001b[38;5;129;01mnot\u001b[39;00m jh\u001b[38;5;241m.\u001b[39mis_jesse_project():\n\u001b[1;32m---> 27\u001b[0m     \u001b[38;5;28;01mraise\u001b[39;00m \u001b[38;5;167;01mFileNotFoundError\u001b[39;00m(\n\u001b[0;32m     28\u001b[0m         \u001b[38;5;124m'\u001b[39m\u001b[38;5;124mInvalid directory: \u001b[39m\u001b[38;5;124m\"\u001b[39m\u001b[38;5;124m.env\u001b[39m\u001b[38;5;124m\"\u001b[39m\u001b[38;5;124m file not found. To use Jesse inside notebooks, create notebooks inside the root of a Jesse project.\u001b[39m\u001b[38;5;124m'\u001b[39m\n\u001b[0;32m     29\u001b[0m     )\n\u001b[0;32m     31\u001b[0m symbol \u001b[38;5;241m=\u001b[39m symbol\u001b[38;5;241m.\u001b[39mupper()\n\u001b[0;32m     33\u001b[0m start_date \u001b[38;5;241m=\u001b[39m jh\u001b[38;5;241m.\u001b[39marrow_to_timestamp(arrow\u001b[38;5;241m.\u001b[39mget(start_date, \u001b[38;5;124m'\u001b[39m\u001b[38;5;124mYYYY-MM-DD\u001b[39m\u001b[38;5;124m'\u001b[39m))\n",
      "\u001b[1;31mFileNotFoundError\u001b[0m: Invalid directory: \".env\" file not found. To use Jesse inside notebooks, create notebooks inside the root of a Jesse project."
     ]
    }
   ],
   "source": [
    "from datetime import datetime\n",
    "import matplotlib.pyplot as plt\n",
    "from pandas.plotting import register_matplotlib_converters\n",
    "register_matplotlib_converters()\n",
    "from jesse import research\n",
    "import jesse.indicators as ta\n",
    "\n",
    "btc_candles = research.get_candles('Binance', 'BTC-USDT', '30m', '2021-11-10', '2021-11-20')\n",
    "btc_sma_50 = ta.sma(btc_candles, 50, sequential=True)\n",
    "btc_close = btc_candles[:, 2]\n",
    "\n",
    "# convect timestamps into a format that is supported for plotting\n",
    "times = []\n",
    "for c in btc_candles:\n",
    "    times.append(datetime.fromtimestamp(c[0] / 1000))\n",
    "\n",
    "plt.figure(figsize=(15, 6))\n",
    "plt.plot(times, btc_close, color='blue', label='btc')\n",
    "plt.plot(times, btc_sma_50, color='black', label='SMA 50')\n",
    "plt.legend();"
   ]
  },
  {
   "cell_type": "code",
   "execution_count": null,
   "id": "01875a5e",
   "metadata": {},
   "outputs": [],
   "source": []
  }
 ],
 "metadata": {
  "kernelspec": {
   "display_name": "Python 3 (ipykernel)",
   "language": "python",
   "name": "python3"
  },
  "language_info": {
   "codemirror_mode": {
    "name": "ipython",
    "version": 3
   },
   "file_extension": ".py",
   "mimetype": "text/x-python",
   "name": "python",
   "nbconvert_exporter": "python",
   "pygments_lexer": "ipython3",
   "version": "3.10.4"
  }
 },
 "nbformat": 4,
 "nbformat_minor": 5
}
